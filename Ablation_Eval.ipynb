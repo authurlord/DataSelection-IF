{
 "cells": [
  {
   "cell_type": "markdown",
   "metadata": {},
   "source": [
    "### Evaluation Class for Ablation Study"
   ]
  },
  {
   "cell_type": "markdown",
   "metadata": {},
   "source": [
    "### Task/Dataset\n",
    "- Task: RE\n",
    "- Dataset: RE\n",
    "### Required file\n",
    "- `RE_test`: necessary file for ground truth, may contain multiple tags\n",
    "- `all_relation`: all relation for RE"
   ]
  },
  {
   "cell_type": "code",
   "execution_count": 1,
   "metadata": {},
   "outputs": [],
   "source": [
    "import pandas as pd\n",
    "import numpy as np\n",
    "import ast"
   ]
  },
  {
   "cell_type": "code",
   "execution_count": 5,
   "metadata": {},
   "outputs": [
    {
     "data": {
      "text/plain": [
       "{'init_select': 23.120656490325928,\n",
       " 'init-train': 23.124510049819946,\n",
       " 'batch-division': 46.78419876098633,\n",
       " 'gradient-calculation': 522.2891850471497,\n",
       " 'IF-Score': 570.9214282035828,\n",
       " 'Final Selection': 571.1821782588959,\n",
       " 'Selection fine-tune': 571.1865756511688,\n",
       " 'Selection Inference': 571.1867270469666}"
      ]
     },
     "execution_count": 5,
     "metadata": {},
     "output_type": "execute_result"
    }
   ],
   "source": [
    "time_dict = np.load('eval_result/time_dict_CTA_WebTable_7.npy',allow_pickle=True).item()\n",
    "time_dict"
   ]
  },
  {
   "cell_type": "code",
   "execution_count": 5,
   "metadata": {},
   "outputs": [],
   "source": [
    "all_relation = np.load('train/RE/all_relation.npy',allow_pickle=True)\n",
    "RE_test = pd.read_csv('train/RE/test_RAG.csv',index_col=0)\n"
   ]
  },
  {
   "cell_type": "code",
   "execution_count": 6,
   "metadata": {},
   "outputs": [],
   "source": [
    "SimTab_test = pd.read_csv('inference_Transfer_ER/--RE-test.csv',index_col=0)\n",
    "## Only for RE\n",
    "SimTab_test['index'] = SimTab_test.index\n",
    "def Ast(row):\n",
    "    truth = list(eval(row['output']).values())[0]\n",
    "    try:\n",
    "        pred = list(eval(row['predict']).values())[0]\n",
    "    except:\n",
    "        pred = ''\n",
    "    index = row['index']\n",
    "    return truth, pred, index\n",
    "SimTab_test_Transform = SimTab_test.apply(Ast,axis=1,result_type='expand')"
   ]
  },
  {
   "cell_type": "code",
   "execution_count": 7,
   "metadata": {},
   "outputs": [],
   "source": [
    "SimTab_test_Transform.columns = ['truth','pred','index']\n",
    "count = 0\n",
    "truth_list = []\n",
    "pred_list = []\n",
    "result_metric = {}\n",
    "for i in range(len(SimTab_test_Transform['index'].unique())):\n",
    "    select_df = SimTab_test_Transform[SimTab_test_Transform['index'] == i]\n",
    "    # truth = select_df.iloc[0,0]\n",
    "    truth = eval(RE_test.iloc[i,1])\n",
    "    select_df_filter = select_df[select_df['pred'].isin(all_relation)]\n",
    "    try:\n",
    "        pred = select_df_filter['pred'].value_counts().idxmax()\n",
    "    except:\n",
    "        pred = select_df['pred'].value_counts().idxmax()\n",
    "    truth_list.append(truth)\n",
    "    pred_list.append(pred)\n",
    "    if truth.__contains__(pred):\n",
    "        count += 1\n",
    "    # else:\n",
    "    #     print(truth,select_df['pred'].value_counts().idxmax())\n",
    "result_metric['acc'] = count / len(SimTab_test_Transform['index'].unique())"
   ]
  },
  {
   "cell_type": "code",
   "execution_count": 8,
   "metadata": {},
   "outputs": [
    {
     "data": {
      "text/plain": [
       "{'acc': 0.9005791505791506}"
      ]
     },
     "execution_count": 8,
     "metadata": {},
     "output_type": "execute_result"
    }
   ],
   "source": [
    "result_metric"
   ]
  },
  {
   "cell_type": "code",
   "execution_count": 7,
   "metadata": {},
   "outputs": [],
   "source": [
    "relation_dict = {}\n",
    "\n",
    "for i in range(len(all_relation)):\n",
    "    relation_dict[all_relation[i]] = i"
   ]
  },
  {
   "cell_type": "code",
   "execution_count": 15,
   "metadata": {},
   "outputs": [
    {
     "data": {
      "text/plain": [
       "{'micro_f1': 0.7723509933774834, 'macro_f1': 0.583034467461652}"
      ]
     },
     "execution_count": 15,
     "metadata": {},
     "output_type": "execute_result"
    }
   ],
   "source": [
    "from collections import defaultdict\n",
    "\n",
    "def calculate_f1_scores(pred_list, truth_list):\n",
    "    \"\"\"\n",
    "    根据给定的预测列表和真实值列表计算微平均F1 (micro-F1) 和宏平均F1 (macro-F1)。\n",
    "\n",
    "    这个函数适用于每个预测对应一个真实值列表（其中包含一个或多个正确答案）的场景。\n",
    "\n",
    "    Args:\n",
    "        pred_list (list): 包含 n 个预测元素的列表。\n",
    "        truth_list (list): 包含 n 个列表的列表，每个内层列表包含一个或多个正确的真实值。\n",
    "\n",
    "    Returns:\n",
    "        dict: 一个字典，包含 'micro_f1' 和 'macro_f1' 两个键值对。\n",
    "              {'micro_f1': float, 'macro_f1': float}\n",
    "    \"\"\"\n",
    "    # 步骤 1: 获取所有唯一的类别/标签\n",
    "    all_labels = set(p for p in pred_list) | set(t for tl in truth_list for t in tl)\n",
    "\n",
    "    # 步骤 2: 初始化 TP, FP, FN 计数器\n",
    "    # 使用 defaultdict 可以让代码更简洁，当一个键第一次被访问时，会自动创建默认值（这里是0）。\n",
    "    tp = defaultdict(int)\n",
    "    fp = defaultdict(int)\n",
    "    fn = defaultdict(int)\n",
    "\n",
    "    # 步骤 3: 遍历每个预测和真实值对，填充 TP, FP, FN 计数器\n",
    "    for pred, truths in zip(pred_list, truth_list):\n",
    "        # 检查预测是否正确，来更新 TP 和 FP\n",
    "        # pred: 当前的预测值\n",
    "        # truths: 当前预测值对应的真实值列表\n",
    "        if pred in truths:\n",
    "            # 预测正确，该预测类别的 TP 加 1\n",
    "            tp[pred] += 1\n",
    "        else:\n",
    "            # 预测错误，该预测类别的 FP 加 1\n",
    "            fp[pred] += 1\n",
    "\n",
    "        # 检查是否有漏掉的正确答案，来更新 FN\n",
    "        for true_label in truths:\n",
    "            # 如果真实值列表中的某个标签不等于我们的预测值，\n",
    "            # 那么对于那个标签来说，这是一个 False Negative。\n",
    "            if pred != true_label:\n",
    "                fn[true_label] += 1\n",
    "\n",
    "    # 步骤 4: 计算 Micro-F1 (微平均)\n",
    "    # 首先，全局汇总所有类别的 TP, FP, FN\n",
    "    total_tp = sum(tp.values())\n",
    "    total_fp = sum(fp.values())\n",
    "    total_fn = sum(fn.values())\n",
    "\n",
    "    # 计算微平均 Precision 和 Recall\n",
    "    micro_precision = total_tp / (total_tp + total_fp) if (total_tp + total_fp) > 0 else 0\n",
    "    micro_recall = total_tp / (total_tp + total_fn) if (total_tp + total_fn) > 0 else 0\n",
    "\n",
    "    # 计算微平均 F1\n",
    "    micro_f1 = (2 * micro_precision * micro_recall) / (micro_precision + micro_recall) if (micro_precision + micro_recall) > 0 else 0\n",
    "\n",
    "    # 步骤 5: 计算 Macro-F1 (宏平均)\n",
    "    f1_scores_per_class = []\n",
    "    # 遍历所有出现过的类别\n",
    "    for label in all_labels:\n",
    "        # 获取该类别的 TP, FP, FN\n",
    "        label_tp = tp[label]\n",
    "        label_fp = fp[label]\n",
    "        label_fn = fn[label]\n",
    "\n",
    "        # 计算该类别的 Precision 和 Recall\n",
    "        precision = label_tp / (label_tp + label_fp) if (label_tp + label_fp) > 0 else 0\n",
    "        recall = label_tp / (label_tp + label_fn) if (label_tp + label_fn) > 0 else 0\n",
    "\n",
    "        # 计算该类别的 F1 分数\n",
    "        f1 = (2 * precision * recall) / (precision + recall) if (precision + recall) > 0 else 0\n",
    "        f1_scores_per_class.append(f1)\n",
    "\n",
    "    # 宏平均 F1 是所有类别 F1 分数的算术平均值\n",
    "    macro_f1 = sum(f1_scores_per_class) / len(f1_scores_per_class) if f1_scores_per_class else 0\n",
    "\n",
    "    return {\n",
    "        'micro_f1': micro_f1,\n",
    "        'macro_f1': macro_f1\n",
    "    }\n",
    "f1_metric = calculate_f1_scores(pred_list=pred_list,truth_list=truth_list)\n",
    "for key in f1_metric:\n",
    "    result_metric[key] = f1_metric[key]\n",
    "print(result_metric)"
   ]
  },
  {
   "cell_type": "markdown",
   "metadata": {},
   "source": [
    "## Evaluation for SimTab"
   ]
  },
  {
   "cell_type": "code",
   "execution_count": 1,
   "metadata": {},
   "outputs": [
    {
     "name": "stdout",
     "output_type": "stream",
     "text": [
      "Micro Score: 0.8462549277266754\n",
      "\n",
      "Macro Score: 0.7313185684839995\n"
     ]
    }
   ],
   "source": [
    "from src.evaluation import evaluation\n",
    "evaluator = evaluation()\n",
    "import pandas as pd\n",
    "# SimTab_test = pd.read_csv('inference_Transfer_ER/--SimTab_test_few.csv')\n",
    "# all_metrics = evaluator.process('CTA','SimTab',SimTab_test)"
   ]
  },
  {
   "cell_type": "code",
   "execution_count": 2,
   "metadata": {},
   "outputs": [
    {
     "data": {
      "text/plain": [
       "3364"
      ]
     },
     "execution_count": 2,
     "metadata": {},
     "output_type": "execute_result"
    }
   ],
   "source": [
    "result = pd.read_json('/data/home/wangys/geil/GEIL_Data/beers/correction/test.json')\n",
    "len(result)"
   ]
  },
  {
   "cell_type": "code",
   "execution_count": 6,
   "metadata": {},
   "outputs": [],
   "source": [
    "import numpy as np\n",
    "metrics = np.load('eval_result/mistral-7B-DC-beer.npy',allow_pickle=True).item()\n",
    "# metrics\n",
    "task = 'DC'\n",
    "dataset = 'beer'\n",
    "select_file = pd.read_json('train/{}/{}/train-select.json'.format(task,dataset))"
   ]
  },
  {
   "cell_type": "code",
   "execution_count": 7,
   "metadata": {},
   "outputs": [
    {
     "data": {
      "text/plain": [
       "1305"
      ]
     },
     "execution_count": 7,
     "metadata": {},
     "output_type": "execute_result"
    }
   ],
   "source": [
    "len(select_file)"
   ]
  },
  {
   "cell_type": "code",
   "execution_count": 7,
   "metadata": {},
   "outputs": [],
   "source": [
    "import torch\n",
    "task = 'ER'\n",
    "dataset = 'semi-text-w'\n",
    "sample_IF = torch.load('Influence/{}/{}/score.pkl'.format(task,dataset),weights_only=False)"
   ]
  },
  {
   "cell_type": "code",
   "execution_count": 10,
   "metadata": {},
   "outputs": [],
   "source": [
    "batch_sampler = torch.load('Influence/{}/{}/batch.pkl'.format(task,dataset),weights_only=False)"
   ]
  },
  {
   "cell_type": "code",
   "execution_count": 16,
   "metadata": {},
   "outputs": [
    {
     "ename": "KeyError",
     "evalue": "'prediction'",
     "output_type": "error",
     "traceback": [
      "\u001b[0;31m---------------------------------------------------------------------------\u001b[0m",
      "\u001b[0;31mKeyError\u001b[0m                                  Traceback (most recent call last)",
      "File \u001b[0;32m/data/home/wangys/anaconda3/envs/verl/lib/python3.10/site-packages/pandas/core/indexes/base.py:3805\u001b[0m, in \u001b[0;36mIndex.get_loc\u001b[0;34m(self, key)\u001b[0m\n\u001b[1;32m   3804\u001b[0m \u001b[39mtry\u001b[39;00m:\n\u001b[0;32m-> 3805\u001b[0m     \u001b[39mreturn\u001b[39;00m \u001b[39mself\u001b[39;49m\u001b[39m.\u001b[39;49m_engine\u001b[39m.\u001b[39;49mget_loc(casted_key)\n\u001b[1;32m   3806\u001b[0m \u001b[39mexcept\u001b[39;00m \u001b[39mKeyError\u001b[39;00m \u001b[39mas\u001b[39;00m err:\n",
      "File \u001b[0;32mindex.pyx:167\u001b[0m, in \u001b[0;36mpandas._libs.index.IndexEngine.get_loc\u001b[0;34m()\u001b[0m\n",
      "File \u001b[0;32mindex.pyx:196\u001b[0m, in \u001b[0;36mpandas._libs.index.IndexEngine.get_loc\u001b[0;34m()\u001b[0m\n",
      "File \u001b[0;32mpandas/_libs/hashtable_class_helper.pxi:7081\u001b[0m, in \u001b[0;36mpandas._libs.hashtable.PyObjectHashTable.get_item\u001b[0;34m()\u001b[0m\n",
      "File \u001b[0;32mpandas/_libs/hashtable_class_helper.pxi:7089\u001b[0m, in \u001b[0;36mpandas._libs.hashtable.PyObjectHashTable.get_item\u001b[0;34m()\u001b[0m\n",
      "\u001b[0;31mKeyError\u001b[0m: 'prediction'",
      "\nThe above exception was the direct cause of the following exception:\n",
      "\u001b[0;31mKeyError\u001b[0m                                  Traceback (most recent call last)",
      "Cell \u001b[0;32mIn[16], line 2\u001b[0m\n\u001b[1;32m      1\u001b[0m output_file \u001b[39m=\u001b[39m pd\u001b[39m.\u001b[39mread_csv(\u001b[39m'\u001b[39m\u001b[39moutput/Ablation/qwen2.5-7B-ER-semi-text-w-w-ppl.csv\u001b[39m\u001b[39m'\u001b[39m,index_col\u001b[39m=\u001b[39m\u001b[39m0\u001b[39m)\n\u001b[0;32m----> 2\u001b[0m evaluator\u001b[39m.\u001b[39;49mprocess(\u001b[39m'\u001b[39;49m\u001b[39mER\u001b[39;49m\u001b[39m'\u001b[39;49m,\u001b[39m'\u001b[39;49m\u001b[39msemi-text-w\u001b[39;49m\u001b[39m'\u001b[39;49m,output_file)\n",
      "File \u001b[0;32m/data/home/wangys/DataSelection-IF/src/evaluation.py:456\u001b[0m, in \u001b[0;36mevaluation.process\u001b[0;34m(self, task, dataset, file)\u001b[0m\n\u001b[1;32m    448\u001b[0m \u001b[39m\u001b[39m\u001b[39m\"\"\"\u001b[39;00m\n\u001b[1;32m    449\u001b[0m \u001b[39m根据传入的任务、数据集和文件来决定调用哪个具体函数进行处理\u001b[39;00m\n\u001b[1;32m    450\u001b[0m \u001b[39m参数:\u001b[39;00m\n\u001b[0;32m   (...)\u001b[0m\n\u001b[1;32m    453\u001b[0m \u001b[39m    file: 数据文件（示例中类似DataFrame的结构）\u001b[39;00m\n\u001b[1;32m    454\u001b[0m \u001b[39m\"\"\"\u001b[39;00m\n\u001b[1;32m    455\u001b[0m \u001b[39mif\u001b[39;00m task \u001b[39m==\u001b[39m \u001b[39m'\u001b[39m\u001b[39mER\u001b[39m\u001b[39m'\u001b[39m:\n\u001b[0;32m--> 456\u001b[0m     metrics \u001b[39m=\u001b[39m \u001b[39mself\u001b[39;49m\u001b[39m.\u001b[39;49mhandle_ER(file)\n\u001b[1;32m    457\u001b[0m \u001b[39melif\u001b[39;00m task \u001b[39m==\u001b[39m\u001b[39m'\u001b[39m\u001b[39mCTA\u001b[39m\u001b[39m'\u001b[39m \u001b[39mand\u001b[39;00m dataset\u001b[39m==\u001b[39m\u001b[39m'\u001b[39m\u001b[39mSimTab\u001b[39m\u001b[39m'\u001b[39m:\n\u001b[1;32m    458\u001b[0m     metrics \u001b[39m=\u001b[39m \u001b[39mself\u001b[39m\u001b[39m.\u001b[39mhandle_CTA_SimTab(file)\n",
      "File \u001b[0;32m/data/home/wangys/DataSelection-IF/src/evaluation.py:153\u001b[0m, in \u001b[0;36mevaluation.handle_ER\u001b[0;34m(self, df)\u001b[0m\n\u001b[1;32m    151\u001b[0m \u001b[39m# print(f\"Handling task 'ER' with dataset 'wdc' for data: {df}\")\u001b[39;00m\n\u001b[1;32m    152\u001b[0m result \u001b[39m=\u001b[39m df\n\u001b[0;32m--> 153\u001b[0m result_output \u001b[39m=\u001b[39m result\u001b[39m.\u001b[39;49mapply(Transfer,axis\u001b[39m=\u001b[39;49m\u001b[39m1\u001b[39;49m,result_type\u001b[39m=\u001b[39;49m\u001b[39m'\u001b[39;49m\u001b[39mexpand\u001b[39;49m\u001b[39m'\u001b[39;49m)\n\u001b[1;32m    154\u001b[0m \u001b[39m# 这里可以添加实际对数据的处理逻辑\u001b[39;00m\n\u001b[1;32m    155\u001b[0m \u001b[39mprint\u001b[39m(\u001b[39m'\u001b[39m\u001b[39mPrecision:\u001b[39m\u001b[39m{}\u001b[39;00m\u001b[39m\\n\u001b[39;00m\u001b[39m\\n\u001b[39;00m\u001b[39mRecall:\u001b[39m\u001b[39m{}\u001b[39;00m\u001b[39m\\n\u001b[39;00m\u001b[39m\\n\u001b[39;00m\u001b[39mF1:\u001b[39m\u001b[39m{}\u001b[39;00m\u001b[39m'\u001b[39m\u001b[39m.\u001b[39mformat(\n\u001b[1;32m    156\u001b[0m                                                   precision_score(y_true\u001b[39m=\u001b[39mresult_output[\u001b[39m0\u001b[39m],y_pred\u001b[39m=\u001b[39mresult_output[\u001b[39m1\u001b[39m]),recall_score(y_true\u001b[39m=\u001b[39mresult_output[\u001b[39m0\u001b[39m],y_pred\u001b[39m=\u001b[39mresult_output[\u001b[39m1\u001b[39m]),f1_score(y_true\u001b[39m=\u001b[39mresult_output[\u001b[39m0\u001b[39m],y_pred\u001b[39m=\u001b[39mresult_output[\u001b[39m1\u001b[39m])))\n",
      "File \u001b[0;32m/data/home/wangys/anaconda3/envs/verl/lib/python3.10/site-packages/pandas/core/frame.py:10374\u001b[0m, in \u001b[0;36mDataFrame.apply\u001b[0;34m(self, func, axis, raw, result_type, args, by_row, engine, engine_kwargs, **kwargs)\u001b[0m\n\u001b[1;32m  10360\u001b[0m \u001b[39mfrom\u001b[39;00m\u001b[39m \u001b[39m\u001b[39mpandas\u001b[39;00m\u001b[39m.\u001b[39;00m\u001b[39mcore\u001b[39;00m\u001b[39m.\u001b[39;00m\u001b[39mapply\u001b[39;00m\u001b[39m \u001b[39m\u001b[39mimport\u001b[39;00m frame_apply\n\u001b[1;32m  10362\u001b[0m op \u001b[39m=\u001b[39m frame_apply(\n\u001b[1;32m  10363\u001b[0m     \u001b[39mself\u001b[39m,\n\u001b[1;32m  10364\u001b[0m     func\u001b[39m=\u001b[39mfunc,\n\u001b[0;32m   (...)\u001b[0m\n\u001b[1;32m  10372\u001b[0m     kwargs\u001b[39m=\u001b[39mkwargs,\n\u001b[1;32m  10373\u001b[0m )\n\u001b[0;32m> 10374\u001b[0m \u001b[39mreturn\u001b[39;00m op\u001b[39m.\u001b[39;49mapply()\u001b[39m.\u001b[39m__finalize__(\u001b[39mself\u001b[39m, method\u001b[39m=\u001b[39m\u001b[39m\"\u001b[39m\u001b[39mapply\u001b[39m\u001b[39m\"\u001b[39m)\n",
      "File \u001b[0;32m/data/home/wangys/anaconda3/envs/verl/lib/python3.10/site-packages/pandas/core/apply.py:916\u001b[0m, in \u001b[0;36mFrameApply.apply\u001b[0;34m(self)\u001b[0m\n\u001b[1;32m    913\u001b[0m \u001b[39melif\u001b[39;00m \u001b[39mself\u001b[39m\u001b[39m.\u001b[39mraw:\n\u001b[1;32m    914\u001b[0m     \u001b[39mreturn\u001b[39;00m \u001b[39mself\u001b[39m\u001b[39m.\u001b[39mapply_raw(engine\u001b[39m=\u001b[39m\u001b[39mself\u001b[39m\u001b[39m.\u001b[39mengine, engine_kwargs\u001b[39m=\u001b[39m\u001b[39mself\u001b[39m\u001b[39m.\u001b[39mengine_kwargs)\n\u001b[0;32m--> 916\u001b[0m \u001b[39mreturn\u001b[39;00m \u001b[39mself\u001b[39;49m\u001b[39m.\u001b[39;49mapply_standard()\n",
      "File \u001b[0;32m/data/home/wangys/anaconda3/envs/verl/lib/python3.10/site-packages/pandas/core/apply.py:1063\u001b[0m, in \u001b[0;36mFrameApply.apply_standard\u001b[0;34m(self)\u001b[0m\n\u001b[1;32m   1061\u001b[0m \u001b[39mdef\u001b[39;00m\u001b[39m \u001b[39m\u001b[39mapply_standard\u001b[39m(\u001b[39mself\u001b[39m):\n\u001b[1;32m   1062\u001b[0m     \u001b[39mif\u001b[39;00m \u001b[39mself\u001b[39m\u001b[39m.\u001b[39mengine \u001b[39m==\u001b[39m \u001b[39m\"\u001b[39m\u001b[39mpython\u001b[39m\u001b[39m\"\u001b[39m:\n\u001b[0;32m-> 1063\u001b[0m         results, res_index \u001b[39m=\u001b[39m \u001b[39mself\u001b[39;49m\u001b[39m.\u001b[39;49mapply_series_generator()\n\u001b[1;32m   1064\u001b[0m     \u001b[39melse\u001b[39;00m:\n\u001b[1;32m   1065\u001b[0m         results, res_index \u001b[39m=\u001b[39m \u001b[39mself\u001b[39m\u001b[39m.\u001b[39mapply_series_numba()\n",
      "File \u001b[0;32m/data/home/wangys/anaconda3/envs/verl/lib/python3.10/site-packages/pandas/core/apply.py:1081\u001b[0m, in \u001b[0;36mFrameApply.apply_series_generator\u001b[0;34m(self)\u001b[0m\n\u001b[1;32m   1078\u001b[0m \u001b[39mwith\u001b[39;00m option_context(\u001b[39m\"\u001b[39m\u001b[39mmode.chained_assignment\u001b[39m\u001b[39m\"\u001b[39m, \u001b[39mNone\u001b[39;00m):\n\u001b[1;32m   1079\u001b[0m     \u001b[39mfor\u001b[39;00m i, v \u001b[39min\u001b[39;00m \u001b[39menumerate\u001b[39m(series_gen):\n\u001b[1;32m   1080\u001b[0m         \u001b[39m# ignore SettingWithCopy here in case the user mutates\u001b[39;00m\n\u001b[0;32m-> 1081\u001b[0m         results[i] \u001b[39m=\u001b[39m \u001b[39mself\u001b[39;49m\u001b[39m.\u001b[39;49mfunc(v, \u001b[39m*\u001b[39;49m\u001b[39mself\u001b[39;49m\u001b[39m.\u001b[39;49margs, \u001b[39m*\u001b[39;49m\u001b[39m*\u001b[39;49m\u001b[39mself\u001b[39;49m\u001b[39m.\u001b[39;49mkwargs)\n\u001b[1;32m   1082\u001b[0m         \u001b[39mif\u001b[39;00m \u001b[39misinstance\u001b[39m(results[i], ABCSeries):\n\u001b[1;32m   1083\u001b[0m             \u001b[39m# If we have a view on v, we need to make a copy because\u001b[39;00m\n\u001b[1;32m   1084\u001b[0m             \u001b[39m#  series_generator will swap out the underlying data\u001b[39;00m\n\u001b[1;32m   1085\u001b[0m             results[i] \u001b[39m=\u001b[39m results[i]\u001b[39m.\u001b[39mcopy(deep\u001b[39m=\u001b[39m\u001b[39mFalse\u001b[39;00m)\n",
      "File \u001b[0;32m/data/home/wangys/DataSelection-IF/src/evaluation.py:92\u001b[0m, in \u001b[0;36mTransfer\u001b[0;34m(row)\u001b[0m\n\u001b[1;32m     90\u001b[0m \u001b[39melse\u001b[39;00m:\n\u001b[1;32m     91\u001b[0m     label \u001b[39m=\u001b[39m \u001b[39m1\u001b[39m\n\u001b[0;32m---> 92\u001b[0m \u001b[39mif\u001b[39;00m(row[\u001b[39m'\u001b[39;49m\u001b[39mprediction\u001b[39;49m\u001b[39m'\u001b[39;49m]\u001b[39m.\u001b[39m\u001b[39m__contains__\u001b[39m(\u001b[39m'\u001b[39m\u001b[39mmismatch\u001b[39m\u001b[39m'\u001b[39m)) \u001b[39mor\u001b[39;00m (row[\u001b[39m'\u001b[39m\u001b[39mprediction\u001b[39m\u001b[39m'\u001b[39m]\u001b[39m.\u001b[39m\u001b[39m__contains__\u001b[39m(\u001b[39m'\u001b[39m\u001b[39mdismatch\u001b[39m\u001b[39m'\u001b[39m)):\n\u001b[1;32m     93\u001b[0m     predict \u001b[39m=\u001b[39m \u001b[39m0\u001b[39m\n\u001b[1;32m     94\u001b[0m \u001b[39melse\u001b[39;00m:\n",
      "File \u001b[0;32m/data/home/wangys/anaconda3/envs/verl/lib/python3.10/site-packages/pandas/core/series.py:1121\u001b[0m, in \u001b[0;36mSeries.__getitem__\u001b[0;34m(self, key)\u001b[0m\n\u001b[1;32m   1118\u001b[0m     \u001b[39mreturn\u001b[39;00m \u001b[39mself\u001b[39m\u001b[39m.\u001b[39m_values[key]\n\u001b[1;32m   1120\u001b[0m \u001b[39melif\u001b[39;00m key_is_scalar:\n\u001b[0;32m-> 1121\u001b[0m     \u001b[39mreturn\u001b[39;00m \u001b[39mself\u001b[39;49m\u001b[39m.\u001b[39;49m_get_value(key)\n\u001b[1;32m   1123\u001b[0m \u001b[39m# Convert generator to list before going through hashable part\u001b[39;00m\n\u001b[1;32m   1124\u001b[0m \u001b[39m# (We will iterate through the generator there to check for slices)\u001b[39;00m\n\u001b[1;32m   1125\u001b[0m \u001b[39mif\u001b[39;00m is_iterator(key):\n",
      "File \u001b[0;32m/data/home/wangys/anaconda3/envs/verl/lib/python3.10/site-packages/pandas/core/series.py:1237\u001b[0m, in \u001b[0;36mSeries._get_value\u001b[0;34m(self, label, takeable)\u001b[0m\n\u001b[1;32m   1234\u001b[0m     \u001b[39mreturn\u001b[39;00m \u001b[39mself\u001b[39m\u001b[39m.\u001b[39m_values[label]\n\u001b[1;32m   1236\u001b[0m \u001b[39m# Similar to Index.get_value, but we do not fall back to positional\u001b[39;00m\n\u001b[0;32m-> 1237\u001b[0m loc \u001b[39m=\u001b[39m \u001b[39mself\u001b[39;49m\u001b[39m.\u001b[39;49mindex\u001b[39m.\u001b[39;49mget_loc(label)\n\u001b[1;32m   1239\u001b[0m \u001b[39mif\u001b[39;00m is_integer(loc):\n\u001b[1;32m   1240\u001b[0m     \u001b[39mreturn\u001b[39;00m \u001b[39mself\u001b[39m\u001b[39m.\u001b[39m_values[loc]\n",
      "File \u001b[0;32m/data/home/wangys/anaconda3/envs/verl/lib/python3.10/site-packages/pandas/core/indexes/base.py:3812\u001b[0m, in \u001b[0;36mIndex.get_loc\u001b[0;34m(self, key)\u001b[0m\n\u001b[1;32m   3807\u001b[0m     \u001b[39mif\u001b[39;00m \u001b[39misinstance\u001b[39m(casted_key, \u001b[39mslice\u001b[39m) \u001b[39mor\u001b[39;00m (\n\u001b[1;32m   3808\u001b[0m         \u001b[39misinstance\u001b[39m(casted_key, abc\u001b[39m.\u001b[39mIterable)\n\u001b[1;32m   3809\u001b[0m         \u001b[39mand\u001b[39;00m \u001b[39many\u001b[39m(\u001b[39misinstance\u001b[39m(x, \u001b[39mslice\u001b[39m) \u001b[39mfor\u001b[39;00m x \u001b[39min\u001b[39;00m casted_key)\n\u001b[1;32m   3810\u001b[0m     ):\n\u001b[1;32m   3811\u001b[0m         \u001b[39mraise\u001b[39;00m InvalidIndexError(key)\n\u001b[0;32m-> 3812\u001b[0m     \u001b[39mraise\u001b[39;00m \u001b[39mKeyError\u001b[39;00m(key) \u001b[39mfrom\u001b[39;00m\u001b[39m \u001b[39m\u001b[39merr\u001b[39;00m\n\u001b[1;32m   3813\u001b[0m \u001b[39mexcept\u001b[39;00m \u001b[39mTypeError\u001b[39;00m:\n\u001b[1;32m   3814\u001b[0m     \u001b[39m# If we have a listlike key, _check_indexing_error will raise\u001b[39;00m\n\u001b[1;32m   3815\u001b[0m     \u001b[39m#  InvalidIndexError. Otherwise we fall through and re-raise\u001b[39;00m\n\u001b[1;32m   3816\u001b[0m     \u001b[39m#  the TypeError.\u001b[39;00m\n\u001b[1;32m   3817\u001b[0m     \u001b[39mself\u001b[39m\u001b[39m.\u001b[39m_check_indexing_error(key)\n",
      "\u001b[0;31mKeyError\u001b[0m: 'prediction'"
     ]
    }
   ],
   "source": [
    "output_file = pd.read_csv('output/Ablation/qwen2.5-7B-ER-semi-text-w-w-ppl.csv',index_col=0)\n",
    "evaluator.process('ER','semi-text-w',output_file)"
   ]
  },
  {
   "cell_type": "code",
   "execution_count": 19,
   "metadata": {},
   "outputs": [
    {
     "data": {
      "text/plain": [
       "4258"
      ]
     },
     "execution_count": 19,
     "metadata": {},
     "output_type": "execute_result"
    }
   ],
   "source": [
    "train_file = pd.read_json('train/ER/semi-text-w/semi-text-w-train.json')\n",
    "len(train_file)"
   ]
  },
  {
   "cell_type": "code",
   "execution_count": 105,
   "metadata": {},
   "outputs": [],
   "source": []
  },
  {
   "cell_type": "code",
   "execution_count": 21,
   "metadata": {},
   "outputs": [],
   "source": [
    "batch_single = []\n",
    "for i in  range(len(train_file)):\n",
    "    batch_single.append([i])\n",
    "# batch_single\n",
    "task = 'ER'\n",
    "dataset_name = 'semi-text-w'\n",
    "batch_divide_path = 'Influence/{}/{}/batch_single.pkl'.format(task,dataset_name)\n",
    "torch.save(batch_single,batch_divide_path)"
   ]
  },
  {
   "cell_type": "code",
   "execution_count": 23,
   "metadata": {},
   "outputs": [],
   "source": [
    "sample_IF = torch.load('Influence_single/{}/{}/score.pkl'.format(task,dataset),weights_only=False)"
   ]
  },
  {
   "cell_type": "code",
   "execution_count": 44,
   "metadata": {},
   "outputs": [],
   "source": [
    "result = torch.load('Influence_single/{}/{}/result.pkl'.format(task,dataset),weights_only=False)"
   ]
  },
  {
   "cell_type": "code",
   "execution_count": 47,
   "metadata": {},
   "outputs": [],
   "source": [
    "result_df = pd.read_csv('Influence_single/ER/semi-text-w/result_df.csv',index_col=0)"
   ]
  },
  {
   "cell_type": "code",
   "execution_count": 56,
   "metadata": {},
   "outputs": [],
   "source": [
    "def split_list(input_list, n):\n",
    "    \"\"\"\n",
    "    将给定的列表划分为n个元素数量大体相当的子列表。\n",
    "\n",
    "    参数:\n",
    "    input_list (list): 需要划分的列表\n",
    "    n (int): 要划分成的子列表个数\n",
    "\n",
    "    返回:\n",
    "    list: 划分后的n个子列表组成的列表\n",
    "    \"\"\"\n",
    "    list_length = len(input_list)\n",
    "    if n <= 0:\n",
    "        raise ValueError(\"n必须大于0\")\n",
    "    if list_length == 0:\n",
    "        return [[] for _ in range(n)]\n",
    "    base_size = list_length // n\n",
    "    remainder = list_length % n\n",
    "    result = []\n",
    "    start_index = 0\n",
    "    for i in range(n):\n",
    "        sublist_size = base_size + (1 if remainder > 0 else 0)\n",
    "        sublist = input_list[start_index:start_index + sublist_size]\n",
    "        result.append(sublist)\n",
    "        start_index += sublist_size\n",
    "        remainder -= 1\n",
    "    return result"
   ]
  },
  {
   "cell_type": "markdown",
   "metadata": {},
   "source": [
    "### 下面我们尝试依序查看之前的结果是否有错误，在tr_index上"
   ]
  },
  {
   "cell_type": "code",
   "execution_count": 68,
   "metadata": {},
   "outputs": [
    {
     "name": "stdout",
     "output_type": "stream",
     "text": [
      "92\n",
      "92\n",
      "92\n",
      "91\n",
      "91\n",
      "91\n",
      "91\n",
      "91\n"
     ]
    }
   ],
   "source": [
    "task = 'ER'\n",
    "dataset = 'semi-text-c'\n",
    "import os\n",
    "# tr_index = []\n",
    "for i in range(1,9,1): ## maximum of k process\n",
    "    if os.path.exists('grad/{}/{}/tr_grad_{}.pkl'.format(task,dataset,i)): ## i-th gradient \n",
    "        ## tr_grad\n",
    "        # tr_grad_dict_part = torch.load('grad_single/{}/{}/tr_grad_{}.pkl'.format(task,dataset,i))\n",
    "        # for key in tr_grad_dict_part.keys():\n",
    "        \n",
    "        ## tr_grad_index\n",
    "        tr_index_part = torch.load('grad/{}/{}/tr_grad_index_{}.pkl'.format(task,dataset,i))\n",
    "        # tr_index.extend(tr_index_part)\n",
    "        print(len(tr_index_part))"
   ]
  },
  {
   "cell_type": "code",
   "execution_count": 81,
   "metadata": {},
   "outputs": [
    {
     "name": "stdout",
     "output_type": "stream",
     "text": [
      "exist\n"
     ]
    }
   ],
   "source": [
    "if os.path.exists('Influence/{}/{}/score.pkl'.format(task,dataset)):\n",
    "    print('exist')\n",
    "    score = torch.load('Influence_single/{}/{}/score.pkl'.format(task,dataset),weights_only=False)"
   ]
  },
  {
   "cell_type": "code",
   "execution_count": 83,
   "metadata": {},
   "outputs": [
    {
     "data": {
      "text/plain": [
       "dict_keys(['iterative', 'identity', 'proposed', 'LiSSA'])"
      ]
     },
     "execution_count": 83,
     "metadata": {},
     "output_type": "execute_result"
    }
   ],
   "source": [
    "score.keys()"
   ]
  },
  {
   "cell_type": "code",
   "execution_count": 89,
   "metadata": {},
   "outputs": [
    {
     "data": {
      "text/plain": [
       "[3834, 2464, 670, 974, 1382, 3962, 1384, 2191, 973, 517]"
      ]
     },
     "execution_count": 89,
     "metadata": {},
     "output_type": "execute_result"
    }
   ],
   "source": [
    "list(score['LiSSA'].keys())[:10]"
   ]
  },
  {
   "cell_type": "code",
   "execution_count": 90,
   "metadata": {},
   "outputs": [
    {
     "data": {
      "text/plain": [
       "[1382, 1630, 1885, 3962, 2464, 1735, 327, 2534, 3546, 3834]"
      ]
     },
     "execution_count": 90,
     "metadata": {},
     "output_type": "execute_result"
    }
   ],
   "source": [
    "list(score['proposed'].keys())[:10]"
   ]
  },
  {
   "cell_type": "code",
   "execution_count": 91,
   "metadata": {},
   "outputs": [
    {
     "data": {
      "text/plain": [
       "[3834, 3625, 1296, 974, 3546, 2240, 1295, 1349, 973, 2464]"
      ]
     },
     "execution_count": 91,
     "metadata": {},
     "output_type": "execute_result"
    }
   ],
   "source": [
    "list(score['iterative'].keys())[:10]"
   ]
  },
  {
   "cell_type": "code",
   "execution_count": 93,
   "metadata": {},
   "outputs": [],
   "source": [
    "from src.util_func import get_top_k_indices"
   ]
  },
  {
   "cell_type": "code",
   "execution_count": 106,
   "metadata": {},
   "outputs": [],
   "source": [
    "task = 'RE'\n",
    "dataset = 'RE'"
   ]
  },
  {
   "cell_type": "code",
   "execution_count": 110,
   "metadata": {},
   "outputs": [
    {
     "name": "stdout",
     "output_type": "stream",
     "text": [
      "exits\n"
     ]
    }
   ],
   "source": [
    "select_num = 1944\n",
    "select_IF_single = {}\n",
    "if os.path.exists('Influence_single/{}/{}'.format(task,dataset)):\n",
    "    print('exits')\n",
    "    sample_IF_single = torch.load('Influence_single/{}/{}/score.pkl'.format(task,dataset),weights_only=False)\n",
    "    for IF_method in sample_IF_single.keys():\n",
    "        select_IF_single[IF_method] = get_top_k_indices(sample_IF_single[IF_method],k=select_num,IF=True)"
   ]
  },
  {
   "cell_type": "code",
   "execution_count": 3,
   "metadata": {},
   "outputs": [
    {
     "name": "stdout",
     "output_type": "stream",
     "text": [
      "{'IF-single-iterative': {'acc': 0.8711389961389961, 'micro_f1': 0.7471026490066226, 'macro_f1': 0.5905163780263318}, 'IF-single-identity': {'acc': 0.8426640926640927, 'micro_f1': 0.722682119205298, 'macro_f1': 0.55191678272745}, 'IF-single-proposed': {'acc': 0.8537644787644788, 'micro_f1': 0.732201986754967, 'macro_f1': 0.5632134148611553}, 'main': {'acc': 0.9005791505791506, 'micro_f1': 0.7723509933774834, 'macro_f1': 0.5830344674616523}, 'ppl': {'acc': 0.8513513513513513, 'micro_f1': 0.7301324503311257, 'macro_f1': 0.5310203623037854}, 'FL': {'acc': 0.9073359073359073, 'micro_f1': 0.7781456953642383, 'macro_f1': 0.5600671023778724}, 'IF': {'acc': 0.8388030888030888, 'micro_f1': 0.7193708609271523, 'macro_f1': 0.5556746386823592}, 'QuRating': {'acc': 0.915057915057915, 'micro_f1': 0.7847682119205298, 'macro_f1': 0.5921038653453791}}\n"
     ]
    }
   ],
   "source": [
    "metrics= np.load('eval_result/mistral-7B-RE-RE.npy',allow_pickle=True).item()\n",
    "print(metrics)"
   ]
  },
  {
   "cell_type": "code",
   "execution_count": 4,
   "metadata": {},
   "outputs": [
    {
     "data": {
      "text/plain": [
       "{'IF-single-iterative': {'acc': 0.8711389961389961,\n",
       "  'micro_f1': 0.7471026490066226,\n",
       "  'macro_f1': 0.5905163780263318},\n",
       " 'IF-single-identity': {'acc': 0.8426640926640927,\n",
       "  'micro_f1': 0.722682119205298,\n",
       "  'macro_f1': 0.55191678272745},\n",
       " 'IF-single-proposed': {'acc': 0.8537644787644788,\n",
       "  'micro_f1': 0.732201986754967,\n",
       "  'macro_f1': 0.5632134148611553},\n",
       " 'main': {'acc': 0.9005791505791506,\n",
       "  'micro_f1': 0.7723509933774834,\n",
       "  'macro_f1': 0.5830344674616523},\n",
       " 'ppl': {'acc': 0.8513513513513513,\n",
       "  'micro_f1': 0.7301324503311257,\n",
       "  'macro_f1': 0.5310203623037854},\n",
       " 'FL': {'acc': 0.9073359073359073,\n",
       "  'micro_f1': 0.7781456953642383,\n",
       "  'macro_f1': 0.5600671023778724},\n",
       " 'IF': {'acc': 0.8388030888030888,\n",
       "  'micro_f1': 0.7193708609271523,\n",
       "  'macro_f1': 0.5556746386823592},\n",
       " 'QuRating': {'acc': 0.915057915057915,\n",
       "  'micro_f1': 0.7847682119205298,\n",
       "  'macro_f1': 0.5921038653453791}}"
      ]
     },
     "execution_count": 4,
     "metadata": {},
     "output_type": "execute_result"
    }
   ],
   "source": [
    "metrics"
   ]
  },
  {
   "cell_type": "code",
   "execution_count": 1,
   "metadata": {},
   "outputs": [],
   "source": [
    "def count_overlapping_elements(list1, list2):\n",
    "    # This line (and the ones below it) should be indented 4 spaces\n",
    "    set1 = set(list1)\n",
    "    set2 = set(list2)\n",
    "\n",
    "    # Using intersection to find common elements\n",
    "    overlapping_elements = set1.intersection(set2)\n",
    "\n",
    "    return len(overlapping_elements)"
   ]
  },
  {
   "cell_type": "code",
   "execution_count": 2,
   "metadata": {},
   "outputs": [
    {
     "data": {
      "text/plain": [
       "451"
      ]
     },
     "execution_count": 2,
     "metadata": {},
     "output_type": "execute_result"
    }
   ],
   "source": [
    "# import plotly.io as pio\n",
    "# pio.renderers.default = 'iframe_connected'\n",
    "import numpy as np\n",
    "list1 = np.load('QuRating/data/select_index/RE-RE-QuRating.npy')\n",
    "list2 = np.load('QuRating/data/select_index_main/RE-RE-QuRating.npy')\n",
    "count_overlapping_elements(list1,list2)"
   ]
  },
  {
   "cell_type": "code",
   "execution_count": 116,
   "metadata": {},
   "outputs": [
    {
     "data": {
      "text/plain": [
       "1728"
      ]
     },
     "execution_count": 116,
     "metadata": {},
     "output_type": "execute_result"
    }
   ],
   "source": [
    "count_overlapping_elements(select_IF_single['proposed'],select_IF_single['identity'])"
   ]
  },
  {
   "cell_type": "code",
   "execution_count": 117,
   "metadata": {},
   "outputs": [
    {
     "data": {
      "text/plain": [
       "3744"
      ]
     },
     "execution_count": 117,
     "metadata": {},
     "output_type": "execute_result"
    }
   ],
   "source": [
    "train = pd.read_json('train/DC/hospital/hospital-train.json')\n",
    "len(train)"
   ]
  },
  {
   "cell_type": "markdown",
   "metadata": {},
   "source": [
    "### Checking Metrics"
   ]
  },
  {
   "cell_type": "markdown",
   "metadata": {},
   "source": [
    "### CTA-WebTable"
   ]
  },
  {
   "cell_type": "code",
   "execution_count": 9,
   "metadata": {},
   "outputs": [],
   "source": [
    "import numpy as np\n",
    "import pandas as pd\n",
    "from src.evaluation import evaluation\n",
    "evaluator = evaluation()\n",
    "task = 'RE'\n",
    "dataset = 'RE'\n",
    "# result = pd.read_csv('inference_Transfer_ER/--WebTable_Test_few.csv',index_col=0)\n",
    "result = pd.read_csv('/data/home/wangys/DataSelection-IF/inference_Transfer_ER/--RE-test.csv',index_col=0)\n",
    "metrics = evaluator.process(task,dataset,result)\n",
    "all_metrics = np.load('eval_result/mistral-7B-{}-{}.npy'.format(task,dataset),allow_pickle=True).item()\n",
    "all_metrics['main'] = metrics\n",
    "# all_metrics"
   ]
  },
  {
   "cell_type": "code",
   "execution_count": 21,
   "metadata": {},
   "outputs": [
    {
     "name": "stdout",
     "output_type": "stream",
     "text": [
      "Precision:0.5386996904024768\n",
      "\n",
      "Recall:0.8246445497630331\n",
      "\n",
      "F1:0.651685393258427\n",
      "Precision:0.7427184466019418\n",
      "\n",
      "Recall:0.7251184834123223\n",
      "\n",
      "F1:0.7338129496402878\n",
      "Precision:0.16965742251223492\n",
      "\n",
      "Recall:0.985781990521327\n",
      "\n",
      "F1:0.2894919972164231\n",
      "Precision:0.7888888888888889\n",
      "\n",
      "Recall:0.6729857819905213\n",
      "\n",
      "F1:0.7263427109974424\n",
      "{'ppl': {'precision': 0.5386996904024768, 'recall': 0.8246445497630331, 'F1': 0.651685393258427}, 'FL': {'precision': 0.7427184466019418, 'recall': 0.7251184834123223, 'F1': 0.7338129496402878}, 'IF': {'precision': 0.16965742251223492, 'recall': 0.985781990521327, 'F1': 0.2894919972164231}, 'main': {'precision': 0.7888888888888889, 'recall': 0.6729857819905213, 'F1': 0.7263427109974424}}\n"
     ]
    }
   ],
   "source": [
    "import numpy as np\n",
    "import pandas as pd\n",
    "from src.evaluation import evaluation\n",
    "evaluator = evaluation()\n",
    "task = 'ER'\n",
    "dataset = 'semi-text-w'\n",
    "all_metrics = {}\n",
    "for ablation in ['ppl','FL','IF','main']:\n",
    "    result = pd.read_csv('output/Ablation/qwen2.5-7B-{}-{}-w-{}.csv'.format(task,dataset,ablation),index_col=0)\n",
    "    metrics = evaluator.process(task,dataset,result)\n",
    "    all_metrics[ablation] = metrics\n",
    "print(all_metrics)"
   ]
  },
  {
   "cell_type": "code",
   "execution_count": 1,
   "metadata": {},
   "outputs": [
    {
     "name": "stdout",
     "output_type": "stream",
     "text": [
      "[2025-07-30 00:09:27,216] [INFO] [real_accelerator.py:239:get_accelerator] Setting ds_accelerator to cuda (auto detect)\n"
     ]
    },
    {
     "name": "stderr",
     "output_type": "stream",
     "text": [
      "/data/home/wangys/anaconda3/envs/verl/compiler_compat/ld: cannot find -laio: No such file or directory\n",
      "collect2: error: ld returned 1 exit status\n",
      "/data/home/wangys/anaconda3/envs/verl/compiler_compat/ld: warning: librt.so.1, needed by /usr/local/cuda/lib64/libcufile.so, not found (try using -rpath or -rpath-link)\n",
      "/data/home/wangys/anaconda3/envs/verl/compiler_compat/ld: warning: libpthread.so.0, needed by /usr/local/cuda/lib64/libcufile.so, not found (try using -rpath or -rpath-link)\n",
      "/data/home/wangys/anaconda3/envs/verl/compiler_compat/ld: warning: libstdc++.so.6, needed by /usr/local/cuda/lib64/libcufile.so, not found (try using -rpath or -rpath-link)\n",
      "/data/home/wangys/anaconda3/envs/verl/compiler_compat/ld: warning: libm.so.6, needed by /usr/local/cuda/lib64/libcufile.so, not found (try using -rpath or -rpath-link)\n",
      "/data/home/wangys/anaconda3/envs/verl/compiler_compat/ld: /usr/local/cuda/lib64/libcufile.so: undefined reference to `std::runtime_error::~runtime_error()@GLIBCXX_3.4'\n",
      "/data/home/wangys/anaconda3/envs/verl/compiler_compat/ld: /usr/local/cuda/lib64/libcufile.so: undefined reference to `__gxx_personality_v0@CXXABI_1.3'\n",
      "/data/home/wangys/anaconda3/envs/verl/compiler_compat/ld: /usr/local/cuda/lib64/libcufile.so: undefined reference to `std::ostream::tellp()@GLIBCXX_3.4'\n",
      "/data/home/wangys/anaconda3/envs/verl/compiler_compat/ld: /usr/local/cuda/lib64/libcufile.so: undefined reference to `std::chrono::_V2::steady_clock::now()@GLIBCXX_3.4.19'\n",
      "/data/home/wangys/anaconda3/envs/verl/compiler_compat/ld: /usr/local/cuda/lib64/libcufile.so: undefined reference to `std::string::_M_replace_aux(unsigned long, unsigned long, unsigned long, char)@GLIBCXX_3.4'\n",
      "/data/home/wangys/anaconda3/envs/verl/compiler_compat/ld: /usr/local/cuda/lib64/libcufile.so: undefined reference to `typeinfo for bool@CXXABI_1.3'\n",
      "/data/home/wangys/anaconda3/envs/verl/compiler_compat/ld: /usr/local/cuda/lib64/libcufile.so: undefined reference to `std::__throw_logic_error(char const*)@GLIBCXX_3.4'\n",
      "/data/home/wangys/anaconda3/envs/verl/compiler_compat/ld: /usr/local/cuda/lib64/libcufile.so: undefined reference to `VTT for std::basic_ostringstream<char, std::char_traits<char>, std::allocator<char> >@GLIBCXX_3.4'\n",
      "/data/home/wangys/anaconda3/envs/verl/compiler_compat/ld: /usr/local/cuda/lib64/libcufile.so: undefined reference to `vtable for std::logic_error@GLIBCXX_3.4'\n",
      "/data/home/wangys/anaconda3/envs/verl/compiler_compat/ld: /usr/local/cuda/lib64/libcufile.so: undefined reference to `std::locale::~locale()@GLIBCXX_3.4'\n",
      "/data/home/wangys/anaconda3/envs/verl/compiler_compat/ld: /usr/local/cuda/lib64/libcufile.so: undefined reference to `std::basic_string<char, std::char_traits<char>, std::allocator<char> >::basic_string(std::string const&, unsigned long, unsigned long)@GLIBCXX_3.4'\n",
      "/data/home/wangys/anaconda3/envs/verl/compiler_compat/ld: /usr/local/cuda/lib64/libcufile.so: undefined reference to `__cxa_end_catch@CXXABI_1.3'\n",
      "/data/home/wangys/anaconda3/envs/verl/compiler_compat/ld: /usr/local/cuda/lib64/libcufile.so: undefined reference to `VTT for std::basic_ofstream<char, std::char_traits<char> >@GLIBCXX_3.4'\n",
      "/data/home/wangys/anaconda3/envs/verl/compiler_compat/ld: /usr/local/cuda/lib64/libcufile.so: undefined reference to `std::logic_error::~logic_error()@GLIBCXX_3.4'\n",
      "/data/home/wangys/anaconda3/envs/verl/compiler_compat/ld: /usr/local/cuda/lib64/libcufile.so: undefined reference to `vtable for __cxxabiv1::__si_class_type_info@CXXABI_1.3'\n",
      "/data/home/wangys/anaconda3/envs/verl/compiler_compat/ld: /usr/local/cuda/lib64/libcufile.so: undefined reference to `std::basic_ios<char, std::char_traits<char> >::_M_cache_locale(std::locale const&)@GLIBCXX_3.4'\n",
      "/data/home/wangys/anaconda3/envs/verl/compiler_compat/ld: /usr/local/cuda/lib64/libcufile.so: undefined reference to `VTT for std::basic_stringstream<char, std::char_traits<char>, std::allocator<char> >@GLIBCXX_3.4'\n",
      "/data/home/wangys/anaconda3/envs/verl/compiler_compat/ld: /usr/local/cuda/lib64/libcufile.so: undefined reference to `operator new[](unsigned long)@GLIBCXX_3.4'\n",
      "/data/home/wangys/anaconda3/envs/verl/compiler_compat/ld: /usr/local/cuda/lib64/libcufile.so: undefined reference to `std::string::_M_leak_hard()@GLIBCXX_3.4'\n",
      "/data/home/wangys/anaconda3/envs/verl/compiler_compat/ld: /usr/local/cuda/lib64/libcufile.so: undefined reference to `vtable for std::basic_ifstream<char, std::char_traits<char> >@GLIBCXX_3.4'\n",
      "/data/home/wangys/anaconda3/envs/verl/compiler_compat/ld: /usr/local/cuda/lib64/libcufile.so: undefined reference to `std::basic_streambuf<wchar_t, std::char_traits<wchar_t> >::basic_streambuf(std::basic_streambuf<wchar_t, std::char_traits<wchar_t> > const&)@GLIBCXX_3.4'\n",
      "/data/home/wangys/anaconda3/envs/verl/compiler_compat/ld: /usr/local/cuda/lib64/libcufile.so: undefined reference to `std::string::append(char const*, unsigned long)@GLIBCXX_3.4'\n",
      "/data/home/wangys/anaconda3/envs/verl/compiler_compat/ld: /usr/local/cuda/lib64/libcufile.so: undefined reference to `std::basic_string<char, std::char_traits<char>, std::allocator<char> >::basic_string(std::string const&)@GLIBCXX_3.4'\n",
      "/data/home/wangys/anaconda3/envs/verl/compiler_compat/ld: /usr/local/cuda/lib64/libcufile.so: undefined reference to `typeinfo for unsigned short@CXXABI_1.3'\n",
      "/data/home/wangys/anaconda3/envs/verl/compiler_compat/ld: /usr/local/cuda/lib64/libcufile.so: undefined reference to `std::string::resize(unsigned long, char)@GLIBCXX_3.4'\n",
      "/data/home/wangys/anaconda3/envs/verl/compiler_compat/ld: /usr/local/cuda/lib64/libcufile.so: undefined reference to `typeinfo for char const*@CXXABI_1.3'\n",
      "/data/home/wangys/anaconda3/envs/verl/compiler_compat/ld: /usr/local/cuda/lib64/libcufile.so: undefined reference to `std::ctype<char>::_M_widen_init() const@GLIBCXX_3.4.11'\n",
      "/data/home/wangys/anaconda3/envs/verl/compiler_compat/ld: /usr/local/cuda/lib64/libcufile.so: undefined reference to `std::__throw_invalid_argument(char const*)@GLIBCXX_3.4'\n",
      "/data/home/wangys/anaconda3/envs/verl/compiler_compat/ld: /usr/local/cuda/lib64/libcufile.so: undefined reference to `std::locale::operator=(std::locale const&)@GLIBCXX_3.4'\n",
      "/data/home/wangys/anaconda3/envs/verl/compiler_compat/ld: /usr/local/cuda/lib64/libcufile.so: undefined reference to `std::basic_ios<wchar_t, std::char_traits<wchar_t> >::_M_cache_locale(std::locale const&)@GLIBCXX_3.4'\n",
      "/data/home/wangys/anaconda3/envs/verl/compiler_compat/ld: /usr/local/cuda/lib64/libcufile.so: undefined reference to `std::_Rb_tree_decrement(std::_Rb_tree_node_base const*)@GLIBCXX_3.4'\n",
      "/data/home/wangys/anaconda3/envs/verl/compiler_compat/ld: /usr/local/cuda/lib64/libcufile.so: undefined reference to `__cxa_free_exception@CXXABI_1.3'\n",
      "/data/home/wangys/anaconda3/envs/verl/compiler_compat/ld: /usr/local/cuda/lib64/libcufile.so: undefined reference to `std::condition_variable::notify_one()@GLIBCXX_3.4.11'\n",
      "/data/home/wangys/anaconda3/envs/verl/compiler_compat/ld: /usr/local/cuda/lib64/libcufile.so: undefined reference to `std::ios_base::Init::~Init()@GLIBCXX_3.4'\n",
      "/data/home/wangys/anaconda3/envs/verl/compiler_compat/ld: /usr/local/cuda/lib64/libcufile.so: undefined reference to `std::basic_string<char, std::char_traits<char>, std::allocator<char> >::~basic_string()@GLIBCXX_3.4'\n",
      "/data/home/wangys/anaconda3/envs/verl/compiler_compat/ld: /usr/local/cuda/lib64/libcufile.so: undefined reference to `__cxa_pure_virtual@CXXABI_1.3'\n",
      "/data/home/wangys/anaconda3/envs/verl/compiler_compat/ld: /usr/local/cuda/lib64/libcufile.so: undefined reference to `std::ostream::flush()@GLIBCXX_3.4'\n",
      "/data/home/wangys/anaconda3/envs/verl/compiler_compat/ld: /usr/local/cuda/lib64/libcufile.so: undefined reference to `vtable for __cxxabiv1::__class_type_info@CXXABI_1.3'\n",
      "/data/home/wangys/anaconda3/envs/verl/compiler_compat/ld: /usr/local/cuda/lib64/libcufile.so: undefined reference to `__cxa_rethrow@CXXABI_1.3'\n",
      "/data/home/wangys/anaconda3/envs/verl/compiler_compat/ld: /usr/local/cuda/lib64/libcufile.so: undefined reference to `vtable for std::basic_stringbuf<char, std::char_traits<char>, std::allocator<char> >@GLIBCXX_3.4'\n",
      "/data/home/wangys/anaconda3/envs/verl/compiler_compat/ld: /usr/local/cuda/lib64/libcufile.so: undefined reference to `std::basic_fstream<char, std::char_traits<char> >::~basic_fstream()@GLIBCXX_3.4'\n",
      "/data/home/wangys/anaconda3/envs/verl/compiler_compat/ld: /usr/local/cuda/lib64/libcufile.so: undefined reference to `std::string::compare(char const*) const@GLIBCXX_3.4'\n",
      "/data/home/wangys/anaconda3/envs/verl/compiler_compat/ld: /usr/local/cuda/lib64/libcufile.so: undefined reference to `VTT for std::basic_ostringstream<wchar_t, std::char_traits<wchar_t>, std::allocator<wchar_t> >@GLIBCXX_3.4'\n",
      "/data/home/wangys/anaconda3/envs/verl/compiler_compat/ld: /usr/local/cuda/lib64/libcufile.so: undefined reference to `std::locale::locale()@GLIBCXX_3.4'\n",
      "/data/home/wangys/anaconda3/envs/verl/compiler_compat/ld: /usr/local/cuda/lib64/libcufile.so: undefined reference to `std::chrono::_V2::system_clock::now()@GLIBCXX_3.4.19'\n",
      "/data/home/wangys/anaconda3/envs/verl/compiler_compat/ld: /usr/local/cuda/lib64/libcufile.so: undefined reference to `VTT for std::basic_ifstream<char, std::char_traits<char> >@GLIBCXX_3.4'\n",
      "/data/home/wangys/anaconda3/envs/verl/compiler_compat/ld: /usr/local/cuda/lib64/libcufile.so: undefined reference to `std::_Hash_bytes(void const*, unsigned long, unsigned long)@CXXABI_1.3.5'\n",
      "/data/home/wangys/anaconda3/envs/verl/compiler_compat/ld: /usr/local/cuda/lib64/libcufile.so: undefined reference to `std::ostream& std::ostream::_M_insert<long long>(long long)@GLIBCXX_3.4.9'\n",
      "/data/home/wangys/anaconda3/envs/verl/compiler_compat/ld: /usr/local/cuda/lib64/libcufile.so: undefined reference to `typeinfo for char*@CXXABI_1.3'\n",
      "/data/home/wangys/anaconda3/envs/verl/compiler_compat/ld: /usr/local/cuda/lib64/libcufile.so: undefined reference to `std::__detail::_Prime_rehash_policy::_M_need_rehash(unsigned long, unsigned long, unsigned long) const@GLIBCXX_3.4.18'\n",
      "/data/home/wangys/anaconda3/envs/verl/compiler_compat/ld: /usr/local/cuda/lib64/libcufile.so: undefined reference to `vtable for std::out_of_range@GLIBCXX_3.4'\n",
      "/data/home/wangys/anaconda3/envs/verl/compiler_compat/ld: /usr/local/cuda/lib64/libcufile.so: undefined reference to `std::ostream& std::ostream::_M_insert<unsigned long>(unsigned long)@GLIBCXX_3.4.9'\n",
      "/data/home/wangys/anaconda3/envs/verl/compiler_compat/ld: /usr/local/cuda/lib64/libcufile.so: undefined reference to `std::_Rb_tree_increment(std::_Rb_tree_node_base const*)@GLIBCXX_3.4'\n",
      "/data/home/wangys/anaconda3/envs/verl/compiler_compat/ld: /usr/local/cuda/lib64/libcufile.so: undefined reference to `std::ios_base::~ios_base()@GLIBCXX_3.4'\n",
      "/data/home/wangys/anaconda3/envs/verl/compiler_compat/ld: /usr/local/cuda/lib64/libcufile.so: undefined reference to `std::range_error::~range_error()@GLIBCXX_3.4'\n",
      "/data/home/wangys/anaconda3/envs/verl/compiler_compat/ld: /usr/local/cuda/lib64/libcufile.so: undefined reference to `std::__basic_file<char>::~__basic_file()@GLIBCXX_3.4'\n",
      "/data/home/wangys/anaconda3/envs/verl/compiler_compat/ld: /usr/local/cuda/lib64/libcufile.so: undefined reference to `__cxa_guard_acquire@CXXABI_1.3'\n",
      "/data/home/wangys/anaconda3/envs/verl/compiler_compat/ld: /usr/local/cuda/lib64/libcufile.so: undefined reference to `std::ostream& std::ostream::_M_insert<bool>(bool)@GLIBCXX_3.4.9'\n",
      "/data/home/wangys/anaconda3/envs/verl/compiler_compat/ld: /usr/local/cuda/lib64/libcufile.so: undefined reference to `vtable for std::overflow_error@GLIBCXX_3.4'\n",
      "/data/home/wangys/anaconda3/envs/verl/compiler_compat/ld: /usr/local/cuda/lib64/libcufile.so: undefined reference to `VTT for std::basic_fstream<char, std::char_traits<char> >@GLIBCXX_3.4'\n",
      "/data/home/wangys/anaconda3/envs/verl/compiler_compat/ld: /usr/local/cuda/lib64/libcufile.so: undefined reference to `vtable for std::range_error@GLIBCXX_3.4'\n",
      "/data/home/wangys/anaconda3/envs/verl/compiler_compat/ld: /usr/local/cuda/lib64/libcufile.so: undefined reference to `vtable for std::basic_ios<char, std::char_traits<char> >@GLIBCXX_3.4'\n",
      "/data/home/wangys/anaconda3/envs/verl/compiler_compat/ld: /usr/local/cuda/lib64/libcufile.so: undefined reference to `vtable for std::basic_filebuf<char, std::char_traits<char> >@GLIBCXX_3.4'\n",
      "/data/home/wangys/anaconda3/envs/verl/compiler_compat/ld: /usr/local/cuda/lib64/libcufile.so: undefined reference to `operator delete[](void*)@GLIBCXX_3.4'\n",
      "/data/home/wangys/anaconda3/envs/verl/compiler_compat/ld: /usr/local/cuda/lib64/libcufile.so: undefined reference to `vtable for std::basic_stringstream<char, std::char_traits<char>, std::allocator<char> >@GLIBCXX_3.4'\n",
      "/data/home/wangys/anaconda3/envs/verl/compiler_compat/ld: /usr/local/cuda/lib64/libcufile.so: undefined reference to `std::basic_string<char, std::char_traits<char>, std::allocator<char> >::basic_string(unsigned long, char, std::allocator<char> const&)@GLIBCXX_3.4'\n",
      "/data/home/wangys/anaconda3/envs/verl/compiler_compat/ld: /usr/local/cuda/lib64/libcufile.so: undefined reference to `std::__detail::_List_node_base::_M_transfer(std::__detail::_List_node_base*, std::__detail::_List_node_base*)@GLIBCXX_3.4.15'\n",
      "/data/home/wangys/anaconda3/envs/verl/compiler_compat/ld: /usr/local/cuda/lib64/libcufile.so: undefined reference to `std::string::replace(unsigned long, unsigned long, char const*, unsigned long)@GLIBCXX_3.4'\n",
      "/data/home/wangys/anaconda3/envs/verl/compiler_compat/ld: /usr/local/cuda/lib64/libcufile.so: undefined reference to `typeinfo for std::exception@GLIBCXX_3.4'\n",
      "/data/home/wangys/anaconda3/envs/verl/compiler_compat/ld: /usr/local/cuda/lib64/libcufile.so: undefined reference to `std::basic_string<wchar_t, std::char_traits<wchar_t>, std::allocator<wchar_t> >::_Rep::_M_destroy(std::allocator<wchar_t> const&)@GLIBCXX_3.4'\n",
      "/data/home/wangys/anaconda3/envs/verl/compiler_compat/ld: /usr/local/cuda/lib64/libcufile.so: undefined reference to `std::istream& std::istream::_M_extract<double>(double&)@GLIBCXX_3.4.9'\n",
      "/data/home/wangys/anaconda3/envs/verl/compiler_compat/ld: /usr/local/cuda/lib64/libcufile.so: undefined reference to `std::basic_filebuf<char, std::char_traits<char> >::close()@GLIBCXX_3.4'\n",
      "/data/home/wangys/anaconda3/envs/verl/compiler_compat/ld: /usr/local/cuda/lib64/libcufile.so: undefined reference to `vtable for std::basic_fstream<char, std::char_traits<char> >@GLIBCXX_3.4'\n",
      "/data/home/wangys/anaconda3/envs/verl/compiler_compat/ld: /usr/local/cuda/lib64/libcufile.so: undefined reference to `std::basic_ifstream<char, std::char_traits<char> >::basic_ifstream(char const*, std::_Ios_Openmode)@GLIBCXX_3.4'\n",
      "/data/home/wangys/anaconda3/envs/verl/compiler_compat/ld: /usr/local/cuda/lib64/libcufile.so: undefined reference to `std::string::append(std::string const&)@GLIBCXX_3.4'\n",
      "/data/home/wangys/anaconda3/envs/verl/compiler_compat/ld: /usr/local/cuda/lib64/libcufile.so: undefined reference to `operator new(unsigned long)@GLIBCXX_3.4'\n",
      "/data/home/wangys/anaconda3/envs/verl/compiler_compat/ld: /usr/local/cuda/lib64/libcufile.so: undefined reference to `VTT for std::basic_istringstream<wchar_t, std::char_traits<wchar_t>, std::allocator<wchar_t> >@GLIBCXX_3.4'\n",
      "/data/home/wangys/anaconda3/envs/verl/compiler_compat/ld: /usr/local/cuda/lib64/libcufile.so: undefined reference to `typeinfo for unsigned int@CXXABI_1.3'\n",
      "/data/home/wangys/anaconda3/envs/verl/compiler_compat/ld: /usr/local/cuda/lib64/libcufile.so: undefined reference to `std::string::append(char const*)@GLIBCXX_3.4'\n",
      "/data/home/wangys/anaconda3/envs/verl/compiler_compat/ld: /usr/local/cuda/lib64/libcufile.so: undefined reference to `vtable for std::domain_error@GLIBCXX_3.4'\n",
      "/data/home/wangys/anaconda3/envs/verl/compiler_compat/ld: /usr/local/cuda/lib64/libcufile.so: undefined reference to `std::string::find(char, unsigned long) const@GLIBCXX_3.4'\n",
      "/data/home/wangys/anaconda3/envs/verl/compiler_compat/ld: /usr/local/cuda/lib64/libcufile.so: undefined reference to `std::ostream::put(char)@GLIBCXX_3.4'\n",
      "/data/home/wangys/anaconda3/envs/verl/compiler_compat/ld: /usr/local/cuda/lib64/libcufile.so: undefined reference to `typeinfo for int@CXXABI_1.3'\n",
      "/data/home/wangys/anaconda3/envs/verl/compiler_compat/ld: /usr/local/cuda/lib64/libcufile.so: undefined reference to `std::__throw_bad_alloc()@GLIBCXX_3.4'\n",
      "/data/home/wangys/anaconda3/envs/verl/compiler_compat/ld: /usr/local/cuda/lib64/libcufile.so: undefined reference to `__cxa_thread_atexit@CXXABI_1.3.7'\n",
      "/data/home/wangys/anaconda3/envs/verl/compiler_compat/ld: /usr/local/cuda/lib64/libcufile.so: undefined reference to `typeinfo for unsigned int*@CXXABI_1.3'\n",
      "/data/home/wangys/anaconda3/envs/verl/compiler_compat/ld: /usr/local/cuda/lib64/libcufile.so: undefined reference to `std::_Rb_tree_increment(std::_Rb_tree_node_base*)@GLIBCXX_3.4'\n",
      "/data/home/wangys/anaconda3/envs/verl/compiler_compat/ld: /usr/local/cuda/lib64/libcufile.so: undefined reference to `std::basic_ifstream<char, std::char_traits<char> >::~basic_ifstream()@GLIBCXX_3.4'\n",
      "/data/home/wangys/anaconda3/envs/verl/compiler_compat/ld: /usr/local/cuda/lib64/libcufile.so: undefined reference to `std::ios_base::Init::Init()@GLIBCXX_3.4'\n",
      "/data/home/wangys/anaconda3/envs/verl/compiler_compat/ld: /usr/local/cuda/lib64/libcufile.so: undefined reference to `std::condition_variable::condition_variable()@GLIBCXX_3.4.11'\n",
      "/data/home/wangys/anaconda3/envs/verl/compiler_compat/ld: /usr/local/cuda/lib64/libcufile.so: undefined reference to `std::basic_filebuf<char, std::char_traits<char> >::basic_filebuf()@GLIBCXX_3.4'\n",
      "/data/home/wangys/anaconda3/envs/verl/compiler_compat/ld: /usr/local/cuda/lib64/libcufile.so: undefined reference to `VTT for std::basic_istringstream<char, std::char_traits<char>, std::allocator<char> >@GLIBCXX_3.4'\n",
      "/data/home/wangys/anaconda3/envs/verl/compiler_compat/ld: /usr/local/cuda/lib64/libcufile.so: undefined reference to `std::domain_error::~domain_error()@GLIBCXX_3.4'\n",
      "/data/home/wangys/anaconda3/envs/verl/compiler_compat/ld: /usr/local/cuda/lib64/libcufile.so: undefined reference to `std::cerr@GLIBCXX_3.4'\n",
      "/data/home/wangys/anaconda3/envs/verl/compiler_compat/ld: /usr/local/cuda/lib64/libcufile.so: undefined reference to `std::string::find(char const*, unsigned long, unsigned long) const@GLIBCXX_3.4'\n",
      "/data/home/wangys/anaconda3/envs/verl/compiler_compat/ld: /usr/local/cuda/lib64/libcufile.so: undefined reference to `vtable for std::basic_istringstream<char, std::char_traits<char>, std::allocator<char> >@GLIBCXX_3.4'\n",
      "/data/home/wangys/anaconda3/envs/verl/compiler_compat/ld: /usr/local/cuda/lib64/libcufile.so: undefined reference to `std::basic_string<char, std::char_traits<char>, std::allocator<char> >::basic_string(std::allocator<char> const&)@GLIBCXX_3.4'\n",
      "/data/home/wangys/anaconda3/envs/verl/compiler_compat/ld: /usr/local/cuda/lib64/libcufile.so: undefined reference to `std::basic_stringbuf<char, std::char_traits<char>, std::allocator<char> >::str() const@GLIBCXX_3.4'\n",
      "/data/home/wangys/anaconda3/envs/verl/compiler_compat/ld: /usr/local/cuda/lib64/libcufile.so: undefined reference to `vtable for std::invalid_argument@GLIBCXX_3.4'\n",
      "/data/home/wangys/anaconda3/envs/verl/compiler_compat/ld: /usr/local/cuda/lib64/libcufile.so: undefined reference to `typeinfo for void*@CXXABI_1.3'\n",
      "/data/home/wangys/anaconda3/envs/verl/compiler_compat/ld: /usr/local/cuda/lib64/libcufile.so: undefined reference to `std::string::assign(std::string const&)@GLIBCXX_3.4'\n",
      "/data/home/wangys/anaconda3/envs/verl/compiler_compat/ld: /usr/local/cuda/lib64/libcufile.so: undefined reference to `std::basic_ostringstream<char, std::char_traits<char>, std::allocator<char> >::~basic_ostringstream()@GLIBCXX_3.4'\n",
      "/data/home/wangys/anaconda3/envs/verl/compiler_compat/ld: /usr/local/cuda/lib64/libcufile.so: undefined reference to `std::_Rb_tree_rebalance_for_erase(std::_Rb_tree_node_base*, std::_Rb_tree_node_base&)@GLIBCXX_3.4'\n",
      "/data/home/wangys/anaconda3/envs/verl/compiler_compat/ld: /usr/local/cuda/lib64/libcufile.so: undefined reference to `typeinfo for unsigned long@CXXABI_1.3'\n",
      "/data/home/wangys/anaconda3/envs/verl/compiler_compat/ld: /usr/local/cuda/lib64/libcufile.so: undefined reference to `std::__detail::_List_node_base::_M_hook(std::__detail::_List_node_base*)@GLIBCXX_3.4.15'\n",
      "/data/home/wangys/anaconda3/envs/verl/compiler_compat/ld: /usr/local/cuda/lib64/libcufile.so: undefined reference to `std::__detail::_List_node_base::_M_unhook()@GLIBCXX_3.4.15'\n",
      "/data/home/wangys/anaconda3/envs/verl/compiler_compat/ld: /usr/local/cuda/lib64/libcufile.so: undefined reference to `vtable for std::basic_ostringstream<wchar_t, std::char_traits<wchar_t>, std::allocator<wchar_t> >@GLIBCXX_3.4'\n",
      "/data/home/wangys/anaconda3/envs/verl/compiler_compat/ld: /usr/local/cuda/lib64/libcufile.so: undefined reference to `std::basic_stringbuf<char, std::char_traits<char>, std::allocator<char> >::_M_sync(char*, unsigned long, unsigned long)@GLIBCXX_3.4'\n",
      "/data/home/wangys/anaconda3/envs/verl/compiler_compat/ld: /usr/local/cuda/lib64/libcufile.so: undefined reference to `std::basic_iostream<char, std::char_traits<char> >::~basic_iostream()@GLIBCXX_3.4'\n",
      "/data/home/wangys/anaconda3/envs/verl/compiler_compat/ld: /usr/local/cuda/lib64/libcufile.so: undefined reference to `std::locale::locale(std::locale const&)@GLIBCXX_3.4'\n",
      "/data/home/wangys/anaconda3/envs/verl/compiler_compat/ld: /usr/local/cuda/lib64/libcufile.so: undefined reference to `vtable for std::basic_istringstream<wchar_t, std::char_traits<wchar_t>, std::allocator<wchar_t> >@GLIBCXX_3.4'\n",
      "/data/home/wangys/anaconda3/envs/verl/compiler_compat/ld: /usr/local/cuda/lib64/libcufile.so: undefined reference to `log2f@GLIBC_2.2.5'\n",
      "/data/home/wangys/anaconda3/envs/verl/compiler_compat/ld: /usr/local/cuda/lib64/libcufile.so: undefined reference to `std::ostream::operator<<(std::basic_streambuf<char, std::char_traits<char> >*)@GLIBCXX_3.4'\n",
      "/data/home/wangys/anaconda3/envs/verl/compiler_compat/ld: /usr/local/cuda/lib64/libcufile.so: undefined reference to `vtable for std::basic_streambuf<wchar_t, std::char_traits<wchar_t> >@GLIBCXX_3.4'\n",
      "/data/home/wangys/anaconda3/envs/verl/compiler_compat/ld: /usr/local/cuda/lib64/libcufile.so: undefined reference to `std::exception::~exception()@GLIBCXX_3.4'\n",
      "/data/home/wangys/anaconda3/envs/verl/compiler_compat/ld: /usr/local/cuda/lib64/libcufile.so: undefined reference to `std::string::_Rep::_S_create(unsigned long, unsigned long, std::allocator<char> const&)@GLIBCXX_3.4'\n",
      "/data/home/wangys/anaconda3/envs/verl/compiler_compat/ld: /usr/local/cuda/lib64/libcufile.so: undefined reference to `std::__basic_file<char>::is_open() const@GLIBCXX_3.4'\n",
      "/data/home/wangys/anaconda3/envs/verl/compiler_compat/ld: /usr/local/cuda/lib64/libcufile.so: undefined reference to `std::basic_istringstream<char, std::char_traits<char>, std::allocator<char> >::~basic_istringstream()@GLIBCXX_3.4'\n",
      "/data/home/wangys/anaconda3/envs/verl/compiler_compat/ld: /usr/local/cuda/lib64/libcufile.so: undefined reference to `std::string::swap(std::string&)@GLIBCXX_3.4'\n",
      "/data/home/wangys/anaconda3/envs/verl/compiler_compat/ld: /usr/local/cuda/lib64/libcufile.so: undefined reference to `vtable for std::basic_ostringstream<char, std::char_traits<char>, std::allocator<char> >@GLIBCXX_3.4'\n",
      "/data/home/wangys/anaconda3/envs/verl/compiler_compat/ld: /usr/local/cuda/lib64/libcufile.so: undefined reference to `std::basic_streambuf<char, std::char_traits<char> >::basic_streambuf(std::basic_streambuf<char, std::char_traits<char> > const&)@GLIBCXX_3.4'\n",
      "/data/home/wangys/anaconda3/envs/verl/compiler_compat/ld: /usr/local/cuda/lib64/libcufile.so: undefined reference to `std::basic_ios<char, std::char_traits<char> >::init(std::basic_streambuf<char, std::char_traits<char> >*)@GLIBCXX_3.4'\n",
      "/data/home/wangys/anaconda3/envs/verl/compiler_compat/ld: /usr/local/cuda/lib64/libcufile.so: undefined reference to `std::__throw_bad_cast()@GLIBCXX_3.4'\n",
      "/data/home/wangys/anaconda3/envs/verl/compiler_compat/ld: /usr/local/cuda/lib64/libcufile.so: undefined reference to `std::basic_ios<char, std::char_traits<char> >::clear(std::_Ios_Iostate)@GLIBCXX_3.4'\n",
      "/data/home/wangys/anaconda3/envs/verl/compiler_compat/ld: /usr/local/cuda/lib64/libcufile.so: undefined reference to `std::basic_streambuf<wchar_t, std::char_traits<wchar_t> >::operator=(std::basic_streambuf<wchar_t, std::char_traits<wchar_t> > const&)@GLIBCXX_3.4'\n",
      "/data/home/wangys/anaconda3/envs/verl/compiler_compat/ld: /usr/local/cuda/lib64/libcufile.so: undefined reference to `typeinfo for long*@CXXABI_1.3'\n",
      "/data/home/wangys/anaconda3/envs/verl/compiler_compat/ld: /usr/local/cuda/lib64/libcufile.so: undefined reference to `operator delete(void*)@GLIBCXX_3.4'\n",
      "/data/home/wangys/anaconda3/envs/verl/compiler_compat/ld: /usr/local/cuda/lib64/libcufile.so: undefined reference to `std::ostream::operator<<(int)@GLIBCXX_3.4'\n",
      "/data/home/wangys/anaconda3/envs/verl/compiler_compat/ld: /usr/local/cuda/lib64/libcufile.so: undefined reference to `std::string::_Rep::_S_empty_rep_storage@GLIBCXX_3.4'\n",
      "/data/home/wangys/anaconda3/envs/verl/compiler_compat/ld: /usr/local/cuda/lib64/libcufile.so: undefined reference to `std::string::_Rep::_M_destroy(std::allocator<char> const&)@GLIBCXX_3.4'\n",
      "/data/home/wangys/anaconda3/envs/verl/compiler_compat/ld: /usr/local/cuda/lib64/libcufile.so: undefined reference to `std::basic_iostream<wchar_t, std::char_traits<wchar_t> >::~basic_iostream()@GLIBCXX_3.4'\n",
      "/data/home/wangys/anaconda3/envs/verl/compiler_compat/ld: /usr/local/cuda/lib64/libcufile.so: undefined reference to `vtable for std::runtime_error@GLIBCXX_3.4'\n",
      "/data/home/wangys/anaconda3/envs/verl/compiler_compat/ld: /usr/local/cuda/lib64/libcufile.so: undefined reference to `vtable for std::basic_ofstream<char, std::char_traits<char> >@GLIBCXX_3.4'\n",
      "/data/home/wangys/anaconda3/envs/verl/compiler_compat/ld: /usr/local/cuda/lib64/libcufile.so: undefined reference to `std::_Rb_tree_insert_and_rebalance(bool, std::_Rb_tree_node_base*, std::_Rb_tree_node_base*, std::_Rb_tree_node_base&)@GLIBCXX_3.4'\n",
      "/data/home/wangys/anaconda3/envs/verl/compiler_compat/ld: /usr/local/cuda/lib64/libcufile.so: undefined reference to `std::basic_stringstream<char, std::char_traits<char>, std::allocator<char> >::~basic_stringstream()@GLIBCXX_3.4'\n",
      "/data/home/wangys/anaconda3/envs/verl/compiler_compat/ld: /usr/local/cuda/lib64/libcufile.so: undefined reference to `VTT for std::basic_stringstream<wchar_t, std::char_traits<wchar_t>, std::allocator<wchar_t> >@GLIBCXX_3.4'\n",
      "/data/home/wangys/anaconda3/envs/verl/compiler_compat/ld: /usr/local/cuda/lib64/libcufile.so: undefined reference to `std::ostream& std::ostream::_M_insert<long>(long)@GLIBCXX_3.4.9'\n",
      "/data/home/wangys/anaconda3/envs/verl/compiler_compat/ld: /usr/local/cuda/lib64/libcufile.so: undefined reference to `std::istream::get()@GLIBCXX_3.4'\n",
      "/data/home/wangys/anaconda3/envs/verl/compiler_compat/ld: /usr/local/cuda/lib64/libcufile.so: undefined reference to `typeinfo for unsigned long long@CXXABI_1.3'\n",
      "/data/home/wangys/anaconda3/envs/verl/compiler_compat/ld: /usr/local/cuda/lib64/libcufile.so: undefined reference to `std::basic_ostream<char, std::char_traits<char> >& std::operator<< <std::char_traits<char> >(std::basic_ostream<char, std::char_traits<char> >&, char const*)@GLIBCXX_3.4'\n",
      "/data/home/wangys/anaconda3/envs/verl/compiler_compat/ld: /usr/local/cuda/lib64/libcufile.so: undefined reference to `std::out_of_range::~out_of_range()@GLIBCXX_3.4'\n",
      "/data/home/wangys/anaconda3/envs/verl/compiler_compat/ld: /usr/local/cuda/lib64/libcufile.so: undefined reference to `std::length_error::~length_error()@GLIBCXX_3.4'\n",
      "/data/home/wangys/anaconda3/envs/verl/compiler_compat/ld: /usr/local/cuda/lib64/libcufile.so: undefined reference to `std::basic_ostream<char, std::char_traits<char> >& std::__ostream_insert<char, std::char_traits<char> >(std::basic_ostream<char, std::char_traits<char> >&, char const*, long)@GLIBCXX_3.4.9'\n",
      "/data/home/wangys/anaconda3/envs/verl/compiler_compat/ld: /usr/local/cuda/lib64/libcufile.so: undefined reference to `std::invalid_argument::~invalid_argument()@GLIBCXX_3.4'\n",
      "/data/home/wangys/anaconda3/envs/verl/compiler_compat/ld: /usr/local/cuda/lib64/libcufile.so: undefined reference to `std::basic_string<wchar_t, std::char_traits<wchar_t>, std::allocator<wchar_t> >::swap(std::basic_string<wchar_t, std::char_traits<wchar_t>, std::allocator<wchar_t> >&)@GLIBCXX_3.4'\n",
      "/data/home/wangys/anaconda3/envs/verl/compiler_compat/ld: /usr/local/cuda/lib64/libcufile.so: undefined reference to `std::cout@GLIBCXX_3.4'\n",
      "/data/home/wangys/anaconda3/envs/verl/compiler_compat/ld: /usr/local/cuda/lib64/libcufile.so: undefined reference to `std::ostream& std::ostream::_M_insert<unsigned long long>(unsigned long long)@GLIBCXX_3.4.9'\n",
      "/data/home/wangys/anaconda3/envs/verl/compiler_compat/ld: /usr/local/cuda/lib64/libcufile.so: undefined reference to `std::ostream& std::ostream::_M_insert<void const*>(void const*)@GLIBCXX_3.4.9'\n",
      "/data/home/wangys/anaconda3/envs/verl/compiler_compat/ld: /usr/local/cuda/lib64/libcufile.so: undefined reference to `vtable for std::underflow_error@GLIBCXX_3.4'\n",
      "/data/home/wangys/anaconda3/envs/verl/compiler_compat/ld: /usr/local/cuda/lib64/libcufile.so: undefined reference to `vtable for std::basic_streambuf<char, std::char_traits<char> >@GLIBCXX_3.4'\n",
      "/data/home/wangys/anaconda3/envs/verl/compiler_compat/ld: /usr/local/cuda/lib64/libcufile.so: undefined reference to `typeinfo for std::out_of_range@GLIBCXX_3.4'\n",
      "/data/home/wangys/anaconda3/envs/verl/compiler_compat/ld: /usr/local/cuda/lib64/libcufile.so: undefined reference to `__cxa_allocate_exception@CXXABI_1.3'\n",
      "/data/home/wangys/anaconda3/envs/verl/compiler_compat/ld: /usr/local/cuda/lib64/libcufile.so: undefined reference to `vtable for std::basic_ios<wchar_t, std::char_traits<wchar_t> >@GLIBCXX_3.4'\n",
      "/data/home/wangys/anaconda3/envs/verl/compiler_compat/ld: /usr/local/cuda/lib64/libcufile.so: undefined reference to `typeinfo for void const*@CXXABI_1.3'\n",
      "/data/home/wangys/anaconda3/envs/verl/compiler_compat/ld: /usr/local/cuda/lib64/libcufile.so: undefined reference to `std::basic_ios<wchar_t, std::char_traits<wchar_t> >::init(std::basic_streambuf<wchar_t, std::char_traits<wchar_t> >*)@GLIBCXX_3.4'\n",
      "/data/home/wangys/anaconda3/envs/verl/compiler_compat/ld: /usr/local/cuda/lib64/libcufile.so: undefined reference to `std::string::reserve(unsigned long)@GLIBCXX_3.4'\n",
      "/data/home/wangys/anaconda3/envs/verl/compiler_compat/ld: /usr/local/cuda/lib64/libcufile.so: undefined reference to `__cxa_begin_catch@CXXABI_1.3'\n",
      "/data/home/wangys/anaconda3/envs/verl/compiler_compat/ld: /usr/local/cuda/lib64/libcufile.so: undefined reference to `typeinfo for long@CXXABI_1.3'\n",
      "/data/home/wangys/anaconda3/envs/verl/compiler_compat/ld: /usr/local/cuda/lib64/libcufile.so: undefined reference to `std::basic_string<wchar_t, std::char_traits<wchar_t>, std::allocator<wchar_t> >::_Rep::_S_empty_rep_storage@GLIBCXX_3.4'\n",
      "/data/home/wangys/anaconda3/envs/verl/compiler_compat/ld: /usr/local/cuda/lib64/libcufile.so: undefined reference to `std::string::_M_leak()@GLIBCXX_3.4'\n",
      "/data/home/wangys/anaconda3/envs/verl/compiler_compat/ld: /usr/local/cuda/lib64/libcufile.so: undefined reference to `std::basic_filebuf<char, std::char_traits<char> >::open(char const*, std::_Ios_Openmode)@GLIBCXX_3.4'\n",
      "/data/home/wangys/anaconda3/envs/verl/compiler_compat/ld: /usr/local/cuda/lib64/libcufile.so: undefined reference to `std::basic_stringbuf<wchar_t, std::char_traits<wchar_t>, std::allocator<wchar_t> >::_M_sync(wchar_t*, unsigned long, unsigned long)@GLIBCXX_3.4'\n",
      "/data/home/wangys/anaconda3/envs/verl/compiler_compat/ld: /usr/local/cuda/lib64/libcufile.so: undefined reference to `std::istream::getline(char*, long, char)@GLIBCXX_3.4'\n",
      "/data/home/wangys/anaconda3/envs/verl/compiler_compat/ld: /usr/local/cuda/lib64/libcufile.so: undefined reference to `std::basic_istream<char, std::char_traits<char> >& std::getline<char, std::char_traits<char>, std::allocator<char> >(std::basic_istream<char, std::char_traits<char> >&, std::basic_string<char, std::char_traits<char>, std::allocator<char> >&, char)@GLIBCXX_3.4'\n",
      "/data/home/wangys/anaconda3/envs/verl/compiler_compat/ld: /usr/local/cuda/lib64/libcufile.so: undefined reference to `vtable for std::basic_stringstream<wchar_t, std::char_traits<wchar_t>, std::allocator<wchar_t> >@GLIBCXX_3.4'\n",
      "/data/home/wangys/anaconda3/envs/verl/compiler_compat/ld: /usr/local/cuda/lib64/libcufile.so: undefined reference to `std::condition_variable::~condition_variable()@GLIBCXX_3.4.11'\n",
      "/data/home/wangys/anaconda3/envs/verl/compiler_compat/ld: /usr/local/cuda/lib64/libcufile.so: undefined reference to `vtable for std::basic_stringbuf<wchar_t, std::char_traits<wchar_t>, std::allocator<wchar_t> >@GLIBCXX_3.4'\n",
      "/data/home/wangys/anaconda3/envs/verl/compiler_compat/ld: /usr/local/cuda/lib64/libcufile.so: undefined reference to `std::string::insert(unsigned long, char const*, unsigned long)@GLIBCXX_3.4'\n",
      "/data/home/wangys/anaconda3/envs/verl/compiler_compat/ld: /usr/local/cuda/lib64/libcufile.so: undefined reference to `std::string::assign(char const*, unsigned long)@GLIBCXX_3.4'\n",
      "/data/home/wangys/anaconda3/envs/verl/compiler_compat/ld: /usr/local/cuda/lib64/libcufile.so: undefined reference to `typeinfo for unsigned char@CXXABI_1.3'\n",
      "/data/home/wangys/anaconda3/envs/verl/compiler_compat/ld: /usr/local/cuda/lib64/libcufile.so: undefined reference to `std::ios_base::ios_base()@GLIBCXX_3.4'\n",
      "/data/home/wangys/anaconda3/envs/verl/compiler_compat/ld: /usr/local/cuda/lib64/libcufile.so: undefined reference to `std::__throw_out_of_range(char const*)@GLIBCXX_3.4'\n",
      "/data/home/wangys/anaconda3/envs/verl/compiler_compat/ld: /usr/local/cuda/lib64/libcufile.so: undefined reference to `std::overflow_error::~overflow_error()@GLIBCXX_3.4'\n",
      "/data/home/wangys/anaconda3/envs/verl/compiler_compat/ld: /usr/local/cuda/lib64/libcufile.so: undefined reference to `std::__throw_length_error(char const*)@GLIBCXX_3.4'\n",
      "/data/home/wangys/anaconda3/envs/verl/compiler_compat/ld: /usr/local/cuda/lib64/libcufile.so: undefined reference to `std::__throw_system_error(int)@GLIBCXX_3.4.11'\n",
      "/data/home/wangys/anaconda3/envs/verl/compiler_compat/ld: /usr/local/cuda/lib64/libcufile.so: undefined reference to `std::basic_ofstream<char, std::char_traits<char> >::close()@GLIBCXX_3.4'\n",
      "/data/home/wangys/anaconda3/envs/verl/compiler_compat/ld: /usr/local/cuda/lib64/libcufile.so: undefined reference to `std::ostream& std::ostream::_M_insert<double>(double)@GLIBCXX_3.4.9'\n",
      "/data/home/wangys/anaconda3/envs/verl/compiler_compat/ld: /usr/local/cuda/lib64/libcufile.so: undefined reference to `std::basic_streambuf<char, std::char_traits<char> >::operator=(std::basic_streambuf<char, std::char_traits<char> > const&)@GLIBCXX_3.4'\n",
      "/data/home/wangys/anaconda3/envs/verl/compiler_compat/ld: /usr/local/cuda/lib64/libcufile.so: undefined reference to `typeinfo for long long@CXXABI_1.3'\n",
      "/data/home/wangys/anaconda3/envs/verl/compiler_compat/ld: /usr/local/cuda/lib64/libcufile.so: undefined reference to `std::basic_string<char, std::char_traits<char>, std::allocator<char> >::basic_string(char const*, unsigned long, std::allocator<char> const&)@GLIBCXX_3.4'\n",
      "/data/home/wangys/anaconda3/envs/verl/compiler_compat/ld: /usr/local/cuda/lib64/libcufile.so: undefined reference to `std::basic_ifstream<char, std::char_traits<char> >::close()@GLIBCXX_3.4'\n",
      "/data/home/wangys/anaconda3/envs/verl/compiler_compat/ld: /usr/local/cuda/lib64/libcufile.so: undefined reference to `__cxa_guard_release@CXXABI_1.3'\n",
      "/data/home/wangys/anaconda3/envs/verl/compiler_compat/ld: /usr/local/cuda/lib64/libcufile.so: undefined reference to `__cxa_throw@CXXABI_1.3'\n",
      "/data/home/wangys/anaconda3/envs/verl/compiler_compat/ld: /usr/local/cuda/lib64/libcufile.so: undefined reference to `std::underflow_error::~underflow_error()@GLIBCXX_3.4'\n",
      "/data/home/wangys/anaconda3/envs/verl/compiler_compat/ld: /usr/local/cuda/lib64/libcufile.so: undefined reference to `std::_Rb_tree_decrement(std::_Rb_tree_node_base*)@GLIBCXX_3.4'\n",
      "/data/home/wangys/anaconda3/envs/verl/compiler_compat/ld: /usr/local/cuda/lib64/libcufile.so: undefined reference to `vtable for std::length_error@GLIBCXX_3.4'\n",
      "/data/home/wangys/anaconda3/envs/verl/compiler_compat/ld: /usr/local/cuda/lib64/libcufile.so: undefined reference to `std::basic_filebuf<char, std::char_traits<char> >::~basic_filebuf()@GLIBCXX_3.4'\n",
      "collect2: error: ld returned 1 exit status\n"
     ]
    },
    {
     "name": "stdout",
     "output_type": "stream",
     "text": [
      "Original Train File Size:2563\n",
      "\n",
      "Select Train File Size:522\n"
     ]
    },
    {
     "name": "stderr",
     "output_type": "stream",
     "text": [
      "/data/home/wangys/anaconda3/envs/verl/lib/python3.10/site-packages/sklearn/metrics/_classification.py:1565: UndefinedMetricWarning: Precision is ill-defined and being set to 0.0 due to no predicted samples. Use `zero_division` parameter to control this behavior.\n",
      "  _warn_prf(average, modifier, f\"{metric.capitalize()} is\", len(result))\n",
      "/data/home/wangys/anaconda3/envs/verl/lib/python3.10/site-packages/sklearn/metrics/_classification.py:1565: UndefinedMetricWarning: Precision is ill-defined and being set to 0.0 due to no predicted samples. Use `zero_division` parameter to control this behavior.\n",
      "  _warn_prf(average, modifier, f\"{metric.capitalize()} is\", len(result))\n"
     ]
    },
    {
     "name": "stdout",
     "output_type": "stream",
     "text": [
      "Precision:0.0\n",
      "\n",
      "Recall:0.0\n",
      "\n",
      "F1:0.0\n"
     ]
    },
    {
     "ename": "FileNotFoundError",
     "evalue": "[Errno 2] No such file or directory: 'output/Ablation/SM/CMS/mistral-7B-w-FL.csv'",
     "output_type": "error",
     "traceback": [
      "\u001b[0;31m---------------------------------------------------------------------------\u001b[0m",
      "\u001b[0;31mFileNotFoundError\u001b[0m                         Traceback (most recent call last)",
      "Cell \u001b[0;32mIn[1], line 21\u001b[0m\n\u001b[1;32m     18\u001b[0m all_metrics \u001b[39m=\u001b[39m {}\n\u001b[1;32m     20\u001b[0m \u001b[39mfor\u001b[39;00m ablation \u001b[39min\u001b[39;00m [\u001b[39m'\u001b[39m\u001b[39mppl\u001b[39m\u001b[39m'\u001b[39m,\u001b[39m'\u001b[39m\u001b[39mFL\u001b[39m\u001b[39m'\u001b[39m,\u001b[39m'\u001b[39m\u001b[39mIF\u001b[39m\u001b[39m'\u001b[39m]:\n\u001b[0;32m---> 21\u001b[0m     result \u001b[39m=\u001b[39m pd\u001b[39m.\u001b[39;49mread_csv(\u001b[39m'\u001b[39;49m\u001b[39moutput/Ablation/\u001b[39;49m\u001b[39m{}\u001b[39;49;00m\u001b[39m/\u001b[39;49m\u001b[39m{}\u001b[39;49;00m\u001b[39m/mistral-7B-w-\u001b[39;49m\u001b[39m{}\u001b[39;49;00m\u001b[39m.csv\u001b[39;49m\u001b[39m'\u001b[39;49m\u001b[39m.\u001b[39;49mformat(task,dataset,ablation),index_col\u001b[39m=\u001b[39;49m\u001b[39m0\u001b[39;49m)\n\u001b[1;32m     23\u001b[0m     metrics \u001b[39m=\u001b[39m evaluator\u001b[39m.\u001b[39mprocess(task,dataset,result)\n\u001b[1;32m     24\u001b[0m     all_metrics[ablation] \u001b[39m=\u001b[39m metrics\n",
      "File \u001b[0;32m/data/home/wangys/anaconda3/envs/verl/lib/python3.10/site-packages/pandas/io/parsers/readers.py:1026\u001b[0m, in \u001b[0;36mread_csv\u001b[0;34m(filepath_or_buffer, sep, delimiter, header, names, index_col, usecols, dtype, engine, converters, true_values, false_values, skipinitialspace, skiprows, skipfooter, nrows, na_values, keep_default_na, na_filter, verbose, skip_blank_lines, parse_dates, infer_datetime_format, keep_date_col, date_parser, date_format, dayfirst, cache_dates, iterator, chunksize, compression, thousands, decimal, lineterminator, quotechar, quoting, doublequote, escapechar, comment, encoding, encoding_errors, dialect, on_bad_lines, delim_whitespace, low_memory, memory_map, float_precision, storage_options, dtype_backend)\u001b[0m\n\u001b[1;32m   1013\u001b[0m kwds_defaults \u001b[39m=\u001b[39m _refine_defaults_read(\n\u001b[1;32m   1014\u001b[0m     dialect,\n\u001b[1;32m   1015\u001b[0m     delimiter,\n\u001b[0;32m   (...)\u001b[0m\n\u001b[1;32m   1022\u001b[0m     dtype_backend\u001b[39m=\u001b[39mdtype_backend,\n\u001b[1;32m   1023\u001b[0m )\n\u001b[1;32m   1024\u001b[0m kwds\u001b[39m.\u001b[39mupdate(kwds_defaults)\n\u001b[0;32m-> 1026\u001b[0m \u001b[39mreturn\u001b[39;00m _read(filepath_or_buffer, kwds)\n",
      "File \u001b[0;32m/data/home/wangys/anaconda3/envs/verl/lib/python3.10/site-packages/pandas/io/parsers/readers.py:620\u001b[0m, in \u001b[0;36m_read\u001b[0;34m(filepath_or_buffer, kwds)\u001b[0m\n\u001b[1;32m    617\u001b[0m _validate_names(kwds\u001b[39m.\u001b[39mget(\u001b[39m\"\u001b[39m\u001b[39mnames\u001b[39m\u001b[39m\"\u001b[39m, \u001b[39mNone\u001b[39;00m))\n\u001b[1;32m    619\u001b[0m \u001b[39m# Create the parser.\u001b[39;00m\n\u001b[0;32m--> 620\u001b[0m parser \u001b[39m=\u001b[39m TextFileReader(filepath_or_buffer, \u001b[39m*\u001b[39;49m\u001b[39m*\u001b[39;49mkwds)\n\u001b[1;32m    622\u001b[0m \u001b[39mif\u001b[39;00m chunksize \u001b[39mor\u001b[39;00m iterator:\n\u001b[1;32m    623\u001b[0m     \u001b[39mreturn\u001b[39;00m parser\n",
      "File \u001b[0;32m/data/home/wangys/anaconda3/envs/verl/lib/python3.10/site-packages/pandas/io/parsers/readers.py:1620\u001b[0m, in \u001b[0;36mTextFileReader.__init__\u001b[0;34m(self, f, engine, **kwds)\u001b[0m\n\u001b[1;32m   1617\u001b[0m     \u001b[39mself\u001b[39m\u001b[39m.\u001b[39moptions[\u001b[39m\"\u001b[39m\u001b[39mhas_index_names\u001b[39m\u001b[39m\"\u001b[39m] \u001b[39m=\u001b[39m kwds[\u001b[39m\"\u001b[39m\u001b[39mhas_index_names\u001b[39m\u001b[39m\"\u001b[39m]\n\u001b[1;32m   1619\u001b[0m \u001b[39mself\u001b[39m\u001b[39m.\u001b[39mhandles: IOHandles \u001b[39m|\u001b[39m \u001b[39mNone\u001b[39;00m \u001b[39m=\u001b[39m \u001b[39mNone\u001b[39;00m\n\u001b[0;32m-> 1620\u001b[0m \u001b[39mself\u001b[39m\u001b[39m.\u001b[39m_engine \u001b[39m=\u001b[39m \u001b[39mself\u001b[39;49m\u001b[39m.\u001b[39;49m_make_engine(f, \u001b[39mself\u001b[39;49m\u001b[39m.\u001b[39;49mengine)\n",
      "File \u001b[0;32m/data/home/wangys/anaconda3/envs/verl/lib/python3.10/site-packages/pandas/io/parsers/readers.py:1880\u001b[0m, in \u001b[0;36mTextFileReader._make_engine\u001b[0;34m(self, f, engine)\u001b[0m\n\u001b[1;32m   1878\u001b[0m     \u001b[39mif\u001b[39;00m \u001b[39m\"\u001b[39m\u001b[39mb\u001b[39m\u001b[39m\"\u001b[39m \u001b[39mnot\u001b[39;00m \u001b[39min\u001b[39;00m mode:\n\u001b[1;32m   1879\u001b[0m         mode \u001b[39m+\u001b[39m\u001b[39m=\u001b[39m \u001b[39m\"\u001b[39m\u001b[39mb\u001b[39m\u001b[39m\"\u001b[39m\n\u001b[0;32m-> 1880\u001b[0m \u001b[39mself\u001b[39m\u001b[39m.\u001b[39mhandles \u001b[39m=\u001b[39m get_handle(\n\u001b[1;32m   1881\u001b[0m     f,\n\u001b[1;32m   1882\u001b[0m     mode,\n\u001b[1;32m   1883\u001b[0m     encoding\u001b[39m=\u001b[39;49m\u001b[39mself\u001b[39;49m\u001b[39m.\u001b[39;49moptions\u001b[39m.\u001b[39;49mget(\u001b[39m\"\u001b[39;49m\u001b[39mencoding\u001b[39;49m\u001b[39m\"\u001b[39;49m, \u001b[39mNone\u001b[39;49;00m),\n\u001b[1;32m   1884\u001b[0m     compression\u001b[39m=\u001b[39;49m\u001b[39mself\u001b[39;49m\u001b[39m.\u001b[39;49moptions\u001b[39m.\u001b[39;49mget(\u001b[39m\"\u001b[39;49m\u001b[39mcompression\u001b[39;49m\u001b[39m\"\u001b[39;49m, \u001b[39mNone\u001b[39;49;00m),\n\u001b[1;32m   1885\u001b[0m     memory_map\u001b[39m=\u001b[39;49m\u001b[39mself\u001b[39;49m\u001b[39m.\u001b[39;49moptions\u001b[39m.\u001b[39;49mget(\u001b[39m\"\u001b[39;49m\u001b[39mmemory_map\u001b[39;49m\u001b[39m\"\u001b[39;49m, \u001b[39mFalse\u001b[39;49;00m),\n\u001b[1;32m   1886\u001b[0m     is_text\u001b[39m=\u001b[39;49mis_text,\n\u001b[1;32m   1887\u001b[0m     errors\u001b[39m=\u001b[39;49m\u001b[39mself\u001b[39;49m\u001b[39m.\u001b[39;49moptions\u001b[39m.\u001b[39;49mget(\u001b[39m\"\u001b[39;49m\u001b[39mencoding_errors\u001b[39;49m\u001b[39m\"\u001b[39;49m, \u001b[39m\"\u001b[39;49m\u001b[39mstrict\u001b[39;49m\u001b[39m\"\u001b[39;49m),\n\u001b[1;32m   1888\u001b[0m     storage_options\u001b[39m=\u001b[39;49m\u001b[39mself\u001b[39;49m\u001b[39m.\u001b[39;49moptions\u001b[39m.\u001b[39;49mget(\u001b[39m\"\u001b[39;49m\u001b[39mstorage_options\u001b[39;49m\u001b[39m\"\u001b[39;49m, \u001b[39mNone\u001b[39;49;00m),\n\u001b[1;32m   1889\u001b[0m )\n\u001b[1;32m   1890\u001b[0m \u001b[39massert\u001b[39;00m \u001b[39mself\u001b[39m\u001b[39m.\u001b[39mhandles \u001b[39mis\u001b[39;00m \u001b[39mnot\u001b[39;00m \u001b[39mNone\u001b[39;00m\n\u001b[1;32m   1891\u001b[0m f \u001b[39m=\u001b[39m \u001b[39mself\u001b[39m\u001b[39m.\u001b[39mhandles\u001b[39m.\u001b[39mhandle\n",
      "File \u001b[0;32m/data/home/wangys/anaconda3/envs/verl/lib/python3.10/site-packages/pandas/io/common.py:873\u001b[0m, in \u001b[0;36mget_handle\u001b[0;34m(path_or_buf, mode, encoding, compression, memory_map, is_text, errors, storage_options)\u001b[0m\n\u001b[1;32m    868\u001b[0m \u001b[39melif\u001b[39;00m \u001b[39misinstance\u001b[39m(handle, \u001b[39mstr\u001b[39m):\n\u001b[1;32m    869\u001b[0m     \u001b[39m# Check whether the filename is to be opened in binary mode.\u001b[39;00m\n\u001b[1;32m    870\u001b[0m     \u001b[39m# Binary mode does not support 'encoding' and 'newline'.\u001b[39;00m\n\u001b[1;32m    871\u001b[0m     \u001b[39mif\u001b[39;00m ioargs\u001b[39m.\u001b[39mencoding \u001b[39mand\u001b[39;00m \u001b[39m\"\u001b[39m\u001b[39mb\u001b[39m\u001b[39m\"\u001b[39m \u001b[39mnot\u001b[39;00m \u001b[39min\u001b[39;00m ioargs\u001b[39m.\u001b[39mmode:\n\u001b[1;32m    872\u001b[0m         \u001b[39m# Encoding\u001b[39;00m\n\u001b[0;32m--> 873\u001b[0m         handle \u001b[39m=\u001b[39m \u001b[39mopen\u001b[39;49m(\n\u001b[1;32m    874\u001b[0m             handle,\n\u001b[1;32m    875\u001b[0m             ioargs\u001b[39m.\u001b[39;49mmode,\n\u001b[1;32m    876\u001b[0m             encoding\u001b[39m=\u001b[39;49mioargs\u001b[39m.\u001b[39;49mencoding,\n\u001b[1;32m    877\u001b[0m             errors\u001b[39m=\u001b[39;49merrors,\n\u001b[1;32m    878\u001b[0m             newline\u001b[39m=\u001b[39;49m\u001b[39m\"\u001b[39;49m\u001b[39m\"\u001b[39;49m,\n\u001b[1;32m    879\u001b[0m         )\n\u001b[1;32m    880\u001b[0m     \u001b[39melse\u001b[39;00m:\n\u001b[1;32m    881\u001b[0m         \u001b[39m# Binary mode\u001b[39;00m\n\u001b[1;32m    882\u001b[0m         handle \u001b[39m=\u001b[39m \u001b[39mopen\u001b[39m(handle, ioargs\u001b[39m.\u001b[39mmode)\n",
      "\u001b[0;31mFileNotFoundError\u001b[0m: [Errno 2] No such file or directory: 'output/Ablation/SM/CMS/mistral-7B-w-FL.csv'"
     ]
    }
   ],
   "source": [
    "import numpy as np\n",
    "import pandas as pd\n",
    "from src.evaluation import evaluation\n",
    "from src.util_func import load_yaml\n",
    "evaluator = evaluation()\n",
    "task = 'SM'\n",
    "dataset = 'CMS'\n",
    "config = load_yaml('script/config_{}_{}.yaml'.format(task,dataset))\n",
    "select_config = load_yaml('script/ablation/mistral-7B_lora_{}_{}_P2-w-FL.yaml'.format(task,dataset))\n",
    "train_file_path = config['train_file_path']\n",
    "train_file = pd.read_json(train_file_path)\n",
    "train_file_size = len(train_file)\n",
    "\n",
    "select_file_path = select_config['train_file_path']\n",
    "select_file = pd.read_json(select_file_path)\n",
    "select_file_size = len(select_file)\n",
    "print('Original Train File Size:{}\\n\\nSelect Train File Size:{}'.format(train_file_size,select_file_size))\n",
    "all_metrics = {}\n",
    "\n",
    "for ablation in ['ppl','FL','IF']:\n",
    "    result = pd.read_csv('output/Ablation/{}/{}/mistral-7B-w-{}.csv'.format(task,dataset,ablation),index_col=0)\n",
    "    \n",
    "    metrics = evaluator.process(task,dataset,result)\n",
    "    all_metrics[ablation] = metrics\n",
    "# print(len(result))\n",
    "print(all_metrics)"
   ]
  },
  {
   "cell_type": "code",
   "execution_count": 7,
   "metadata": {},
   "outputs": [
    {
     "name": "stdout",
     "output_type": "stream",
     "text": [
      "Precision:0.0\n",
      "\n",
      "Recall:0.0\n",
      "\n",
      "F1:0.0\n"
     ]
    },
    {
     "name": "stderr",
     "output_type": "stream",
     "text": [
      "/data/home/wangys/anaconda3/envs/verl/lib/python3.10/site-packages/sklearn/metrics/_classification.py:1565: UndefinedMetricWarning: Precision is ill-defined and being set to 0.0 due to no predicted samples. Use `zero_division` parameter to control this behavior.\n",
      "  _warn_prf(average, modifier, f\"{metric.capitalize()} is\", len(result))\n",
      "/data/home/wangys/anaconda3/envs/verl/lib/python3.10/site-packages/sklearn/metrics/_classification.py:1565: UndefinedMetricWarning: Precision is ill-defined and being set to 0.0 due to no predicted samples. Use `zero_division` parameter to control this behavior.\n",
      "  _warn_prf(average, modifier, f\"{metric.capitalize()} is\", len(result))\n"
     ]
    },
    {
     "data": {
      "text/plain": [
       "{'precision': 0.0, 'recall': 0.0, 'F1': 0.0}"
      ]
     },
     "execution_count": 7,
     "metadata": {},
     "output_type": "execute_result"
    }
   ],
   "source": [
    "dataset = 'CMS'\n",
    "task = 'SM'\n",
    "# result = pd.read_csv('inference_Transfer_ER/select--CMS-test.csv',index_col=0)\n",
    "result = pd.read_csv('output/Ablation/SM/CMS/mistral-7B-w-FL.csv',index_col=0)\n",
    "  \n",
    "metrics = evaluator.process(task,dataset,result)\n",
    "\n",
    "metrics"
   ]
  },
  {
   "cell_type": "code",
   "execution_count": 19,
   "metadata": {},
   "outputs": [],
   "source": [
    "# all_metrics\n",
    "np.save('eval_result/mistral-7B-CTA-SimTab.npy',all_metrics)"
   ]
  },
  {
   "cell_type": "code",
   "execution_count": 8,
   "metadata": {},
   "outputs": [],
   "source": [
    "import datasets"
   ]
  },
  {
   "cell_type": "code",
   "execution_count": 10,
   "metadata": {},
   "outputs": [],
   "source": [
    "data = datasets.load_from_disk('QuRating/data/annotation/CTA-WebTable/')"
   ]
  },
  {
   "cell_type": "code",
   "execution_count": 29,
   "metadata": {},
   "outputs": [
    {
     "data": {
      "text/plain": [
       "672"
      ]
     },
     "execution_count": 29,
     "metadata": {},
     "output_type": "execute_result"
    }
   ],
   "source": [
    "data[0]['length']"
   ]
  },
  {
   "cell_type": "code",
   "execution_count": 5,
   "metadata": {},
   "outputs": [
    {
     "data": {
      "text/plain": [
       "1309850"
      ]
     },
     "execution_count": 5,
     "metadata": {},
     "output_type": "execute_result"
    }
   ],
   "source": [
    "670 * 1955"
   ]
  },
  {
   "cell_type": "code",
   "execution_count": 24,
   "metadata": {},
   "outputs": [],
   "source": [
    "import glob\n",
    "import datasets\n",
    "subset = datasets.concatenate_datasets([datasets.load_from_disk(ds) for ds in sorted(glob.glob(\"QuRating/data/subset/RE-RE/*\"))])\n"
   ]
  },
  {
   "cell_type": "code",
   "execution_count": 19,
   "metadata": {},
   "outputs": [],
   "source": [
    "score_list = []\n",
    "for i in range(len(subset)):\n",
    "    score_list.extend([subset[i]['writing_style_average']])\n",
    "    "
   ]
  },
  {
   "cell_type": "code",
   "execution_count": 34,
   "metadata": {},
   "outputs": [
    {
     "data": {
      "text/plain": [
       "(array([ 136, 2842, 3463,  202,    1,    0,    0,    7,    4,    2]),\n",
       " array([-1.828125  , -1.61046473, -1.39280446, -1.17514419, -0.95748392,\n",
       "        -0.73982365, -0.52216339, -0.30450312, -0.08684285,  0.13081742,\n",
       "         0.34847769]))"
      ]
     },
     "execution_count": 34,
     "metadata": {},
     "output_type": "execute_result"
    }
   ],
   "source": [
    "np.histogram(np.array(list(score.values())))"
   ]
  },
  {
   "cell_type": "code",
   "execution_count": 41,
   "metadata": {},
   "outputs": [
    {
     "data": {
      "text/plain": [
       "6657"
      ]
     },
     "execution_count": 41,
     "metadata": {},
     "output_type": "execute_result"
    }
   ],
   "source": [
    "import torch\n",
    "total_score = torch.load('selection/RE/RE/Total-Score.pkl',weights_only=False)\n",
    "len(total_score)"
   ]
  },
  {
   "cell_type": "code",
   "execution_count": 43,
   "metadata": {},
   "outputs": [
    {
     "data": {
      "text/plain": [
       "array([ 765,  764, 1929, ..., 6461, 5476, 4390])"
      ]
     },
     "execution_count": 43,
     "metadata": {},
     "output_type": "execute_result"
    }
   ],
   "source": [
    "np.argsort(total_score)"
   ]
  },
  {
   "cell_type": "code",
   "execution_count": 60,
   "metadata": {},
   "outputs": [
    {
     "data": {
      "text/html": [
       "<div>\n",
       "<style scoped>\n",
       "    .dataframe tbody tr th:only-of-type {\n",
       "        vertical-align: middle;\n",
       "    }\n",
       "\n",
       "    .dataframe tbody tr th {\n",
       "        vertical-align: top;\n",
       "    }\n",
       "\n",
       "    .dataframe thead th {\n",
       "        text-align: right;\n",
       "    }\n",
       "</style>\n",
       "<table border=\"1\" class=\"dataframe\">\n",
       "  <thead>\n",
       "    <tr style=\"text-align: right;\">\n",
       "      <th></th>\n",
       "      <th>instruction</th>\n",
       "      <th>input</th>\n",
       "      <th>output</th>\n",
       "    </tr>\n",
       "  </thead>\n",
       "  <tbody>\n",
       "    <tr>\n",
       "      <th>0</th>\n",
       "      <td>You are an expert in relation extraction from ...</td>\n",
       "      <td></td>\n",
       "      <td>{\"relation\": \"aviation.airline.hubs\"}</td>\n",
       "    </tr>\n",
       "    <tr>\n",
       "      <th>1</th>\n",
       "      <td>You are an expert in relation extraction from ...</td>\n",
       "      <td></td>\n",
       "      <td>{\"relation\": \"aviation.airline.hubs\"}</td>\n",
       "    </tr>\n",
       "    <tr>\n",
       "      <th>2</th>\n",
       "      <td>You are an expert in relation extraction from ...</td>\n",
       "      <td></td>\n",
       "      <td>{\"relation\": \"aviation.airport.serves\"}</td>\n",
       "    </tr>\n",
       "    <tr>\n",
       "      <th>3</th>\n",
       "      <td>You are an expert in relation extraction from ...</td>\n",
       "      <td></td>\n",
       "      <td>{\"relation\": \"aviation.airport.serves\"}</td>\n",
       "    </tr>\n",
       "    <tr>\n",
       "      <th>4</th>\n",
       "      <td>You are an expert in relation extraction from ...</td>\n",
       "      <td></td>\n",
       "      <td>{\"relation\": \"aviation.airport.serves\"}</td>\n",
       "    </tr>\n",
       "    <tr>\n",
       "      <th>...</th>\n",
       "      <td>...</td>\n",
       "      <td>...</td>\n",
       "      <td>...</td>\n",
       "    </tr>\n",
       "    <tr>\n",
       "      <th>1287</th>\n",
       "      <td>You are an expert in relation extraction from ...</td>\n",
       "      <td></td>\n",
       "      <td>{\"relation\": \"sports.sports_team.venue-sports....</td>\n",
       "    </tr>\n",
       "    <tr>\n",
       "      <th>1288</th>\n",
       "      <td>You are an expert in relation extraction from ...</td>\n",
       "      <td></td>\n",
       "      <td>{\"relation\": \"sports.sports_team.venue-sports....</td>\n",
       "    </tr>\n",
       "    <tr>\n",
       "      <th>1289</th>\n",
       "      <td>You are an expert in relation extraction from ...</td>\n",
       "      <td></td>\n",
       "      <td>{\"relation\": \"time.event.instance_of_recurring...</td>\n",
       "    </tr>\n",
       "    <tr>\n",
       "      <th>1290</th>\n",
       "      <td>You are an expert in relation extraction from ...</td>\n",
       "      <td></td>\n",
       "      <td>{\"relation\": \"tv.tv_program.original_network-t...</td>\n",
       "    </tr>\n",
       "    <tr>\n",
       "      <th>1291</th>\n",
       "      <td>You are an expert in relation extraction from ...</td>\n",
       "      <td></td>\n",
       "      <td>{\"relation\": \"tv.tv_program.original_network-t...</td>\n",
       "    </tr>\n",
       "  </tbody>\n",
       "</table>\n",
       "<p>1292 rows × 3 columns</p>\n",
       "</div>"
      ],
      "text/plain": [
       "                                            instruction input  \\\n",
       "0     You are an expert in relation extraction from ...         \n",
       "1     You are an expert in relation extraction from ...         \n",
       "2     You are an expert in relation extraction from ...         \n",
       "3     You are an expert in relation extraction from ...         \n",
       "4     You are an expert in relation extraction from ...         \n",
       "...                                                 ...   ...   \n",
       "1287  You are an expert in relation extraction from ...         \n",
       "1288  You are an expert in relation extraction from ...         \n",
       "1289  You are an expert in relation extraction from ...         \n",
       "1290  You are an expert in relation extraction from ...         \n",
       "1291  You are an expert in relation extraction from ...         \n",
       "\n",
       "                                                 output  \n",
       "0                 {\"relation\": \"aviation.airline.hubs\"}  \n",
       "1                 {\"relation\": \"aviation.airline.hubs\"}  \n",
       "2               {\"relation\": \"aviation.airport.serves\"}  \n",
       "3               {\"relation\": \"aviation.airport.serves\"}  \n",
       "4               {\"relation\": \"aviation.airport.serves\"}  \n",
       "...                                                 ...  \n",
       "1287  {\"relation\": \"sports.sports_team.venue-sports....  \n",
       "1288  {\"relation\": \"sports.sports_team.venue-sports....  \n",
       "1289  {\"relation\": \"time.event.instance_of_recurring...  \n",
       "1290  {\"relation\": \"tv.tv_program.original_network-t...  \n",
       "1291  {\"relation\": \"tv.tv_program.original_network-t...  \n",
       "\n",
       "[1292 rows x 3 columns]"
      ]
     },
     "execution_count": 60,
     "metadata": {},
     "output_type": "execute_result"
    }
   ],
   "source": [
    "pd.read_json('train/RE/RE/train-select-w-QuRating.json')"
   ]
  },
  {
   "cell_type": "code",
   "execution_count": 68,
   "metadata": {},
   "outputs": [],
   "source": [
    "cot = pd.read_json('../LESS/data/train/processed/flan_v2/flan_v2_data.jsonl',lines=True)"
   ]
  },
  {
   "cell_type": "code",
   "execution_count": null,
   "metadata": {},
   "outputs": [],
   "source": [
    "import random\n",
    "import json\n",
    "import os\n",
    "import yaml\n",
    "from tqdm.notebook import tqdm\n",
    "import pandas as pd\n",
    "def process_datasets(config_folder: str, output_folder: str):\n",
    "    \"\"\"\n",
    "    遍历给定文件夹内的 YAML 配置文件，处理相应的 JSON 文件，并生成 JSONL 格式的输出。\n",
    "\n",
    "    Args:\n",
    "        config_folder (str): 包含 YAML 配置文件的文件夹路径。\n",
    "        output_folder (str): 用于保存新生成的 JSONL 文件的文件夹路径。\n",
    "    \"\"\"\n",
    "    if not os.path.exists(output_folder):\n",
    "        os.makedirs(output_folder)\n",
    "        print(f\"Created output folder: {output_folder}\")\n",
    "\n",
    "    for root, _, files in os.walk(config_folder):\n",
    "        for file_name in files:\n",
    "            if file_name.endswith('.yaml') and 'config_' in file_name:\n",
    "                yaml_path = os.path.join(root, file_name)\n",
    "                \n",
    "                print(f\"\\nProcessing YAML file: {yaml_path}\")\n",
    "                try:\n",
    "                    with open(yaml_path, 'r', encoding='utf-8') as f:\n",
    "                        yaml_data = yaml.safe_load(f)\n",
    "                except Exception as e:\n",
    "                    print(f\"Error reading YAML file {yaml_path}: {e}\")\n",
    "                    continue\n",
    "\n",
    "                if 'train_file_path' in yaml_data:\n",
    "                    json_path = yaml_data['train_file_path']\n",
    "                    dataset_name = yaml_data.get('dataset', 'unknown_dataset')\n",
    "                    task_name = yaml_data.get('task', 'unknown_task')\n",
    "                    \n",
    "                    full_dataset_name = f\"{task_name}_{dataset_name}\"\n",
    "                    \n",
    "                    if not os.path.exists(json_path):\n",
    "                        print(f\"Warning: JSON file not found at {json_path}. Skipping.\")\n",
    "                        continue\n",
    "                        \n",
    "                    print(f\"  -> Reading JSON file: {json_path}\")\n",
    "                    try:\n",
    "                        df = pd.read_json(json_path)\n",
    "                    except Exception as e:\n",
    "                        print(f\"Error reading JSON file {json_path}: {e}\")\n",
    "                        continue\n",
    "                    \n",
    "                    # 检查所需的列是否存在\n",
    "                    if 'instruction' not in df.columns or 'output' not in df.columns:\n",
    "                        print(f\"Warning: JSON file {json_path} is missing 'instruction' or 'output' column. Skipping.\")\n",
    "                        continue\n",
    "                        \n",
    "                    # 创建新的 JSONL 文件名\n",
    "                    full_output_file = os.path.join(output_folder, f\"{full_dataset_name}_full.jsonl\")\n",
    "                    subset_output_file = os.path.join(output_folder, f\"{full_dataset_name}_subset.jsonl\")\n",
    "                    \n",
    "                    # 生成完整数据集\n",
    "                    full_data_list = []\n",
    "                    for index, row in tqdm(df.iterrows(), total=len(df), desc=\"  -> Formatting data\"):\n",
    "                        new_entry = {\n",
    "                            \"dataset\": full_dataset_name,\n",
    "                            \"id\": f\"{full_dataset_name}_{index}\",\n",
    "                            \"messages\": [\n",
    "                                {\n",
    "                                    \"role\": \"user\",\n",
    "                                    \"content\": row['instruction']\n",
    "                                },\n",
    "                                {\n",
    "                                    \"role\": \"assistant\",\n",
    "                                    \"content\": row['output']\n",
    "                                }\n",
    "                            ]\n",
    "                        }\n",
    "                        full_data_list.append(new_entry)\n",
    "                    \n",
    "                    # 保存完整数据集\n",
    "                    with open(full_output_file, 'w', encoding='utf-8') as f:\n",
    "                        for item in full_data_list:\n",
    "                            f.write(json.dumps(item, ensure_ascii=False) + '\\n')\n",
    "                    print(f\"  -> Successfully created full JSONL file: {full_output_file}\")\n",
    "                    \n",
    "                    # 随机抽取1%的数据样本\n",
    "                    sample_size = max(1, int(len(full_data_list) * 0.01))\n",
    "                    subset_data_list = random.sample(full_data_list, sample_size)\n",
    "                    \n",
    "                    # 保存子集\n",
    "                    with open(subset_output_file, 'w', encoding='utf-8') as f:\n",
    "                        for item in subset_data_list:\n",
    "                            f.write(json.dumps(item, ensure_ascii=False) + '\\n')\n",
    "                    print(f\"  -> Successfully created 1% subset JSONL file: {subset_output_file}\")\n",
    "def merge_jsonl_files(input_folder: str, output_folder: str):\n",
    "    \"\"\"\n",
    "    将指定文件夹内的所有 full.jsonl 和 subset.jsonl 文件合并。\n",
    "\n",
    "    Args:\n",
    "        input_folder (str): 包含要合并的 JSONL 文件的文件夹路径。\n",
    "        output_folder (str): 用于保存合并后的文件的文件夹路径。\n",
    "    \"\"\"\n",
    "    if not os.path.exists(output_folder):\n",
    "        os.makedirs(output_folder)\n",
    "        print(f\"Created output folder: {output_folder}\")\n",
    "\n",
    "    # 合并 full.jsonl 文件\n",
    "    full_output_path = os.path.join(output_folder, 'full.jsonl')\n",
    "    full_file_list = [f for f in os.listdir(input_folder) if f.endswith('_full.jsonl')]\n",
    "    \n",
    "    if not full_file_list:\n",
    "        print(\"No files ending with '_full.jsonl' were found. Skipping full file merge.\")\n",
    "    else:\n",
    "        print(f\"Found {len(full_file_list)} full files to merge.\")\n",
    "        with open(full_output_path, 'w', encoding='utf-8') as outfile:\n",
    "            for file_name in full_file_list:\n",
    "                file_path = os.path.join(input_folder, file_name)\n",
    "                print(f\"  -> Merging: {file_name}\")\n",
    "                with open(file_path, 'r', encoding='utf-8') as infile:\n",
    "                    for line in infile:\n",
    "                        # 逐行读取并写入到新的文件中\n",
    "                        outfile.write(line)\n",
    "        print(f\"Successfully merged all full files into: {full_output_path}\")\n",
    "        \n",
    "    # ---\n",
    "\n",
    "    # 合并 subset.jsonl 文件\n",
    "    subset_output_path = os.path.join(output_folder, 'subset.jsonl')\n",
    "    subset_file_list = [f for f in os.listdir(input_folder) if f.endswith('_subset.jsonl')]\n",
    "\n",
    "    if not subset_file_list:\n",
    "        print(\"No files ending with '_subset.jsonl' were found. Skipping subset file merge.\")\n",
    "    else:\n",
    "        print(f\"Found {len(subset_file_list)} subset files to merge.\")\n",
    "        with open(subset_output_path, 'w', encoding='utf-8') as outfile:\n",
    "            for file_name in subset_file_list:\n",
    "                file_path = os.path.join(input_folder, file_name)\n",
    "                print(f\"  -> Merging: {file_name}\")\n",
    "                with open(file_path, 'r', encoding='utf-8') as infile:\n",
    "                    for line in infile:\n",
    "                        # 逐行读取并写入到新的文件中\n",
    "                        outfile.write(line)\n",
    "        print(f\"Successfully merged all subset files into: {subset_output_path}\")\n"
   ]
  },
  {
   "cell_type": "code",
   "execution_count": null,
   "metadata": {},
   "outputs": [],
   "source": [
    "process_datasets('script','LESS_data')"
   ]
  },
  {
   "cell_type": "code",
   "execution_count": null,
   "metadata": {},
   "outputs": [],
   "source": [
    "merge_jsonl_files('LESS_data','LESS_data')"
   ]
  },
  {
   "cell_type": "code",
   "execution_count": 59,
   "metadata": {},
   "outputs": [
    {
     "ename": "FileNotFoundError",
     "evalue": "File /data/home/wangys/DataSelection-IF/train/AVE/oa_mine/train-select-w-main-QuRating.json does not exist",
     "output_type": "error",
     "traceback": [
      "\u001b[0;31m---------------------------------------------------------------------------\u001b[0m",
      "\u001b[0;31mFileNotFoundError\u001b[0m                         Traceback (most recent call last)",
      "Cell \u001b[0;32mIn[59], line 2\u001b[0m\n\u001b[1;32m      1\u001b[0m \u001b[39mimport\u001b[39;00m\u001b[39m \u001b[39m\u001b[39mpandas\u001b[39;00m\u001b[39m \u001b[39m\u001b[39mas\u001b[39;00m\u001b[39m \u001b[39m\u001b[39mpd\u001b[39;00m\n\u001b[0;32m----> 2\u001b[0m pd\u001b[39m.\u001b[39;49mread_json(\u001b[39m'\u001b[39;49m\u001b[39m/data/home/wangys/DataSelection-IF/train/AVE/oa_mine/train-select-w-main-QuRating.json\u001b[39;49m\u001b[39m'\u001b[39;49m)\n",
      "File \u001b[0;32m/data/home/wangys/anaconda3/envs/verl/lib/python3.10/site-packages/pandas/io/json/_json.py:791\u001b[0m, in \u001b[0;36mread_json\u001b[0;34m(path_or_buf, orient, typ, dtype, convert_axes, convert_dates, keep_default_dates, precise_float, date_unit, encoding, encoding_errors, lines, chunksize, compression, nrows, storage_options, dtype_backend, engine)\u001b[0m\n\u001b[1;32m    788\u001b[0m \u001b[39mif\u001b[39;00m convert_axes \u001b[39mis\u001b[39;00m \u001b[39mNone\u001b[39;00m \u001b[39mand\u001b[39;00m orient \u001b[39m!=\u001b[39m \u001b[39m\"\u001b[39m\u001b[39mtable\u001b[39m\u001b[39m\"\u001b[39m:\n\u001b[1;32m    789\u001b[0m     convert_axes \u001b[39m=\u001b[39m \u001b[39mTrue\u001b[39;00m\n\u001b[0;32m--> 791\u001b[0m json_reader \u001b[39m=\u001b[39m JsonReader(\n\u001b[1;32m    792\u001b[0m     path_or_buf,\n\u001b[1;32m    793\u001b[0m     orient\u001b[39m=\u001b[39;49morient,\n\u001b[1;32m    794\u001b[0m     typ\u001b[39m=\u001b[39;49mtyp,\n\u001b[1;32m    795\u001b[0m     dtype\u001b[39m=\u001b[39;49mdtype,\n\u001b[1;32m    796\u001b[0m     convert_axes\u001b[39m=\u001b[39;49mconvert_axes,\n\u001b[1;32m    797\u001b[0m     convert_dates\u001b[39m=\u001b[39;49mconvert_dates,\n\u001b[1;32m    798\u001b[0m     keep_default_dates\u001b[39m=\u001b[39;49mkeep_default_dates,\n\u001b[1;32m    799\u001b[0m     precise_float\u001b[39m=\u001b[39;49mprecise_float,\n\u001b[1;32m    800\u001b[0m     date_unit\u001b[39m=\u001b[39;49mdate_unit,\n\u001b[1;32m    801\u001b[0m     encoding\u001b[39m=\u001b[39;49mencoding,\n\u001b[1;32m    802\u001b[0m     lines\u001b[39m=\u001b[39;49mlines,\n\u001b[1;32m    803\u001b[0m     chunksize\u001b[39m=\u001b[39;49mchunksize,\n\u001b[1;32m    804\u001b[0m     compression\u001b[39m=\u001b[39;49mcompression,\n\u001b[1;32m    805\u001b[0m     nrows\u001b[39m=\u001b[39;49mnrows,\n\u001b[1;32m    806\u001b[0m     storage_options\u001b[39m=\u001b[39;49mstorage_options,\n\u001b[1;32m    807\u001b[0m     encoding_errors\u001b[39m=\u001b[39;49mencoding_errors,\n\u001b[1;32m    808\u001b[0m     dtype_backend\u001b[39m=\u001b[39;49mdtype_backend,\n\u001b[1;32m    809\u001b[0m     engine\u001b[39m=\u001b[39;49mengine,\n\u001b[1;32m    810\u001b[0m )\n\u001b[1;32m    812\u001b[0m \u001b[39mif\u001b[39;00m chunksize:\n\u001b[1;32m    813\u001b[0m     \u001b[39mreturn\u001b[39;00m json_reader\n",
      "File \u001b[0;32m/data/home/wangys/anaconda3/envs/verl/lib/python3.10/site-packages/pandas/io/json/_json.py:904\u001b[0m, in \u001b[0;36mJsonReader.__init__\u001b[0;34m(self, filepath_or_buffer, orient, typ, dtype, convert_axes, convert_dates, keep_default_dates, precise_float, date_unit, encoding, lines, chunksize, compression, nrows, storage_options, encoding_errors, dtype_backend, engine)\u001b[0m\n\u001b[1;32m    902\u001b[0m     \u001b[39mself\u001b[39m\u001b[39m.\u001b[39mdata \u001b[39m=\u001b[39m filepath_or_buffer\n\u001b[1;32m    903\u001b[0m \u001b[39melif\u001b[39;00m \u001b[39mself\u001b[39m\u001b[39m.\u001b[39mengine \u001b[39m==\u001b[39m \u001b[39m\"\u001b[39m\u001b[39mujson\u001b[39m\u001b[39m\"\u001b[39m:\n\u001b[0;32m--> 904\u001b[0m     data \u001b[39m=\u001b[39m \u001b[39mself\u001b[39;49m\u001b[39m.\u001b[39;49m_get_data_from_filepath(filepath_or_buffer)\n\u001b[1;32m    905\u001b[0m     \u001b[39mself\u001b[39m\u001b[39m.\u001b[39mdata \u001b[39m=\u001b[39m \u001b[39mself\u001b[39m\u001b[39m.\u001b[39m_preprocess_data(data)\n",
      "File \u001b[0;32m/data/home/wangys/anaconda3/envs/verl/lib/python3.10/site-packages/pandas/io/json/_json.py:960\u001b[0m, in \u001b[0;36mJsonReader._get_data_from_filepath\u001b[0;34m(self, filepath_or_buffer)\u001b[0m\n\u001b[1;32m    952\u001b[0m     filepath_or_buffer \u001b[39m=\u001b[39m \u001b[39mself\u001b[39m\u001b[39m.\u001b[39mhandles\u001b[39m.\u001b[39mhandle\n\u001b[1;32m    953\u001b[0m \u001b[39melif\u001b[39;00m (\n\u001b[1;32m    954\u001b[0m     \u001b[39misinstance\u001b[39m(filepath_or_buffer, \u001b[39mstr\u001b[39m)\n\u001b[1;32m    955\u001b[0m     \u001b[39mand\u001b[39;00m filepath_or_buffer\u001b[39m.\u001b[39mlower()\u001b[39m.\u001b[39mendswith(\n\u001b[0;32m   (...)\u001b[0m\n\u001b[1;32m    958\u001b[0m     \u001b[39mand\u001b[39;00m \u001b[39mnot\u001b[39;00m file_exists(filepath_or_buffer)\n\u001b[1;32m    959\u001b[0m ):\n\u001b[0;32m--> 960\u001b[0m     \u001b[39mraise\u001b[39;00m \u001b[39mFileNotFoundError\u001b[39;00m(\u001b[39mf\u001b[39m\u001b[39m\"\u001b[39m\u001b[39mFile \u001b[39m\u001b[39m{\u001b[39;00mfilepath_or_buffer\u001b[39m}\u001b[39;00m\u001b[39m does not exist\u001b[39m\u001b[39m\"\u001b[39m)\n\u001b[1;32m    961\u001b[0m \u001b[39melse\u001b[39;00m:\n\u001b[1;32m    962\u001b[0m     warnings\u001b[39m.\u001b[39mwarn(\n\u001b[1;32m    963\u001b[0m         \u001b[39m\"\u001b[39m\u001b[39mPassing literal json to \u001b[39m\u001b[39m'\u001b[39m\u001b[39mread_json\u001b[39m\u001b[39m'\u001b[39m\u001b[39m is deprecated and \u001b[39m\u001b[39m\"\u001b[39m\n\u001b[1;32m    964\u001b[0m         \u001b[39m\"\u001b[39m\u001b[39mwill be removed in a future version. To read from a \u001b[39m\u001b[39m\"\u001b[39m\n\u001b[0;32m   (...)\u001b[0m\n\u001b[1;32m    967\u001b[0m         stacklevel\u001b[39m=\u001b[39mfind_stack_level(),\n\u001b[1;32m    968\u001b[0m     )\n",
      "\u001b[0;31mFileNotFoundError\u001b[0m: File /data/home/wangys/DataSelection-IF/train/AVE/oa_mine/train-select-w-main-QuRating.json does not exist"
     ]
    }
   ],
   "source": [
    "import pandas as pd\n",
    "pd.read_json('/data/home/wangys/DataSelection-IF/train/AVE/oa_mine/train-select-w-main-QuRating.json')"
   ]
  },
  {
   "cell_type": "code",
   "execution_count": 49,
   "metadata": {},
   "outputs": [
    {
     "data": {
      "text/plain": [
       "19.41932214796543"
      ]
     },
     "execution_count": 49,
     "metadata": {},
     "output_type": "execute_result"
    }
   ],
   "source": [
    "total_score[np.argsort(-total_score)[1]]"
   ]
  },
  {
   "cell_type": "code",
   "execution_count": 36,
   "metadata": {},
   "outputs": [
    {
     "data": {
      "text/plain": [
       "[3449,\n",
       " 4177,\n",
       " 4188,\n",
       " 3535,\n",
       " 3574,\n",
       " 3478,\n",
       " 3557,\n",
       " 4613,\n",
       " 3836,\n",
       " 3833,\n",
       " 3821,\n",
       " 3555,\n",
       " 4140,\n",
       " 3990,\n",
       " 4583,\n",
       " 4565,\n",
       " 2933,\n",
       " 3239,\n",
       " 3642,\n",
       " 3610,\n",
       " 3779,\n",
       " 4239,\n",
       " 2415,\n",
       " 3575,\n",
       " 3597,\n",
       " 3993,\n",
       " 4510,\n",
       " 43,\n",
       " 2916,\n",
       " 4043]"
      ]
     },
     "execution_count": 36,
     "metadata": {},
     "output_type": "execute_result"
    }
   ],
   "source": [
    "from src.util_func import get_top_k_indices\n",
    "get_top_k_indices(score,k = 30)"
   ]
  },
  {
   "cell_type": "code",
   "execution_count": 30,
   "metadata": {},
   "outputs": [
    {
     "data": {
      "text/plain": [
       "{0: -1.25,\n",
       " 1: -1.421875,\n",
       " 2: -1.3203125,\n",
       " 3: -1.328125,\n",
       " 4: -1.4453125,\n",
       " 5: -1.296875,\n",
       " 6: -1.2734375,\n",
       " 7: -1.4609375,\n",
       " 8: -1.21875,\n",
       " 9: -1.34375,\n",
       " 10: -1.25,\n",
       " 11: -1.328125,\n",
       " 12: -1.28125,\n",
       " 13: -1.3984375,\n",
       " 14: -1.3203125,\n",
       " 15: -1.2890625,\n",
       " 16: -1.4453125,\n",
       " 17: -1.2890625,\n",
       " 18: -1.3359375,\n",
       " 19: -1.4453125,\n",
       " 20: -1.265625,\n",
       " 21: -1.2734375,\n",
       " 22: -1.3515625,\n",
       " 23: -1.3359375,\n",
       " 24: -1.2578125,\n",
       " 25: -1.34375,\n",
       " 26: -1.328125,\n",
       " 27: -1.3359375,\n",
       " 28: -1.3515625,\n",
       " 29: -1.3125,\n",
       " 30: -1.2734375,\n",
       " 31: -1.28125,\n",
       " 32: -1.3515625,\n",
       " 33: -1.40625,\n",
       " 34: -1.40625,\n",
       " 35: -1.2890625,\n",
       " 36: -1.390625,\n",
       " 37: -1.28125,\n",
       " 38: -1.28125,\n",
       " 39: -1.4921875,\n",
       " 40: -1.3515625,\n",
       " 41: -1.296875,\n",
       " 42: -1.2734375,\n",
       " 43: -1.078125,\n",
       " 44: -1.25,\n",
       " 45: -1.3359375,\n",
       " 46: -1.15625,\n",
       " 47: -1.359375,\n",
       " 48: -1.1875,\n",
       " 49: -1.3203125,\n",
       " 50: -1.171875,\n",
       " 51: -1.28125,\n",
       " 52: -1.2890625,\n",
       " 53: -1.203125,\n",
       " 54: -1.328125,\n",
       " 55: -1.3359375,\n",
       " 56: -1.1953125,\n",
       " 57: -1.3203125,\n",
       " 58: -1.1328125,\n",
       " 59: -1.1640625,\n",
       " 60: -1.203125,\n",
       " 61: -1.3046875,\n",
       " 62: -1.2265625,\n",
       " 63: -1.15625,\n",
       " 64: -1.421875,\n",
       " 65: -1.2421875,\n",
       " 66: -1.2890625,\n",
       " 67: -1.1953125,\n",
       " 68: -1.1796875,\n",
       " 69: -1.34375,\n",
       " 70: -1.25,\n",
       " 71: -1.2734375,\n",
       " 72: -1.2421875,\n",
       " 73: -1.3359375,\n",
       " 74: -1.3046875,\n",
       " 75: -1.234375,\n",
       " 76: -1.2578125,\n",
       " 77: -1.2265625,\n",
       " 78: -1.40625,\n",
       " 79: -1.3515625,\n",
       " 80: -1.3359375,\n",
       " 81: -1.2890625,\n",
       " 82: -1.328125,\n",
       " 83: -1.2890625,\n",
       " 84: -1.140625,\n",
       " 85: -1.25,\n",
       " 86: -1.296875,\n",
       " 87: -1.390625,\n",
       " 88: -1.2734375,\n",
       " 89: -1.2265625,\n",
       " 90: -1.2109375,\n",
       " 91: -1.1640625,\n",
       " 92: -1.34375,\n",
       " 93: -1.328125,\n",
       " 94: -1.28125,\n",
       " 95: -1.1015625,\n",
       " 96: -1.1953125,\n",
       " 97: -1.2421875,\n",
       " 98: -1.359375,\n",
       " 99: -1.109375,\n",
       " 100: -1.2109375,\n",
       " 101: -1.2734375,\n",
       " 102: -1.25,\n",
       " 103: -1.2265625,\n",
       " 104: -1.421875,\n",
       " 105: -1.2109375,\n",
       " 106: -1.21875,\n",
       " 107: -1.296875,\n",
       " 108: -1.296875,\n",
       " 109: -1.15625,\n",
       " 110: -1.375,\n",
       " 111: -1.1171875,\n",
       " 112: -1.484375,\n",
       " 113: -1.203125,\n",
       " 114: -1.265625,\n",
       " 115: -1.2421875,\n",
       " 116: -1.1875,\n",
       " 117: -1.1953125,\n",
       " 118: -1.2734375,\n",
       " 119: -1.2578125,\n",
       " 120: -1.125,\n",
       " 121: -1.09375,\n",
       " 122: -1.171875,\n",
       " 123: -1.265625,\n",
       " 124: -1.40625,\n",
       " 125: -1.203125,\n",
       " 126: -1.2734375,\n",
       " 127: -1.21875,\n",
       " 128: -1.421875,\n",
       " 129: -1.2734375,\n",
       " 130: -1.28125,\n",
       " 131: -1.546875,\n",
       " 132: -1.328125,\n",
       " 133: -1.203125,\n",
       " 134: -1.3828125,\n",
       " 135: -1.2734375,\n",
       " 136: -1.234375,\n",
       " 137: -1.3203125,\n",
       " 138: -1.2890625,\n",
       " 139: -1.2734375,\n",
       " 140: -1.34375,\n",
       " 141: -1.2109375,\n",
       " 142: -1.4609375,\n",
       " 143: -1.28125,\n",
       " 144: -1.3125,\n",
       " 145: -1.3671875,\n",
       " 146: -1.46875,\n",
       " 147: -1.421875,\n",
       " 148: -1.4765625,\n",
       " 149: -1.328125,\n",
       " 150: -1.3359375,\n",
       " 151: -1.3046875,\n",
       " 152: -1.296875,\n",
       " 153: -1.3515625,\n",
       " 154: -1.3125,\n",
       " 155: -1.2421875,\n",
       " 156: -1.34375,\n",
       " 157: -1.2890625,\n",
       " 158: -1.3828125,\n",
       " 159: -1.5703125,\n",
       " 160: -1.328125,\n",
       " 161: -1.3046875,\n",
       " 162: -1.328125,\n",
       " 163: -1.1953125,\n",
       " 164: -1.5234375,\n",
       " 165: -1.234375,\n",
       " 166: -1.3671875,\n",
       " 167: -1.3828125,\n",
       " 168: -1.3828125,\n",
       " 169: -1.2890625,\n",
       " 170: -1.4140625,\n",
       " 171: -1.421875,\n",
       " 172: -1.3046875,\n",
       " 173: -1.2734375,\n",
       " 174: -1.4140625,\n",
       " 175: -1.359375,\n",
       " 176: -1.25,\n",
       " 177: -1.25,\n",
       " 178: -1.234375,\n",
       " 179: -1.09375,\n",
       " 180: -1.125,\n",
       " 181: -1.4375,\n",
       " 182: -1.59375,\n",
       " 183: -1.4140625,\n",
       " 184: -1.3203125,\n",
       " 185: -1.2421875,\n",
       " 186: -1.5390625,\n",
       " 187: -1.34375,\n",
       " 188: -1.2734375,\n",
       " 189: -1.25,\n",
       " 190: -1.2890625,\n",
       " 191: -1.2578125,\n",
       " 192: -1.46875,\n",
       " 193: -1.2890625,\n",
       " 194: -1.4765625,\n",
       " 195: -1.4921875,\n",
       " 196: -1.4140625,\n",
       " 197: -1.2734375,\n",
       " 198: -1.1875,\n",
       " 199: -1.4609375,\n",
       " 200: -1.6015625,\n",
       " 201: -1.3203125,\n",
       " 202: -1.2890625,\n",
       " 203: -1.328125,\n",
       " 204: -1.3515625,\n",
       " 205: -1.40625,\n",
       " 206: -1.3359375,\n",
       " 207: -1.3125,\n",
       " 208: -1.2421875,\n",
       " 209: -1.265625,\n",
       " 210: -1.296875,\n",
       " 211: -1.375,\n",
       " 212: -1.21875,\n",
       " 213: -1.515625,\n",
       " 214: -1.28125,\n",
       " 215: -1.28125,\n",
       " 216: -1.46875,\n",
       " 217: -1.2578125,\n",
       " 218: -1.1875,\n",
       " 219: -1.34375,\n",
       " 220: -1.375,\n",
       " 221: -1.328125,\n",
       " 222: -1.3203125,\n",
       " 223: -1.3671875,\n",
       " 224: -1.375,\n",
       " 225: -1.328125,\n",
       " 226: -1.203125,\n",
       " 227: -1.2734375,\n",
       " 228: -1.359375,\n",
       " 229: -1.3984375,\n",
       " 230: -1.3515625,\n",
       " 231: -1.4453125,\n",
       " 232: -1.34375,\n",
       " 233: -1.359375,\n",
       " 234: -1.2421875,\n",
       " 235: -1.2578125,\n",
       " 236: -1.2890625,\n",
       " 237: -1.3515625,\n",
       " 238: -1.375,\n",
       " 239: -1.359375,\n",
       " 240: -1.21875,\n",
       " 241: -1.453125,\n",
       " 242: -1.3203125,\n",
       " 243: -1.4375,\n",
       " 244: -1.3828125,\n",
       " 245: -1.375,\n",
       " 246: -1.375,\n",
       " 247: -1.359375,\n",
       " 248: -1.296875,\n",
       " 249: -1.4296875,\n",
       " 250: -1.4453125,\n",
       " 251: -1.3515625,\n",
       " 252: -1.375,\n",
       " 253: -1.2578125,\n",
       " 254: -1.3984375,\n",
       " 255: -1.4375,\n",
       " 256: -1.625,\n",
       " 257: -1.3828125,\n",
       " 258: -1.2734375,\n",
       " 259: -1.4140625,\n",
       " 260: -1.421875,\n",
       " 261: -1.25,\n",
       " 262: -1.4375,\n",
       " 263: -1.3125,\n",
       " 264: -1.296875,\n",
       " 265: -1.2734375,\n",
       " 266: -1.2890625,\n",
       " 267: -1.5078125,\n",
       " 268: -1.25,\n",
       " 269: -1.484375,\n",
       " 270: -1.4609375,\n",
       " 271: -1.390625,\n",
       " 272: -1.3046875,\n",
       " 273: -1.328125,\n",
       " 274: -1.34375,\n",
       " 275: -1.3671875,\n",
       " 276: -1.4140625,\n",
       " 277: -1.1875,\n",
       " 278: -1.4453125,\n",
       " 279: -1.3984375,\n",
       " 280: -1.359375,\n",
       " 281: -1.34375,\n",
       " 282: -1.4296875,\n",
       " 283: -1.3671875,\n",
       " 284: -1.390625,\n",
       " 285: -1.5234375,\n",
       " 286: -1.375,\n",
       " 287: -1.4765625,\n",
       " 288: -1.203125,\n",
       " 289: -1.375,\n",
       " 290: -1.484375,\n",
       " 291: -1.4140625,\n",
       " 292: -1.4375,\n",
       " 293: -1.4453125,\n",
       " 294: -1.3828125,\n",
       " 295: -1.4765625,\n",
       " 296: -1.328125,\n",
       " 297: -1.140625,\n",
       " 298: -1.265625,\n",
       " 299: -1.3515625,\n",
       " 300: -1.421875,\n",
       " 301: -1.5,\n",
       " 302: -1.3671875,\n",
       " 303: -1.328125,\n",
       " 304: -1.3046875,\n",
       " 305: -1.3203125,\n",
       " 306: -1.4921875,\n",
       " 307: -1.3046875,\n",
       " 308: -1.3203125,\n",
       " 309: -1.3515625,\n",
       " 310: -1.359375,\n",
       " 311: -1.484375,\n",
       " 312: -1.375,\n",
       " 313: -1.3125,\n",
       " 314: -1.265625,\n",
       " 315: -1.140625,\n",
       " 316: -1.234375,\n",
       " 317: -1.21875,\n",
       " 318: -1.2421875,\n",
       " 319: -1.46875,\n",
       " 320: -1.59375,\n",
       " 321: -1.5625,\n",
       " 322: -1.234375,\n",
       " 323: -1.296875,\n",
       " 324: -1.625,\n",
       " 325: -1.4140625,\n",
       " 326: -1.234375,\n",
       " 327: -1.7578125,\n",
       " 328: -1.703125,\n",
       " 329: -1.2734375,\n",
       " 330: -1.5078125,\n",
       " 331: -1.2890625,\n",
       " 332: -1.2890625,\n",
       " 333: -1.359375,\n",
       " 334: -1.4921875,\n",
       " 335: -1.375,\n",
       " 336: -1.28125,\n",
       " 337: -1.5078125,\n",
       " 338: -1.296875,\n",
       " 339: -1.4296875,\n",
       " 340: -1.203125,\n",
       " 341: -1.53125,\n",
       " 342: -1.3359375,\n",
       " 343: -1.2578125,\n",
       " 344: -1.2890625,\n",
       " 345: -1.2734375,\n",
       " 346: -1.3671875,\n",
       " 347: -1.1875,\n",
       " 348: -1.4921875,\n",
       " 349: -1.390625,\n",
       " 350: -1.3359375,\n",
       " 351: -1.375,\n",
       " 352: -1.4296875,\n",
       " 353: -1.359375,\n",
       " 354: -1.3203125,\n",
       " 355: -1.4140625,\n",
       " 356: -1.484375,\n",
       " 357: -1.40625,\n",
       " 358: -1.609375,\n",
       " 359: -1.3125,\n",
       " 360: -1.3984375,\n",
       " 361: -1.65625,\n",
       " 362: -1.25,\n",
       " 363: -1.1953125,\n",
       " 364: -1.1875,\n",
       " 365: -1.2421875,\n",
       " 366: -1.234375,\n",
       " 367: -1.359375,\n",
       " 368: -1.25,\n",
       " 369: -1.3203125,\n",
       " 370: -1.21875,\n",
       " 371: -1.2578125,\n",
       " 372: -1.2578125,\n",
       " 373: -1.234375,\n",
       " 374: -1.2265625,\n",
       " 375: -1.3515625,\n",
       " 376: -1.65625,\n",
       " 377: -1.6484375,\n",
       " 378: -1.5,\n",
       " 379: -1.34375,\n",
       " 380: -1.25,\n",
       " 381: -1.234375,\n",
       " 382: -1.3671875,\n",
       " 383: -1.7109375,\n",
       " 384: -1.234375,\n",
       " 385: -1.2265625,\n",
       " 386: -1.4140625,\n",
       " 387: -1.6875,\n",
       " 388: -1.53125,\n",
       " 389: -1.5703125,\n",
       " 390: -1.359375,\n",
       " 391: -1.2890625,\n",
       " 392: -1.2109375,\n",
       " 393: -1.28125,\n",
       " 394: -1.234375,\n",
       " 395: -1.328125,\n",
       " 396: -1.2265625,\n",
       " 397: -1.40625,\n",
       " 398: -1.40625,\n",
       " 399: -1.21875,\n",
       " 400: -1.3828125,\n",
       " 401: -1.203125,\n",
       " 402: -1.4765625,\n",
       " 403: -1.2421875,\n",
       " 404: -1.2421875,\n",
       " 405: -1.3046875,\n",
       " 406: -1.3671875,\n",
       " 407: -1.4140625,\n",
       " 408: -1.578125,\n",
       " 409: -1.4921875,\n",
       " 410: -1.375,\n",
       " 411: -1.375,\n",
       " 412: -1.5,\n",
       " 413: -1.4296875,\n",
       " 414: -1.3671875,\n",
       " 415: -1.421875,\n",
       " 416: -1.5546875,\n",
       " 417: -1.53125,\n",
       " 418: -1.53125,\n",
       " 419: -1.484375,\n",
       " 420: -1.2578125,\n",
       " 421: -1.2265625,\n",
       " 422: -1.2109375,\n",
       " 423: -1.3984375,\n",
       " 424: -1.4140625,\n",
       " 425: -1.3359375,\n",
       " 426: -1.4140625,\n",
       " 427: -1.2578125,\n",
       " 428: -1.4921875,\n",
       " 429: -1.5859375,\n",
       " 430: -1.3125,\n",
       " 431: -1.2109375,\n",
       " 432: -1.4921875,\n",
       " 433: -1.3203125,\n",
       " 434: -1.3984375,\n",
       " 435: -1.25,\n",
       " 436: -1.1875,\n",
       " 437: -1.34375,\n",
       " 438: -1.453125,\n",
       " 439: -1.328125,\n",
       " 440: -1.359375,\n",
       " 441: -1.3515625,\n",
       " 442: -1.3828125,\n",
       " 443: -1.4296875,\n",
       " 444: -1.484375,\n",
       " 445: -1.40625,\n",
       " 446: -1.3203125,\n",
       " 447: -1.484375,\n",
       " 448: -1.4765625,\n",
       " 449: -1.484375,\n",
       " 450: -1.359375,\n",
       " 451: -1.3203125,\n",
       " 452: -1.40625,\n",
       " 453: -1.421875,\n",
       " 454: -1.2109375,\n",
       " 455: -1.34375,\n",
       " 456: -1.2578125,\n",
       " 457: -1.40625,\n",
       " 458: -1.3515625,\n",
       " 459: -1.2109375,\n",
       " 460: -1.390625,\n",
       " 461: -1.3984375,\n",
       " 462: -1.4296875,\n",
       " 463: -1.5703125,\n",
       " 464: -1.3671875,\n",
       " 465: -1.3828125,\n",
       " 466: -1.3203125,\n",
       " 467: -1.5234375,\n",
       " 468: -1.390625,\n",
       " 469: -1.09375,\n",
       " 470: -1.3359375,\n",
       " 471: -1.53125,\n",
       " 472: -1.4140625,\n",
       " 473: -1.46875,\n",
       " 474: -1.2890625,\n",
       " 475: -1.4921875,\n",
       " 476: -1.5078125,\n",
       " 477: -1.453125,\n",
       " 478: -1.4375,\n",
       " 479: -1.484375,\n",
       " 480: -1.46875,\n",
       " 481: -1.296875,\n",
       " 482: -1.6015625,\n",
       " 483: -1.5078125,\n",
       " 484: -1.4453125,\n",
       " 485: -1.5,\n",
       " 486: -1.390625,\n",
       " 487: -1.390625,\n",
       " 488: -1.453125,\n",
       " 489: -1.453125,\n",
       " 490: -1.40625,\n",
       " 491: -1.4296875,\n",
       " 492: -1.3125,\n",
       " 493: -1.2421875,\n",
       " 494: -1.703125,\n",
       " 495: -1.4765625,\n",
       " 496: -1.53125,\n",
       " 497: -1.5546875,\n",
       " 498: -1.5625,\n",
       " 499: -1.3828125,\n",
       " 500: -1.34375,\n",
       " 501: -1.4375,\n",
       " 502: -1.3515625,\n",
       " 503: -1.265625,\n",
       " 504: -1.625,\n",
       " 505: -1.4765625,\n",
       " 506: -1.515625,\n",
       " 507: -1.578125,\n",
       " 508: -1.484375,\n",
       " 509: -1.453125,\n",
       " 510: -1.453125,\n",
       " 511: -1.3125,\n",
       " 512: -1.5859375,\n",
       " 513: -1.4453125,\n",
       " 514: -1.5078125,\n",
       " 515: -1.53125,\n",
       " 516: -1.4921875,\n",
       " 517: -1.375,\n",
       " 518: -1.46875,\n",
       " 519: -1.375,\n",
       " 520: -1.5078125,\n",
       " 521: -1.3203125,\n",
       " 522: -1.296875,\n",
       " 523: -1.59375,\n",
       " 524: -1.3828125,\n",
       " 525: -1.4296875,\n",
       " 526: -1.46875,\n",
       " 527: -1.4921875,\n",
       " 528: -1.515625,\n",
       " 529: -1.3046875,\n",
       " 530: -1.2578125,\n",
       " 531: -1.59375,\n",
       " 532: -1.34375,\n",
       " 533: -1.4609375,\n",
       " 534: -1.171875,\n",
       " 535: -1.5546875,\n",
       " 536: -1.296875,\n",
       " 537: -1.2578125,\n",
       " 538: -1.4140625,\n",
       " 539: -1.2578125,\n",
       " 540: -1.6484375,\n",
       " 541: -1.5078125,\n",
       " 542: -1.5546875,\n",
       " 543: -1.546875,\n",
       " 544: -1.453125,\n",
       " 545: -1.4921875,\n",
       " 546: -1.515625,\n",
       " 547: -1.359375,\n",
       " 548: -1.578125,\n",
       " 549: -1.1796875,\n",
       " 550: -1.453125,\n",
       " 551: -1.359375,\n",
       " 552: -1.3671875,\n",
       " 553: -1.4765625,\n",
       " 554: -1.3515625,\n",
       " 555: -1.453125,\n",
       " 556: -1.421875,\n",
       " 557: -1.28125,\n",
       " 558: -1.5390625,\n",
       " 559: -1.359375,\n",
       " 560: -1.53125,\n",
       " 561: -1.4453125,\n",
       " 562: -1.4453125,\n",
       " 563: -1.4765625,\n",
       " 564: -1.328125,\n",
       " 565: -1.453125,\n",
       " 566: -1.4375,\n",
       " 567: -1.3828125,\n",
       " 568: -1.296875,\n",
       " 569: -1.34375,\n",
       " 570: -1.5703125,\n",
       " 571: -1.4453125,\n",
       " 572: -1.484375,\n",
       " 573: -1.4375,\n",
       " 574: -1.4375,\n",
       " 575: -1.1640625,\n",
       " 576: -1.390625,\n",
       " 577: -1.40625,\n",
       " 578: -1.3203125,\n",
       " 579: -1.5625,\n",
       " 580: -1.453125,\n",
       " 581: -1.453125,\n",
       " 582: -1.5546875,\n",
       " 583: -1.34375,\n",
       " 584: -1.4609375,\n",
       " 585: -1.65625,\n",
       " 586: -1.4375,\n",
       " 587: -1.34375,\n",
       " 588: -1.390625,\n",
       " 589: -1.265625,\n",
       " 590: -1.4296875,\n",
       " 591: -1.4609375,\n",
       " 592: -1.40625,\n",
       " 593: -1.375,\n",
       " 594: -1.3828125,\n",
       " 595: -1.40625,\n",
       " 596: -1.4140625,\n",
       " 597: -1.3125,\n",
       " 598: -1.484375,\n",
       " 599: -1.4140625,\n",
       " 600: -1.2578125,\n",
       " 601: -1.4609375,\n",
       " 602: -1.5,\n",
       " 603: -1.5546875,\n",
       " 604: -1.53125,\n",
       " 605: -1.40625,\n",
       " 606: -1.515625,\n",
       " 607: -1.34375,\n",
       " 608: -1.3828125,\n",
       " 609: -1.4609375,\n",
       " 610: -1.5234375,\n",
       " 611: -1.3984375,\n",
       " 612: -1.5,\n",
       " 613: -1.3984375,\n",
       " 614: -1.4140625,\n",
       " 615: -1.3515625,\n",
       " 616: -1.5390625,\n",
       " 617: -1.484375,\n",
       " 618: -1.4609375,\n",
       " 619: -1.390625,\n",
       " 620: -1.421875,\n",
       " 621: -1.3203125,\n",
       " 622: -1.25,\n",
       " 623: -1.4296875,\n",
       " 624: -1.4140625,\n",
       " 625: -1.3046875,\n",
       " 626: -1.4453125,\n",
       " 627: -1.671875,\n",
       " 628: -1.3984375,\n",
       " 629: -1.484375,\n",
       " 630: -1.3671875,\n",
       " 631: -1.5234375,\n",
       " 632: -1.2421875,\n",
       " 633: -1.40625,\n",
       " 634: -1.296875,\n",
       " 635: -1.2578125,\n",
       " 636: -1.34375,\n",
       " 637: -1.3046875,\n",
       " 638: -1.40625,\n",
       " 639: -1.375,\n",
       " 640: -1.4375,\n",
       " 641: -1.4765625,\n",
       " 642: -1.328125,\n",
       " 643: -1.3359375,\n",
       " 644: -1.3984375,\n",
       " 645: -1.3828125,\n",
       " 646: -1.484375,\n",
       " 647: -1.5078125,\n",
       " 648: -1.3671875,\n",
       " 649: -1.4453125,\n",
       " 650: -1.2734375,\n",
       " 651: -1.4140625,\n",
       " 652: -1.3359375,\n",
       " 653: -1.421875,\n",
       " 654: -1.390625,\n",
       " 655: -1.2109375,\n",
       " 656: -1.2578125,\n",
       " 657: -1.4609375,\n",
       " 658: -1.3125,\n",
       " 659: -1.3515625,\n",
       " 660: -1.3359375,\n",
       " 661: -1.6171875,\n",
       " 662: -1.2734375,\n",
       " 663: -1.390625,\n",
       " 664: -1.3125,\n",
       " 665: -1.3046875,\n",
       " 666: -1.25,\n",
       " 667: -1.375,\n",
       " 668: -1.421875,\n",
       " 669: -1.3984375,\n",
       " 670: -1.34375,\n",
       " 671: -1.328125,\n",
       " 672: -1.3515625,\n",
       " 673: -1.1640625,\n",
       " 674: -1.34375,\n",
       " 675: -1.3046875,\n",
       " 676: -1.4296875,\n",
       " 677: -1.4609375,\n",
       " 678: -1.390625,\n",
       " 679: -1.4375,\n",
       " 680: -1.3125,\n",
       " 681: -1.53125,\n",
       " 682: -1.34375,\n",
       " 683: -1.40625,\n",
       " 684: -1.3828125,\n",
       " 685: -1.4921875,\n",
       " 686: -1.4375,\n",
       " 687: -1.265625,\n",
       " 688: -1.515625,\n",
       " 689: -1.1796875,\n",
       " 690: -1.3125,\n",
       " 691: -1.15625,\n",
       " 692: -1.4140625,\n",
       " 693: -1.265625,\n",
       " 694: -1.3828125,\n",
       " 695: -1.421875,\n",
       " 696: -1.4453125,\n",
       " 697: -1.25,\n",
       " 698: -1.4453125,\n",
       " 699: -1.3828125,\n",
       " 700: -1.5,\n",
       " 701: -1.375,\n",
       " 702: -1.3984375,\n",
       " 703: -1.40625,\n",
       " 704: -1.375,\n",
       " 705: -1.3984375,\n",
       " 706: -1.4921875,\n",
       " 707: -1.3203125,\n",
       " 708: -1.3125,\n",
       " 709: -1.5,\n",
       " 710: -1.515625,\n",
       " 711: -1.609375,\n",
       " 712: -1.4140625,\n",
       " 713: -1.421875,\n",
       " 714: -1.3984375,\n",
       " 715: -1.5,\n",
       " 716: -1.5,\n",
       " 717: -1.375,\n",
       " 718: -1.171875,\n",
       " 719: -1.3359375,\n",
       " 720: -1.203125,\n",
       " 721: -1.203125,\n",
       " 722: -1.3671875,\n",
       " 723: -1.5546875,\n",
       " 724: -1.203125,\n",
       " 725: -1.2734375,\n",
       " 726: -1.234375,\n",
       " 727: -1.265625,\n",
       " 728: -1.3984375,\n",
       " 729: -1.21875,\n",
       " 730: -1.5,\n",
       " 731: -1.234375,\n",
       " 732: -1.4296875,\n",
       " 733: -1.15625,\n",
       " 734: -1.34375,\n",
       " 735: -1.4296875,\n",
       " 736: -1.53125,\n",
       " 737: -1.296875,\n",
       " 738: -1.4140625,\n",
       " 739: -1.125,\n",
       " 740: -1.21875,\n",
       " 741: -1.4921875,\n",
       " 742: -1.265625,\n",
       " 743: -1.2734375,\n",
       " 744: -1.34375,\n",
       " 745: -1.328125,\n",
       " 746: -1.234375,\n",
       " 747: -1.4140625,\n",
       " 748: -1.5,\n",
       " 749: -1.5078125,\n",
       " 750: -1.328125,\n",
       " 751: -1.5234375,\n",
       " 752: -1.390625,\n",
       " 753: -1.34375,\n",
       " 754: -1.4765625,\n",
       " 755: -1.296875,\n",
       " 756: -1.46875,\n",
       " 757: -1.296875,\n",
       " 758: -1.46875,\n",
       " 759: -1.3671875,\n",
       " 760: -1.4453125,\n",
       " 761: -1.34375,\n",
       " 762: -1.4609375,\n",
       " 763: -1.484375,\n",
       " 764: -1.3359375,\n",
       " 765: -1.3515625,\n",
       " 766: -1.328125,\n",
       " 767: -1.359375,\n",
       " 768: -1.4375,\n",
       " 769: -1.265625,\n",
       " 770: -1.2109375,\n",
       " 771: -1.28125,\n",
       " 772: -1.3125,\n",
       " 773: -1.2890625,\n",
       " 774: -1.2578125,\n",
       " 775: -1.4296875,\n",
       " 776: -1.515625,\n",
       " 777: -1.546875,\n",
       " 778: -1.2421875,\n",
       " 779: -1.2890625,\n",
       " 780: -1.3046875,\n",
       " 781: -1.390625,\n",
       " 782: -1.46875,\n",
       " 783: -1.640625,\n",
       " 784: -1.2734375,\n",
       " 785: -1.234375,\n",
       " 786: -1.5390625,\n",
       " 787: -1.296875,\n",
       " 788: -1.46875,\n",
       " 789: -1.375,\n",
       " 790: -1.3125,\n",
       " 791: -1.546875,\n",
       " 792: -1.5859375,\n",
       " 793: -1.3359375,\n",
       " 794: -1.46875,\n",
       " 795: -1.3671875,\n",
       " 796: -1.578125,\n",
       " 797: -1.4375,\n",
       " 798: -1.4453125,\n",
       " 799: -1.1875,\n",
       " 800: -1.1640625,\n",
       " 801: -1.1796875,\n",
       " 802: -1.359375,\n",
       " 803: -1.6796875,\n",
       " 804: -1.4609375,\n",
       " 805: -1.484375,\n",
       " 806: -1.4453125,\n",
       " 807: -1.4609375,\n",
       " 808: -1.1953125,\n",
       " 809: -1.3359375,\n",
       " 810: -1.484375,\n",
       " 811: -1.390625,\n",
       " 812: -1.3671875,\n",
       " 813: -1.484375,\n",
       " 814: -1.40625,\n",
       " 815: -1.390625,\n",
       " 816: -1.4296875,\n",
       " 817: -1.4609375,\n",
       " 818: -1.515625,\n",
       " 819: -1.4140625,\n",
       " 820: -1.5546875,\n",
       " 821: -1.359375,\n",
       " 822: -1.34375,\n",
       " 823: -1.3359375,\n",
       " 824: -1.359375,\n",
       " 825: -1.3828125,\n",
       " 826: -1.453125,\n",
       " 827: -1.4765625,\n",
       " 828: -1.375,\n",
       " 829: -1.40625,\n",
       " 830: -1.34375,\n",
       " 831: -1.375,\n",
       " 832: -1.3984375,\n",
       " 833: -1.3359375,\n",
       " 834: -1.4453125,\n",
       " 835: -1.328125,\n",
       " 836: -1.359375,\n",
       " 837: -1.265625,\n",
       " 838: -1.3828125,\n",
       " 839: -1.3515625,\n",
       " 840: -1.3828125,\n",
       " 841: -1.40625,\n",
       " 842: -1.3671875,\n",
       " 843: -1.40625,\n",
       " 844: -1.3828125,\n",
       " 845: -1.4140625,\n",
       " 846: -1.40625,\n",
       " 847: -1.4453125,\n",
       " 848: -1.4921875,\n",
       " 849: -1.4140625,\n",
       " 850: -1.40625,\n",
       " 851: -1.4296875,\n",
       " 852: -1.5546875,\n",
       " 853: -1.3671875,\n",
       " 854: -1.375,\n",
       " 855: -1.5078125,\n",
       " 856: -1.4453125,\n",
       " 857: -1.59375,\n",
       " 858: -1.3828125,\n",
       " 859: -1.234375,\n",
       " 860: -1.3671875,\n",
       " 861: -1.3984375,\n",
       " 862: -1.140625,\n",
       " 863: -1.3359375,\n",
       " 864: -1.28125,\n",
       " 865: -1.4765625,\n",
       " 866: -1.3828125,\n",
       " 867: -1.15625,\n",
       " 868: -1.2734375,\n",
       " 869: -1.296875,\n",
       " 870: -1.2890625,\n",
       " 871: -1.609375,\n",
       " 872: -1.46875,\n",
       " 873: -1.4375,\n",
       " 874: -1.4296875,\n",
       " 875: -1.5703125,\n",
       " 876: -1.3125,\n",
       " 877: -1.28125,\n",
       " 878: -1.296875,\n",
       " 879: -1.4140625,\n",
       " 880: -1.46875,\n",
       " 881: -1.484375,\n",
       " 882: -1.3046875,\n",
       " 883: -1.3359375,\n",
       " 884: -1.578125,\n",
       " 885: -1.4453125,\n",
       " 886: -1.3671875,\n",
       " 887: -1.5390625,\n",
       " 888: -1.6875,\n",
       " 889: -1.3046875,\n",
       " 890: -1.5625,\n",
       " 891: -1.4609375,\n",
       " 892: -1.4765625,\n",
       " 893: -1.578125,\n",
       " 894: -1.2265625,\n",
       " 895: -1.4140625,\n",
       " 896: -1.2734375,\n",
       " 897: -1.3515625,\n",
       " 898: -1.5859375,\n",
       " 899: -1.3125,\n",
       " 900: -1.34375,\n",
       " 901: -1.3828125,\n",
       " 902: -1.5390625,\n",
       " 903: -1.515625,\n",
       " 904: -1.4765625,\n",
       " 905: -1.4296875,\n",
       " 906: -1.5625,\n",
       " 907: -1.3984375,\n",
       " 908: -1.421875,\n",
       " 909: -1.2109375,\n",
       " 910: -1.3671875,\n",
       " 911: -1.3671875,\n",
       " 912: -1.453125,\n",
       " 913: -1.3984375,\n",
       " 914: -1.2734375,\n",
       " 915: -1.359375,\n",
       " 916: -1.3671875,\n",
       " 917: -1.3515625,\n",
       " 918: -1.484375,\n",
       " 919: -1.3046875,\n",
       " 920: -1.2734375,\n",
       " 921: -1.328125,\n",
       " 922: -1.4765625,\n",
       " 923: -1.3203125,\n",
       " 924: -1.453125,\n",
       " 925: -1.4140625,\n",
       " 926: -1.1953125,\n",
       " 927: -1.5078125,\n",
       " 928: -1.421875,\n",
       " 929: -1.2578125,\n",
       " 930: -1.4453125,\n",
       " 931: -1.34375,\n",
       " 932: -1.3359375,\n",
       " 933: -1.34375,\n",
       " 934: -1.5078125,\n",
       " 935: -1.28125,\n",
       " 936: -1.484375,\n",
       " 937: -1.46875,\n",
       " 938: -1.5390625,\n",
       " 939: -1.125,\n",
       " 940: -1.4453125,\n",
       " 941: -1.453125,\n",
       " 942: -1.421875,\n",
       " 943: -1.2109375,\n",
       " 944: -1.4375,\n",
       " 945: -1.5234375,\n",
       " 946: -1.53125,\n",
       " 947: -1.4375,\n",
       " 948: -1.234375,\n",
       " 949: -1.265625,\n",
       " 950: -1.328125,\n",
       " 951: -1.25,\n",
       " 952: -1.2421875,\n",
       " 953: -1.34375,\n",
       " 954: -1.2578125,\n",
       " 955: -1.2265625,\n",
       " 956: -1.46875,\n",
       " 957: -1.484375,\n",
       " 958: -1.4921875,\n",
       " 959: -1.515625,\n",
       " 960: -1.359375,\n",
       " 961: -1.4140625,\n",
       " 962: -1.3671875,\n",
       " 963: -1.4453125,\n",
       " 964: -1.3359375,\n",
       " 965: -1.1796875,\n",
       " 966: -1.2890625,\n",
       " 967: -1.28125,\n",
       " 968: -1.5,\n",
       " 969: -1.3515625,\n",
       " 970: -1.296875,\n",
       " 971: -1.265625,\n",
       " 972: -1.4296875,\n",
       " 973: -1.4140625,\n",
       " 974: -1.5078125,\n",
       " 975: -1.4765625,\n",
       " 976: -1.375,\n",
       " 977: -1.2421875,\n",
       " 978: -1.3671875,\n",
       " 979: -1.328125,\n",
       " 980: -1.3828125,\n",
       " 981: -1.3828125,\n",
       " 982: -1.3125,\n",
       " 983: -1.4296875,\n",
       " 984: -1.484375,\n",
       " 985: -1.2890625,\n",
       " 986: -1.46875,\n",
       " 987: -1.375,\n",
       " 988: -1.3515625,\n",
       " 989: -1.5,\n",
       " 990: -1.5,\n",
       " 991: -1.234375,\n",
       " 992: -1.3515625,\n",
       " 993: -1.34375,\n",
       " 994: -1.3515625,\n",
       " 995: -1.2578125,\n",
       " 996: -1.3828125,\n",
       " 997: -1.296875,\n",
       " 998: -1.53125,\n",
       " 999: -1.2421875,\n",
       " ...}"
      ]
     },
     "execution_count": 30,
     "metadata": {},
     "output_type": "execute_result"
    }
   ],
   "source": [
    "score = np.load('QuRating/data/select_index_main/RE-RE-QuRating-score.npy',allow_pickle=True).item()\n",
    "score"
   ]
  },
  {
   "cell_type": "code",
   "execution_count": 25,
   "metadata": {},
   "outputs": [],
   "source": [
    "score_list_extend = []\n",
    "for i in range(len(subset)):\n",
    "    score_list_extend.extend([subset[i]['writing_style_average']])\n",
    "    "
   ]
  },
  {
   "cell_type": "code",
   "execution_count": 23,
   "metadata": {},
   "outputs": [
    {
     "data": {
      "text/plain": [
       "(0.23374520153550865, -0.703125)"
      ]
     },
     "execution_count": 23,
     "metadata": {},
     "output_type": "execute_result"
    }
   ],
   "source": [
    "np.array(score_list).max(),np.array(score_list).min()"
   ]
  },
  {
   "cell_type": "code",
   "execution_count": 26,
   "metadata": {},
   "outputs": [
    {
     "data": {
      "text/plain": [
       "(0.23374520153550865, -0.71875)"
      ]
     },
     "execution_count": 26,
     "metadata": {},
     "output_type": "execute_result"
    }
   ],
   "source": [
    "np.array(score_list_extend).max(),np.array(score_list_extend).min()"
   ]
  },
  {
   "cell_type": "code",
   "execution_count": 27,
   "metadata": {},
   "outputs": [
    {
     "data": {
      "text/plain": [
       "1949"
      ]
     },
     "execution_count": 27,
     "metadata": {},
     "output_type": "execute_result"
    }
   ],
   "source": [
    "index_list = np.load('QuRating/data/select_index/DI-walmart-QuRating.npy')\n",
    "len(index_list)"
   ]
  },
  {
   "cell_type": "code",
   "execution_count": 24,
   "metadata": {},
   "outputs": [
    {
     "data": {
      "text/plain": [
       "'You are an expert in relation extraction from wikipedia web table to knowledge graph. Given table title and column pair for Table 1, please choose the most proper type from the provided options. Return in json format.\\n\\nColumn: col_1\\n\\nOptions:[\"company\", \"industry\", \"name\"]\\n\\nOutput Format Example:\\n\\n{\"type\": \"\"}\\n\\nTable 1:\\n\\n{\\'col_1\\': \"AARON\\'S INC…\", \\'symbol\\': \\'AAN\\'}\\n{\\'col_1\\': \\'ITT EDUCATI…\\', \\'symbol\\': \\'ESI\\'}\\n{\\'col_1\\': \\'MARCUS CORP…\\', \\'symbol\\': \\'MCS\\'}\\n{\\'col_1\\': \\'LINN ENERGY…\\', \\'symbol\\': \\'LINE\\'}\\n{\\'col_1\\': \\'GULFMARK OF…\\', \\'symbol\\': \\'GLF\\'}\\n\\nReference tables:\\n\\n{\\'Table\\': \"{\\'col_1\\': \\'\\', \\'type\\': \\'Water/Psychic\\'}\\\\n{\\'col_1\\': \\'\\', \\'type\\': \\'Normal/Ground\\'}\\\\n{\\'col_1\\': \\'\\', \\'type\\': \\'Ghost/Normal\\'}\\\\n{\\'col_1\\': \\'\\', \\'type\\': \\'Ice/Flying\\'}\", \\'Column\\': \\'col_1\\', \\'type\\': \\'name\\'}\\n\\n{\\'Table\\': \"{\\'col_1\\': \\'MARCUS CORP…\\', \\'symbol\\': \\'MCS\\'}\\\\n{\\'col_1\\': \\'LINN ENERGY…\\', \\'symbol\\': \\'LINE\\'}\\\\n{\\'col_1\\': \\'ITT EDUCATI…\\', \\'symbol\\': \\'ESI\\'}\\\\n{\\'col_1\\': \\'GULFMARK OF…\\', \\'symbol\\': \\'GLF\\'}\", \\'Column\\': \\'col_1\\', \\'type\\': \\'company\\'}\\n\\n{\\'Table\\': \"{\\'name\\': \\'Blaisdell, John H\\', \\'col_1\\': \\'Dairy farm\\'}\\\\n{\\'name\\': \\'Blaisdell, Gertrude\\', \\'col_1\\': \\'private home\\'}\\\\n{\\'name\\': \\'Pushard, Harry\\', \\'col_1\\': \\'Dairy farm\\'}\\\\n{\\'name\\': \\'Blaisdell, John Errold\\', \\'col_1\\': \\'shipyard\\'}\", \\'Column\\': \\'col_1\\', \\'type\\': \\'industry\\'}\\n\\n{\\'Table\\': \"{\\'position\\': \\'Fire Chief\\', \\'col_1\\': \\'Irby Campbell\\'}\\\\n{\\'position\\': \\'Alderman\\', \\'col_1\\': \\'Donnie Cheers\\'}\\\\n{\\'position\\': \\'Alderman\\', \\'col_1\\': \\'Kenneth Cross\\'}\\\\n{\\'position\\': \\'Water Superintendent\\', \\'col_1\\': \\'Danny Clark\\'}\", \\'Column\\': \\'col_1\\', \\'type\\': \\'name\\'}\\n\\n{\\'Table\\': \"{\\'col_1\\': \\'Arthur D. Levinson Ph.D.\\', \\'age\\': \\'65\\'}\\\\n{\\'col_1\\': \\'Ronald D. Sugar Ph.D.\\', \\'age\\': \\'66\\'}\\\\n{\\'col_1\\': \\'Timothy D. Cook\\', \\'age\\': \\'54\\'}\\\\n{\\'col_1\\': \\'Robert A. Iger\\', \\'age\\': \\'64\\'}\", \\'Column\\': \\'col_1\\', \\'type\\': \\'name\\'}\\n\\n'"
      ]
     },
     "execution_count": 24,
     "metadata": {},
     "output_type": "execute_result"
    }
   ],
   "source": [
    "original_file = pd.read_json('train/CTA/WebTable/WebTable-train.json')\n",
    "original_file.iloc[193,0]"
   ]
  },
  {
   "cell_type": "code",
   "execution_count": 25,
   "metadata": {},
   "outputs": [],
   "source": [
    "index_list = []\n",
    "for i in range(len(subset)):\n",
    "    index_list.append(subset[i]['index'])"
   ]
  },
  {
   "cell_type": "code",
   "execution_count": 34,
   "metadata": {},
   "outputs": [],
   "source": [
    "# len(index_list),select_file_size\n",
    "np.save('QuRating/data/select_index/CTA-WebTable-QuRating.npy',index_list)"
   ]
  },
  {
   "cell_type": "code",
   "execution_count": 17,
   "metadata": {
    "vscode": {
     "languageId": "shellscript"
    }
   },
   "outputs": [
    {
     "ename": "SyntaxError",
     "evalue": "invalid syntax. Perhaps you forgot a comma? (3697754659.py, line 1)",
     "output_type": "error",
     "traceback": [
      "\u001b[0;36m  Cell \u001b[0;32mIn[17], line 1\u001b[0;36m\u001b[0m\n\u001b[0;31m    CUDA_VISIBLE_DEVICES=6 python -m data_tools.select_subset data/annotation/CTA-WebTable/ data/subset/CTA-WebTable/ \\\u001b[0m\n\u001b[0m                         ^\u001b[0m\n\u001b[0;31mSyntaxError\u001b[0m\u001b[0;31m:\u001b[0m invalid syntax. Perhaps you forgot a comma?\n"
     ]
    }
   ],
   "source": [
    "CUDA_VISIBLE_DEVICES=6 python -m data_tools.select_subset data/annotation/CTA-WebTable/ data/subset/CTA-WebTable/ \\\n",
    "    --metric_field writing_style_average \\\n",
    "    --seq_len_field length \\\n",
    "    --tokens 5000000 \\\n",
    "    --temperature 2.0 \\\n",
    "    --normalize \\\n",
    "    --num_workers 8"
   ]
  }
 ],
 "metadata": {
  "kernelspec": {
   "display_name": "verl",
   "language": "python",
   "name": "python3"
  },
  "language_info": {
   "codemirror_mode": {
    "name": "ipython",
    "version": 3
   },
   "file_extension": ".py",
   "mimetype": "text/x-python",
   "name": "python",
   "nbconvert_exporter": "python",
   "pygments_lexer": "ipython3",
   "version": "3.10.0"
  }
 },
 "nbformat": 4,
 "nbformat_minor": 2
}

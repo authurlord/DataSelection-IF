{
 "cells": [
  {
   "cell_type": "code",
   "execution_count": 1,
   "metadata": {},
   "outputs": [],
   "source": [
    "import sys\n",
    "sys.path.append('../src')\n",
    "# from dataloader import create_dataloaders\n",
    "from dataloader_ER import create_dataloaders\n",
    "# from lora_model import LORAEngine,LORAEngineDeberta,LORAEngineDebertaMultiClass\n",
    "from lora_model_vmap import LORAEngineDebertaMultiClass\n",
    "\n",
    "# from influence import IFEngine\n",
    "from influence_hyperinf import IFEngine\n",
    "\n",
    "import numpy as np\n",
    "from sklearn.metrics import roc_auc_score\n",
    "from matplotlib import pyplot as plt\n",
    "\n",
    "import warnings\n",
    "warnings.filterwarnings(\"ignore\")"
   ]
  },
  {
   "cell_type": "code",
   "execution_count": 2,
   "metadata": {},
   "outputs": [],
   "source": [
    "# model_name_or_path=\"roberta-large\"\n",
    "# model_name_or_path=\"/home/yanmy/roberta-base\"\n",
    "model_name_or_path=\"../../model/deberta-v3-base\"\n",
    "# model_name_or_path=\"../../model/roberta-large\"\n",
    "task=\"ER\"\n",
    "# task = \"qnli\"\n",
    "noise_ratio=0\n",
    "batch_size=32\n",
    "# target_modules=[\"query_proj\", \"key_proj\", \"value_proj\"] ## deberta, for roberta, use [\"value\"]\n",
    "# target_modules = ['value']\n",
    "target_modules=[\"value_proj\"] ## deberta, for roberta, use [\"value\"]\n",
    "\n",
    "device=\"cuda:7\"\n",
    "num_epochs=5\n",
    "lr=3e-4"
   ]
  },
  {
   "cell_type": "code",
   "execution_count": 3,
   "metadata": {},
   "outputs": [
    {
     "data": {
      "application/vnd.jupyter.widget-view+json": {
       "model_id": "c2374b6c22c74a01b3cdb9d48d5a086b",
       "version_major": 2,
       "version_minor": 0
      },
      "text/plain": [
       "Map:   0%|          | 0/4500 [00:00<?, ? examples/s]"
      ]
     },
     "metadata": {},
     "output_type": "display_data"
    },
    {
     "data": {
      "application/vnd.jupyter.widget-view+json": {
       "model_id": "eefc4ce9284b47d8bd433100f750128b",
       "version_major": 2,
       "version_minor": 0
      },
      "text/plain": [
       "Map:   0%|          | 0/737 [00:00<?, ? examples/s]"
      ]
     },
     "metadata": {},
     "output_type": "display_data"
    },
    {
     "data": {
      "application/vnd.jupyter.widget-view+json": {
       "model_id": "f753502e1bf046b08283c34fafee5ee6",
       "version_major": 2,
       "version_minor": 0
      },
      "text/plain": [
       "Map:   0%|          | 0/4179 [00:00<?, ? examples/s]"
      ]
     },
     "metadata": {},
     "output_type": "display_data"
    }
   ],
   "source": [
    "dataloader_outputs = create_dataloaders(model_name_or_path=model_name_or_path,\n",
    "                                           task=task,\n",
    "                                           noise_ratio=noise_ratio,\n",
    "                                           batch_size=batch_size,\n",
    "                                           train_file = '../ER/semi-text-c/train.json',\n",
    "                                           valid_file = '../ER/semi-text-c/valid.json',\n",
    "                                           test_file = '../ER/semi-text-c/test.json',\n",
    "                                           max_length=256)\n",
    "# train_dataloader, eval_dataloader, noise_index, tokenized_datasets, collate_fn=dataloader_outputs\n",
    "train_dataloader, eval_dataloader,test_dataloader, tokenized_datasets, collate_fn=dataloader_outputs\n",
    "\n",
    "\n",
    "# lora_engine = LORAEngine(model_name_or_path=model_name_or_path,\n",
    "#                             target_modules=target_modules,\n",
    "#                             train_dataloader=train_dataloader,\n",
    "#                             eval_dataloader=eval_dataloader,\n",
    "#                             device=device,\n",
    "#                             num_epochs=num_epochs,\n",
    "#                             lr=lr,\n",
    "#                             low_rank=8, \n",
    "#                             task=task)\n",
    "\n",
    "lora_engine = LORAEngineDebertaMultiClass(model_name_or_path=model_name_or_path,\n",
    "                            target_modules=target_modules,\n",
    "                            train_dataloader=train_dataloader,\n",
    "                            # eval_dataloader=eval_dataloader,\n",
    "                            eval_dataloader=eval_dataloader,\n",
    "                            test_dataloader = test_dataloader,\n",
    "                            device=device,\n",
    "                            num_epochs=num_epochs,\n",
    "                            lr=lr,\n",
    "                            low_rank=16, \n",
    "                            task=task,\n",
    "                            save_path = '../models/mrpc',\n",
    "                            valid_each_epoch=True,\n",
    "                            cal_grad_per_sample = True,\n",
    "                            grad_epoch = [2,4])"
   ]
  },
  {
   "cell_type": "code",
   "execution_count": 4,
   "metadata": {},
   "outputs": [
    {
     "name": "stderr",
     "output_type": "stream",
     "text": [
      "Some weights of DebertaV2ForSequenceClassification were not initialized from the model checkpoint at ../../model/deberta-v3-base and are newly initialized: ['classifier.bias', 'classifier.weight', 'pooler.dense.bias', 'pooler.dense.weight']\n",
      "You should probably TRAIN this model on a down-stream task to be able to use it for predictions and inference.\n"
     ]
    },
    {
     "name": "stdout",
     "output_type": "stream",
     "text": [
      "trainable params: 296,450 || all params: 184,720,132 || trainable%: 0.1605\n",
      "Total Steps:705\n"
     ]
    },
    {
     "name": "stderr",
     "output_type": "stream",
     "text": [
      "  0%|          | 0/141 [00:00<?, ?it/s]You're using a DebertaV2TokenizerFast tokenizer. Please note that with a fast tokenizer, using the `__call__` method is faster than using a method to encode the text followed by a call to the `pad` method to get a padded encoding.\n",
      "100%|██████████| 141/141 [00:16<00:00,  8.64it/s]\n"
     ]
    },
    {
     "name": "stdout",
     "output_type": "stream",
     "text": [
      "Epoch 1: Training Loss = 0.6385552908511872\n"
     ]
    },
    {
     "name": "stderr",
     "output_type": "stream",
     "text": [
      "100%|██████████| 24/24 [00:03<00:00,  7.45it/s]\n"
     ]
    },
    {
     "name": "stdout",
     "output_type": "stream",
     "text": [
      "Epoch 1: {'f1': 0.8682926829268293}\n"
     ]
    },
    {
     "name": "stderr",
     "output_type": "stream",
     "text": [
      "100%|██████████| 141/141 [00:15<00:00,  8.91it/s]\n"
     ]
    },
    {
     "name": "stdout",
     "output_type": "stream",
     "text": [
      "Epoch 2: Training Loss = 0.2574673956326136\n"
     ]
    },
    {
     "name": "stderr",
     "output_type": "stream",
     "text": [
      "100%|██████████| 24/24 [00:03<00:00,  7.48it/s]\n"
     ]
    },
    {
     "name": "stdout",
     "output_type": "stream",
     "text": [
      "Epoch 2: {'f1': 0.9226100151745068}\n"
     ]
    },
    {
     "name": "stderr",
     "output_type": "stream",
     "text": [
      "100%|██████████| 141/141 [00:15<00:00,  8.89it/s]\n"
     ]
    },
    {
     "name": "stdout",
     "output_type": "stream",
     "text": [
      "Epoch 3: Training Loss = 0.18109412900839292\n"
     ]
    },
    {
     "name": "stderr",
     "output_type": "stream",
     "text": [
      "100%|██████████| 24/24 [00:03<00:00,  7.48it/s]\n"
     ]
    },
    {
     "name": "stdout",
     "output_type": "stream",
     "text": [
      "Epoch 3: {'f1': 0.9327217125382263}\n"
     ]
    },
    {
     "name": "stderr",
     "output_type": "stream",
     "text": [
      "100%|██████████| 141/141 [00:39<00:00,  3.59it/s]\n",
      "100%|██████████| 24/24 [00:06<00:00,  3.70it/s]\n",
      "100%|██████████| 141/141 [00:15<00:00,  8.90it/s]\n"
     ]
    },
    {
     "name": "stdout",
     "output_type": "stream",
     "text": [
      "Epoch 4: Training Loss = 0.15613795391528318\n"
     ]
    },
    {
     "name": "stderr",
     "output_type": "stream",
     "text": [
      "100%|██████████| 24/24 [00:03<00:00,  7.49it/s]\n"
     ]
    },
    {
     "name": "stdout",
     "output_type": "stream",
     "text": [
      "Epoch 4: {'f1': 0.9366306027820711}\n"
     ]
    },
    {
     "name": "stderr",
     "output_type": "stream",
     "text": [
      "100%|██████████| 141/141 [00:15<00:00,  8.90it/s]\n"
     ]
    },
    {
     "name": "stdout",
     "output_type": "stream",
     "text": [
      "Epoch 5: Training Loss = 0.15135045158049315\n"
     ]
    },
    {
     "name": "stderr",
     "output_type": "stream",
     "text": [
      "100%|██████████| 24/24 [00:03<00:00,  7.49it/s]\n"
     ]
    },
    {
     "name": "stdout",
     "output_type": "stream",
     "text": [
      "Epoch 5: {'f1': 0.9368258859784283}\n"
     ]
    },
    {
     "name": "stderr",
     "output_type": "stream",
     "text": [
      "100%|██████████| 141/141 [00:39<00:00,  3.59it/s]\n",
      "100%|██████████| 24/24 [00:06<00:00,  3.72it/s]\n",
      "100%|██████████| 131/131 [00:18<00:00,  7.22it/s]"
     ]
    },
    {
     "name": "stdout",
     "output_type": "stream",
     "text": [
      "Prediction Result on Test Data: {'f1': 0.8173913043478261}\n"
     ]
    },
    {
     "name": "stderr",
     "output_type": "stream",
     "text": [
      "\n"
     ]
    }
   ],
   "source": [
    "lora_engine.build_LORA_model()\n",
    "tr_grad_dict,val_grad_dict = lora_engine.train_LORA_model()"
   ]
  },
  {
   "cell_type": "code",
   "execution_count": 6,
   "metadata": {},
   "outputs": [],
   "source": [
    "lora_engine.save_lora('../models/ER-semi-text-c-LoRA')"
   ]
  },
  {
   "cell_type": "markdown",
   "metadata": {},
   "source": [
    "## save gradient"
   ]
  },
  {
   "cell_type": "code",
   "execution_count": 7,
   "metadata": {},
   "outputs": [],
   "source": [
    "import torch\n",
    "torch.save(tr_grad_dict,'../output/ER/semi-text-c/tr_grad_dict_all.pkl')\n",
    "torch.save(val_grad_dict,'../output/ER/semi-text-c/val_grad_dict_all.pkl')"
   ]
  },
  {
   "cell_type": "markdown",
   "metadata": {},
   "source": [
    "## 分别计算不同epoch下的分数，然后累加分析"
   ]
  },
  {
   "cell_type": "code",
   "execution_count": 1,
   "metadata": {},
   "outputs": [
    {
     "name": "stderr",
     "output_type": "stream",
     "text": [
      "/tmp/ipykernel_3322955/154564480.py:3: FutureWarning: You are using `torch.load` with `weights_only=False` (the current default value), which uses the default pickle module implicitly. It is possible to construct malicious pickle data which will execute arbitrary code during unpickling (See https://github.com/pytorch/pytorch/blob/main/SECURITY.md#untrusted-models for more details). In a future release, the default value for `weights_only` will be flipped to `True`. This limits the functions that could be executed during unpickling. Arbitrary objects will no longer be allowed to be loaded via this mode unless they are explicitly allowlisted by the user via `torch.serialization.add_safe_globals`. We recommend you start setting `weights_only=True` for any use case where you don't have full control of the loaded file. Please open an issue on GitHub for any issues related to this experimental feature.\n",
      "  tr_grad_dict_all = torch.load('../output/ER/semi-text-c/tr_grad_dict_all.pkl')\n",
      "/tmp/ipykernel_3322955/154564480.py:4: FutureWarning: You are using `torch.load` with `weights_only=False` (the current default value), which uses the default pickle module implicitly. It is possible to construct malicious pickle data which will execute arbitrary code during unpickling (See https://github.com/pytorch/pytorch/blob/main/SECURITY.md#untrusted-models for more details). In a future release, the default value for `weights_only` will be flipped to `True`. This limits the functions that could be executed during unpickling. Arbitrary objects will no longer be allowed to be loaded via this mode unless they are explicitly allowlisted by the user via `torch.serialization.add_safe_globals`. We recommend you start setting `weights_only=True` for any use case where you don't have full control of the loaded file. Please open an issue on GitHub for any issues related to this experimental feature.\n",
      "  val_grad_dict_all = torch.load('../output/ER/semi-text-c/val_grad_dict_all.pkl')\n"
     ]
    }
   ],
   "source": [
    "import torch\n",
    "from tqdm.notebook import tqdm\n",
    "tr_grad_dict_all = torch.load('../output/ER/semi-text-c/tr_grad_dict_all.pkl')\n",
    "val_grad_dict_all = torch.load('../output/ER/semi-text-c/val_grad_dict_all.pkl')"
   ]
  },
  {
   "cell_type": "code",
   "execution_count": 2,
   "metadata": {},
   "outputs": [],
   "source": [
    "import sys\n",
    "sys.path.append('../src')\n",
    "from influence_batch import IFEngine\n",
    "from tqdm.notebook import tqdm\n",
    "noise_index = None\n",
    "IF_device = 'cuda:7' ## 避免爆显存\n",
    "def compute_val_grad_avg(val_grad_dict):\n",
    "    # Compute the avg gradient on the validation dataset\n",
    "    n_val = len(val_grad_dict)\n",
    "    val_grad_avg_dict={}\n",
    "    for weight_name in val_grad_dict[0]:\n",
    "        if weight_name.__contains__('base_model'):\n",
    "            val_grad_avg_dict[weight_name]=torch.zeros(val_grad_dict[0][weight_name].shape)\n",
    "            for val_id in val_grad_dict:\n",
    "                val_grad_avg_dict[weight_name] += val_grad_dict[val_id][weight_name] / n_val\n",
    "        # else:\n",
    "        #     val_grad_avg_dict[weight_name] = val_grad_dict[weight_name]\n",
    "    # val_grad_avg_dict['ids'] = val_grad_dict['ids']\n",
    "    return val_grad_avg_dict"
   ]
  },
  {
   "cell_type": "code",
   "execution_count": 4,
   "metadata": {},
   "outputs": [
    {
     "data": {
      "application/vnd.jupyter.widget-view+json": {
       "model_id": "a9d009353306429a9f014128863fc097",
       "version_major": 2,
       "version_minor": 0
      },
      "text/plain": [
       "  0%|          | 0/141 [00:00<?, ?it/s]"
      ]
     },
     "metadata": {},
     "output_type": "display_data"
    },
    {
     "data": {
      "application/vnd.jupyter.widget-view+json": {
       "model_id": "d22de7b80a974e6fa7b4231fe035f2ea",
       "version_major": 2,
       "version_minor": 0
      },
      "text/plain": [
       "  0%|          | 0/25 [00:00<?, ?it/s]"
      ]
     },
     "metadata": {},
     "output_type": "display_data"
    },
    {
     "data": {
      "application/vnd.jupyter.widget-view+json": {
       "model_id": "a4dfd939508d47fdbb52bf42b59d5b7c",
       "version_major": 2,
       "version_minor": 0
      },
      "text/plain": [
       "  0%|          | 0/25 [00:00<?, ?it/s]"
      ]
     },
     "metadata": {},
     "output_type": "display_data"
    },
    {
     "name": "stderr",
     "output_type": "stream",
     "text": [
      "/data/home/wangys/DataSelection-IF/notebooks/../src/influence_batch.py:115: UserWarning: To copy construct from a tensor, it is recommended to use sourceTensor.clone().detach() or sourceTensor.clone().detach().requires_grad_(True), rather than torch.tensor(sourceTensor).\n",
      "  hvp_iterative_dict[weight_name] = torch.tensor(self.val_grad_avg_dict[weight_name] @ G_l_inv)\n"
     ]
    },
    {
     "name": "stdout",
     "output_type": "stream",
     "text": [
      "Time taken for HyperINF:  0.5816543102264404\n",
      "Time taken for Hessian-free:  2.6226043701171875e-06\n"
     ]
    },
    {
     "data": {
      "application/vnd.jupyter.widget-view+json": {
       "model_id": "57565779015243138456dcedb7fbb193",
       "version_major": 2,
       "version_minor": 0
      },
      "text/plain": [
       "  0%|          | 0/25 [00:00<?, ?it/s]"
      ]
     },
     "metadata": {},
     "output_type": "display_data"
    },
    {
     "name": "stdout",
     "output_type": "stream",
     "text": [
      "Time taken for Datainf:  0.3965461254119873\n"
     ]
    },
    {
     "data": {
      "application/vnd.jupyter.widget-view+json": {
       "model_id": "9972fa6af8d14eadbf51d7b84e19e93e",
       "version_major": 2,
       "version_minor": 0
      },
      "text/plain": [
       "  0%|          | 0/25 [00:00<?, ?it/s]"
      ]
     },
     "metadata": {},
     "output_type": "display_data"
    },
    {
     "name": "stdout",
     "output_type": "stream",
     "text": [
      "Time taken for LiSSA:  1.8802361488342285\n"
     ]
    },
    {
     "data": {
      "application/vnd.jupyter.widget-view+json": {
       "model_id": "d4b6ad854ea04905b114e0752f038c50",
       "version_major": 2,
       "version_minor": 0
      },
      "text/plain": [
       "  0%|          | 0/141 [00:00<?, ?it/s]"
      ]
     },
     "metadata": {},
     "output_type": "display_data"
    },
    {
     "data": {
      "application/vnd.jupyter.widget-view+json": {
       "model_id": "6955776bca244b3eaa1dbbc006a33b83",
       "version_major": 2,
       "version_minor": 0
      },
      "text/plain": [
       "  0%|          | 0/25 [00:00<?, ?it/s]"
      ]
     },
     "metadata": {},
     "output_type": "display_data"
    },
    {
     "data": {
      "application/vnd.jupyter.widget-view+json": {
       "model_id": "e3726728c26244a0b3a0c5673dc57950",
       "version_major": 2,
       "version_minor": 0
      },
      "text/plain": [
       "  0%|          | 0/25 [00:00<?, ?it/s]"
      ]
     },
     "metadata": {},
     "output_type": "display_data"
    },
    {
     "name": "stdout",
     "output_type": "stream",
     "text": [
      "Time taken for HyperINF:  0.30924272537231445\n",
      "Time taken for Hessian-free:  5.0067901611328125e-06\n"
     ]
    },
    {
     "data": {
      "application/vnd.jupyter.widget-view+json": {
       "model_id": "03a908e180b240f485a2fc4b609662b5",
       "version_major": 2,
       "version_minor": 0
      },
      "text/plain": [
       "  0%|          | 0/25 [00:00<?, ?it/s]"
      ]
     },
     "metadata": {},
     "output_type": "display_data"
    },
    {
     "name": "stdout",
     "output_type": "stream",
     "text": [
      "Time taken for Datainf:  0.38831019401550293\n"
     ]
    },
    {
     "data": {
      "application/vnd.jupyter.widget-view+json": {
       "model_id": "7574611cb22a4efc9f90ca5c9ef90b7b",
       "version_major": 2,
       "version_minor": 0
      },
      "text/plain": [
       "  0%|          | 0/25 [00:00<?, ?it/s]"
      ]
     },
     "metadata": {},
     "output_type": "display_data"
    },
    {
     "name": "stdout",
     "output_type": "stream",
     "text": [
      "Time taken for LiSSA:  1.870194911956787\n"
     ]
    }
   ],
   "source": [
    "result_df = {}\n",
    "for epoch in tr_grad_dict_all.keys():\n",
    "    tr_grad_dict = tr_grad_dict_all[epoch]\n",
    "    val_grad_dict_avg = compute_val_grad_avg(val_grad_dict_all[epoch]) ## 不把所有的val_grad_dict放到gpu中，节省显存\n",
    "    for key in tqdm(tr_grad_dict): ## 尝试转为fp16计算\n",
    "        for kk in tr_grad_dict[key]:\n",
    "            # if kk!='ids':\n",
    "                tr_grad_dict[key][kk] = tr_grad_dict[key][kk].to(IF_device)\n",
    "            # tr_grad_dict[key].pop('ids')\n",
    "\n",
    "    for key in tqdm(val_grad_dict_avg):\n",
    "        # for kk in val_grad_dict[key]:\n",
    "            # if kk!='ids':\n",
    "                val_grad_dict_avg[key] = val_grad_dict_avg[key].to(IF_device)\n",
    "    influence_engine = IFEngine(weight_list=val_grad_dict_avg.keys())\n",
    "    influence_engine.preprocess_gradients(tr_grad_dict, val_grad_dict_avg, noise_index)\n",
    "\n",
    "    influence_engine.compute_hvps(compute_accurate=False,compute_LiSSA=True)\n",
    "    influence_engine.compute_IF()\n",
    "    result_df[epoch] = influence_engine.IF_dict"
   ]
  },
  {
   "cell_type": "code",
   "execution_count": 11,
   "metadata": {},
   "outputs": [],
   "source": [
    "torch.save(result_df,'../output/ER/semi-text-c/IF_dict.pkl')"
   ]
  },
  {
   "cell_type": "code",
   "execution_count": 17,
   "metadata": {},
   "outputs": [],
   "source": [
    "result_2 = pd.DataFrame(result_df[2]['iterative']).T\n",
    "result_4 = pd.DataFrame(result_df[4]['iterative']).T"
   ]
  },
  {
   "cell_type": "code",
   "execution_count": 18,
   "metadata": {},
   "outputs": [],
   "source": [
    "import pandas as pd\n",
    "\n",
    "\n",
    "def add_sum_column(df):\n",
    "    \"\"\"\n",
    "    对输入的DataFrame添加一列，列的值为所有列名包含'model'的列的元素之和。\n",
    "\n",
    "    参数:\n",
    "    df (pd.DataFrame): 输入的DataFrame对象\n",
    "\n",
    "    返回:\n",
    "    pd.DataFrame: 添加了新列后的DataFrame对象\n",
    "    \"\"\"\n",
    "    sum_cols = [col for col in df.columns if 'model' in col]\n",
    "    df['sum_model_cols'] = df[sum_cols].sum(axis=1)\n",
    "    return df\n",
    "result_2 = add_sum_column(result_2)\n",
    "result_4 = add_sum_column(result_4)"
   ]
  },
  {
   "cell_type": "code",
   "execution_count": 21,
   "metadata": {},
   "outputs": [],
   "source": [
    "import numpy as np\n",
    "sample_IF = np.zeros(4500)\n",
    "for index,row in result_2.iterrows():\n",
    "    ids = row['ids']\n",
    "    sum = row['sum_model_cols']\n",
    "    for id in ids:\n",
    "        sample_IF[id] += sum\n",
    "for index,row in result_4.iterrows():\n",
    "    ids = row['ids']\n",
    "    sum = row['sum_model_cols']\n",
    "    for id in ids:\n",
    "        sample_IF[id] += sum"
   ]
  },
  {
   "cell_type": "code",
   "execution_count": 24,
   "metadata": {},
   "outputs": [],
   "source": [
    "select_index = np.argsort(sample_IF)[:2000]"
   ]
  },
  {
   "cell_type": "code",
   "execution_count": 25,
   "metadata": {},
   "outputs": [
    {
     "data": {
      "text/plain": [
       "array([3518,  965, 1689, ..., 1356, 3698, 4408])"
      ]
     },
     "execution_count": 25,
     "metadata": {},
     "output_type": "execute_result"
    }
   ],
   "source": [
    "select_index"
   ]
  },
  {
   "cell_type": "code",
   "execution_count": null,
   "metadata": {},
   "outputs": [],
   "source": [
    "sample_IF = {}\n",
    "# for i in range(4500):\n",
    "#     sample_IF[i] = 0\n",
    "for epoch in result_df.keys():\n",
    "    for method in ['iterative']:\n",
    "        for batch_id in result_df[epoch][method].keys(): ## 选出来所有的batch\n",
    "            IF_score = result_df[epoch][method][batch_id]\n",
    "            ids = IF_score['ids']"
   ]
  },
  {
   "cell_type": "markdown",
   "metadata": {},
   "source": [
    "## RETRAIN"
   ]
  },
  {
   "cell_type": "code",
   "execution_count": 10,
   "metadata": {},
   "outputs": [
    {
     "name": "stderr",
     "output_type": "stream",
     "text": [
      "/tmp/ipykernel_3336774/2073020919.py:4: FutureWarning: You are using `torch.load` with `weights_only=False` (the current default value), which uses the default pickle module implicitly. It is possible to construct malicious pickle data which will execute arbitrary code during unpickling (See https://github.com/pytorch/pytorch/blob/main/SECURITY.md#untrusted-models for more details). In a future release, the default value for `weights_only` will be flipped to `True`. This limits the functions that could be executed during unpickling. Arbitrary objects will no longer be allowed to be loaded via this mode unless they are explicitly allowlisted by the user via `torch.serialization.add_safe_globals`. We recommend you start setting `weights_only=True` for any use case where you don't have full control of the loaded file. Please open an issue on GitHub for any issues related to this experimental feature.\n",
      "  result_df = torch.load('../output/ER/semi-text-c/IF_dict.pkl')\n"
     ]
    }
   ],
   "source": [
    "import torch\n",
    "import numpy as np\n",
    "import pandas as pd\n",
    "result_df = torch.load('../output/ER/semi-text-c/IF_dict.pkl')\n",
    "# sample_IF = {}\n",
    "# # for i in range(4500):\n",
    "# #     sample_IF[i] = 0\n",
    "# for epoch in result_df.keys():\n",
    "#     for method in ['iterative']:\n",
    "#         for batch_id in result_df[epoch][method].keys(): ## 选出来所有的batch\n",
    "#             IF_score = result_df[epoch][method][batch_id]\n",
    "#             ids = IF_score['ids']\n",
    "result_2 = pd.DataFrame(result_df[2]['iterative']).T\n",
    "result_4 = pd.DataFrame(result_df[4]['iterative']).T\n",
    "\n",
    "import pandas as pd\n",
    "\n",
    "\n",
    "def add_sum_column(df):\n",
    "    \"\"\"\n",
    "    对输入的DataFrame添加一列，列的值为所有列名包含'model'的列的元素之和。\n",
    "\n",
    "    参数:\n",
    "    df (pd.DataFrame): 输入的DataFrame对象\n",
    "\n",
    "    返回:\n",
    "    pd.DataFrame: 添加了新列后的DataFrame对象\n",
    "    \"\"\"\n",
    "    sum_cols = [col for col in df.columns if 'model' in col]\n",
    "    df['sum_model_cols'] = df[sum_cols].sum(axis=1)\n",
    "    return df\n",
    "result_2 = add_sum_column(result_2)\n",
    "result_4 = add_sum_column(result_4)\n",
    "\n",
    "\n",
    "import numpy as np\n",
    "sample_IF = np.zeros(4500)\n",
    "for index,row in result_2.iterrows():\n",
    "    ids = row['ids']\n",
    "    sum = row['sum_model_cols']\n",
    "    for id in ids:\n",
    "        sample_IF[id] += sum\n",
    "for index,row in result_4.iterrows():\n",
    "    ids = row['ids']\n",
    "    sum = row['sum_model_cols']\n",
    "    for id in ids:\n",
    "        sample_IF[id] += sum"
   ]
  },
  {
   "cell_type": "code",
   "execution_count": 13,
   "metadata": {},
   "outputs": [],
   "source": [
    "select_index = np.argsort(sample_IF)[:500]"
   ]
  },
  {
   "cell_type": "markdown",
   "metadata": {},
   "source": [
    "### Ablation\n"
   ]
  },
  {
   "cell_type": "code",
   "execution_count": 11,
   "metadata": {},
   "outputs": [],
   "source": [
    "select_index = np.random.choice(np.argsort(sample_IF),size=500)"
   ]
  },
  {
   "cell_type": "code",
   "execution_count": 12,
   "metadata": {},
   "outputs": [
    {
     "data": {
      "text/plain": [
       "array([1077, 2306,  964, 2117, 1107,  772, 3860, 1156,  248, 1161, 1699,\n",
       "       1086, 4249,  983,   49, 2858, 3992,  942, 4416, 2525, 2412, 4193,\n",
       "         90,  337,   49, 3665, 1595, 2865,  817, 1190,  100, 2131, 4307,\n",
       "       2369, 4076,  717, 1691, 1249, 4484, 2300,  240,  905, 3254, 4061,\n",
       "       2305, 3311, 3998, 1440, 1292, 3771,  740, 2836, 3744, 3865, 1230,\n",
       "       1576,  637, 1205, 4314,  683, 1799, 3517, 1407, 1736, 3993, 3246,\n",
       "        511, 1530, 1563, 2948, 3383,  617, 4058, 3903, 2947, 1879, 3257,\n",
       "       2901,  255,  553, 3124, 3801, 4167, 2087, 2920, 1225,  258,   78,\n",
       "       1309, 1837, 4089, 1606, 1500, 1355,  256, 3159, 3212, 3175, 2374,\n",
       "       4237, 1079, 2369, 4209, 3678, 4179, 2844,   83, 1544, 4151, 1286,\n",
       "       1850, 3555, 1696, 3505,  668, 2011,  833, 1022, 2209,  318, 2559,\n",
       "       3910, 2827, 4143, 2395, 2826, 4126, 1529, 1973, 2707, 4173, 2398,\n",
       "       4105, 2054, 3681, 1118, 1767, 2738, 3892,  460,  816, 2383, 3154,\n",
       "       2996, 1646, 2715, 3222, 3251, 3721, 3364, 3898, 2010, 4393, 4399,\n",
       "       2503, 2335, 4299, 4022, 3986, 3728, 2521,  441, 1361, 2191, 1775,\n",
       "       2610,  205, 1985,  638,  640, 2315, 4116, 2254,   34, 2695, 2042,\n",
       "       1900,  983, 4320, 1376, 4491, 3747, 3695,   77,  144, 2883, 1546,\n",
       "       3777, 4419, 1481, 1582,  824,  882,  350, 4052, 2091, 3353, 2170,\n",
       "         85, 3050, 3305, 3218, 3041, 4445, 2663, 3888, 4257, 2298, 1756,\n",
       "       3530, 1556, 1113, 1494, 2544,  208, 4283, 3965, 1192, 2164,  471,\n",
       "       3777, 1871, 1865, 1070, 2247,  521, 3689, 2261,  501, 3802,  493,\n",
       "       2713, 3942,  120, 4281, 3861, 1532, 2625, 2359, 1304, 2271,  109,\n",
       "       4449, 1215, 1625, 4088, 1138,  832, 3681, 3694, 4307, 2971,  995,\n",
       "        767, 4280,  207, 1233, 1912, 3786, 2113, 1261, 1979,  804, 2936,\n",
       "        927, 2187,  131, 1140, 1610, 4465,   48, 1694, 3125,  662, 2957,\n",
       "       4307, 2020, 4336, 1593, 1950, 3204, 3912,  767, 1994, 3903, 4368,\n",
       "       3982, 4187, 1904, 1535, 2239, 1424, 2418, 2499, 2080, 1433,  305,\n",
       "       3610, 1169, 2815, 3195, 2365, 2871, 3538, 3212, 1577,  469, 1792,\n",
       "       2535, 2382, 4190, 2744, 3000, 3390, 4125, 1945, 1032, 1697,  486,\n",
       "       1265,  602, 3558, 3879,  197,  726, 2011, 2157,   74, 3433,   30,\n",
       "       2003, 1344,  358, 2867, 3941,  831,  902, 3300, 2435, 2342,  276,\n",
       "       4047, 3690,  420, 3093, 1667, 4418, 3773, 2756, 3672, 1280, 3115,\n",
       "        619, 2618, 4181, 3924,  430, 3614,  623, 1106, 2223,  326, 2395,\n",
       "       2164, 2996, 1572, 4290, 2232, 3667, 1245, 2560, 3726, 4276, 1842,\n",
       "       1309, 1697,  638, 1434, 3014, 4123, 4394, 3859, 3105, 3068, 3995,\n",
       "       1857, 3892,  729, 2288,  786, 1236, 1949,  358, 4470, 2396,  142,\n",
       "       4142, 1775, 4347, 4432, 1731, 3541, 3555, 4473,  582, 2743, 3942,\n",
       "       2572,  257, 1624, 3748, 1500, 2933,  992, 1307, 4486, 1977, 4278,\n",
       "       1251,  244, 1194, 1435, 2863, 3928, 1084, 3691, 3939,  618,  103,\n",
       "       2539,  798, 2280, 1672, 1213, 1869, 2323,  309, 1136, 1101, 1270,\n",
       "       4044, 2594, 1776, 3473, 1539, 2867, 1526, 3663, 1983, 2036, 3339,\n",
       "       2360, 3911, 3535, 2796, 2381, 2868, 1816, 3308, 2527, 1310, 1811,\n",
       "        201, 2333, 3093, 3865,  646, 2658, 3261, 3957, 4398, 1405, 4409,\n",
       "       1956, 2979,  825, 2073,  197,  798, 2671, 4212, 4188, 3032,  989,\n",
       "        365, 1267, 2242,  127,  321, 3331, 2947, 2909,  145, 1548, 1254,\n",
       "        233,  866, 1065, 4467, 3520])"
      ]
     },
     "execution_count": 12,
     "metadata": {},
     "output_type": "execute_result"
    }
   ],
   "source": [
    "select_index"
   ]
  },
  {
   "cell_type": "code",
   "execution_count": 2,
   "metadata": {},
   "outputs": [],
   "source": [
    "import sys\n",
    "sys.path.append('../src')\n",
    "# from dataloader import create_dataloaders\n",
    "from dataloader_ER import create_dataloaders\n",
    "# from lora_model import LORAEngine,LORAEngineDeberta,LORAEngineDebertaMultiClass\n",
    "from lora_model_vmap import LORAEngineDebertaMultiClass\n",
    "\n",
    "# from influence import IFEngine\n",
    "from influence_hyperinf import IFEngine\n",
    "\n",
    "import numpy as np\n",
    "from sklearn.metrics import roc_auc_score\n",
    "from matplotlib import pyplot as plt\n",
    "\n",
    "import warnings\n",
    "warnings.filterwarnings(\"ignore\")\n",
    "# model_name_or_path=\"roberta-large\"\n",
    "# model_name_or_path=\"/home/yanmy/roberta-base\"\n",
    "model_name_or_path=\"../../model/deberta-v3-base\"\n",
    "# model_name_or_path=\"../../model/roberta-large\"\n",
    "task=\"ER\"\n",
    "# task = \"qnli\"\n",
    "noise_ratio=0\n",
    "batch_size=16\n",
    "# target_modules=[\"query_proj\", \"key_proj\", \"value_proj\"] ## deberta, for roberta, use [\"value\"]\n",
    "# target_modules = ['value']\n",
    "target_modules=[\"value_proj\"] ## deberta, for roberta, use [\"value\"]\n",
    "\n",
    "device=\"cuda:7\"\n",
    "num_epochs=15\n",
    "lr=3e-4"
   ]
  },
  {
   "cell_type": "code",
   "execution_count": 5,
   "metadata": {},
   "outputs": [],
   "source": [
    "select_index = np.random.choice(np.arange(4500),size=500)"
   ]
  },
  {
   "cell_type": "code",
   "execution_count": 6,
   "metadata": {},
   "outputs": [
    {
     "data": {
      "application/vnd.jupyter.widget-view+json": {
       "model_id": "771a3c5fc2d84c82ad8cf1c73dc9deca",
       "version_major": 2,
       "version_minor": 0
      },
      "text/plain": [
       "Map:   0%|          | 0/500 [00:00<?, ? examples/s]"
      ]
     },
     "metadata": {},
     "output_type": "display_data"
    },
    {
     "data": {
      "application/vnd.jupyter.widget-view+json": {
       "model_id": "2101eaa892f042d9a90d39d8b1a7dccc",
       "version_major": 2,
       "version_minor": 0
      },
      "text/plain": [
       "Map:   0%|          | 0/737 [00:00<?, ? examples/s]"
      ]
     },
     "metadata": {},
     "output_type": "display_data"
    },
    {
     "data": {
      "application/vnd.jupyter.widget-view+json": {
       "model_id": "b583a95b895145afadeeca488f72dfeb",
       "version_major": 2,
       "version_minor": 0
      },
      "text/plain": [
       "Map:   0%|          | 0/4179 [00:00<?, ? examples/s]"
      ]
     },
     "metadata": {},
     "output_type": "display_data"
    }
   ],
   "source": [
    "dataloader_outputs = create_dataloaders(model_name_or_path=model_name_or_path,\n",
    "                                           task=task,\n",
    "                                           noise_ratio=noise_ratio,\n",
    "                                           batch_size=batch_size,\n",
    "                                           train_file = '../ER/semi-text-c/train.json',\n",
    "                                           valid_file = '../ER/semi-text-c/valid.json',\n",
    "                                           test_file = '../ER/semi-text-c/test.json',\n",
    "                                           max_length=256,\n",
    "                                           select_index = select_index)\n",
    "# train_dataloader, eval_dataloader, noise_index, tokenized_datasets, collate_fn=dataloader_outputs\n",
    "train_dataloader, eval_dataloader,test_dataloader, tokenized_datasets, collate_fn=dataloader_outputs\n",
    "\n",
    "\n",
    "# lora_engine = LORAEngine(model_name_or_path=model_name_or_path,\n",
    "#                             target_modules=target_modules,\n",
    "#                             train_dataloader=train_dataloader,\n",
    "#                             eval_dataloader=eval_dataloader,\n",
    "#                             device=device,\n",
    "#                             num_epochs=num_epochs,\n",
    "#                             lr=lr,\n",
    "#                             low_rank=8, \n",
    "#                             task=task)\n",
    "\n",
    "lora_engine = LORAEngineDebertaMultiClass(model_name_or_path=model_name_or_path,\n",
    "                            target_modules=target_modules,\n",
    "                            train_dataloader=train_dataloader,\n",
    "                            # eval_dataloader=eval_dataloader,\n",
    "                            eval_dataloader=eval_dataloader,\n",
    "                            test_dataloader = test_dataloader,\n",
    "                            device=device,\n",
    "                            num_epochs=num_epochs,\n",
    "                            lr=lr,\n",
    "                            low_rank=16, \n",
    "                            task=task,\n",
    "                            save_path = '../models/mrpc',\n",
    "                            valid_each_epoch=False,\n",
    "                            cal_grad_per_sample = False)"
   ]
  },
  {
   "cell_type": "code",
   "execution_count": 7,
   "metadata": {},
   "outputs": [
    {
     "name": "stderr",
     "output_type": "stream",
     "text": [
      "Some weights of DebertaV2ForSequenceClassification were not initialized from the model checkpoint at ../../model/deberta-v3-base and are newly initialized: ['classifier.bias', 'classifier.weight', 'pooler.dense.bias', 'pooler.dense.weight']\n",
      "You should probably TRAIN this model on a down-stream task to be able to use it for predictions and inference.\n"
     ]
    },
    {
     "name": "stdout",
     "output_type": "stream",
     "text": [
      "trainable params: 296,450 || all params: 184,720,132 || trainable%: 0.1605\n",
      "Total Steps:480\n"
     ]
    },
    {
     "name": "stderr",
     "output_type": "stream",
     "text": [
      "  0%|          | 0/32 [00:00<?, ?it/s]You're using a DebertaV2TokenizerFast tokenizer. Please note that with a fast tokenizer, using the `__call__` method is faster than using a method to encode the text followed by a call to the `pad` method to get a padded encoding.\n",
      "100%|██████████| 32/32 [00:02<00:00, 11.41it/s]\n"
     ]
    },
    {
     "name": "stdout",
     "output_type": "stream",
     "text": [
      "Epoch 1: Training Loss = 0.6829902809113264\n"
     ]
    },
    {
     "name": "stderr",
     "output_type": "stream",
     "text": [
      "100%|██████████| 32/32 [00:02<00:00, 13.88it/s]\n"
     ]
    },
    {
     "name": "stdout",
     "output_type": "stream",
     "text": [
      "Epoch 2: Training Loss = 0.6839223299175501\n"
     ]
    },
    {
     "name": "stderr",
     "output_type": "stream",
     "text": [
      "100%|██████████| 32/32 [00:02<00:00, 13.77it/s]\n"
     ]
    },
    {
     "name": "stdout",
     "output_type": "stream",
     "text": [
      "Epoch 3: Training Loss = 0.6768771205097437\n"
     ]
    },
    {
     "name": "stderr",
     "output_type": "stream",
     "text": [
      "100%|██████████| 32/32 [00:02<00:00, 13.69it/s]\n"
     ]
    },
    {
     "name": "stdout",
     "output_type": "stream",
     "text": [
      "Epoch 4: Training Loss = 0.6237391531467438\n"
     ]
    },
    {
     "name": "stderr",
     "output_type": "stream",
     "text": [
      "100%|██████████| 32/32 [00:02<00:00, 13.59it/s]\n"
     ]
    },
    {
     "name": "stdout",
     "output_type": "stream",
     "text": [
      "Epoch 5: Training Loss = 0.47199080791324377\n"
     ]
    },
    {
     "name": "stderr",
     "output_type": "stream",
     "text": [
      "100%|██████████| 32/32 [00:02<00:00, 13.82it/s]\n"
     ]
    },
    {
     "name": "stdout",
     "output_type": "stream",
     "text": [
      "Epoch 6: Training Loss = 0.3934737551026046\n"
     ]
    },
    {
     "name": "stderr",
     "output_type": "stream",
     "text": [
      "100%|██████████| 32/32 [00:02<00:00, 14.02it/s]\n"
     ]
    },
    {
     "name": "stdout",
     "output_type": "stream",
     "text": [
      "Epoch 7: Training Loss = 0.31626943429000676\n"
     ]
    },
    {
     "name": "stderr",
     "output_type": "stream",
     "text": [
      "100%|██████████| 32/32 [00:02<00:00, 14.00it/s]\n"
     ]
    },
    {
     "name": "stdout",
     "output_type": "stream",
     "text": [
      "Epoch 8: Training Loss = 0.2618878852808848\n"
     ]
    },
    {
     "name": "stderr",
     "output_type": "stream",
     "text": [
      "100%|██████████| 32/32 [00:02<00:00, 14.16it/s]\n"
     ]
    },
    {
     "name": "stdout",
     "output_type": "stream",
     "text": [
      "Epoch 9: Training Loss = 0.20863939123228192\n"
     ]
    },
    {
     "name": "stderr",
     "output_type": "stream",
     "text": [
      "100%|██████████| 32/32 [00:02<00:00, 14.23it/s]\n"
     ]
    },
    {
     "name": "stdout",
     "output_type": "stream",
     "text": [
      "Epoch 10: Training Loss = 0.23196130606811494\n"
     ]
    },
    {
     "name": "stderr",
     "output_type": "stream",
     "text": [
      "100%|██████████| 32/32 [00:02<00:00, 14.06it/s]\n"
     ]
    },
    {
     "name": "stdout",
     "output_type": "stream",
     "text": [
      "Epoch 11: Training Loss = 0.16344814986223355\n"
     ]
    },
    {
     "name": "stderr",
     "output_type": "stream",
     "text": [
      "100%|██████████| 32/32 [00:02<00:00, 14.00it/s]\n"
     ]
    },
    {
     "name": "stdout",
     "output_type": "stream",
     "text": [
      "Epoch 12: Training Loss = 0.1570405598031357\n"
     ]
    },
    {
     "name": "stderr",
     "output_type": "stream",
     "text": [
      "100%|██████████| 32/32 [00:02<00:00, 14.08it/s]\n"
     ]
    },
    {
     "name": "stdout",
     "output_type": "stream",
     "text": [
      "Epoch 13: Training Loss = 0.14662564324680716\n"
     ]
    },
    {
     "name": "stderr",
     "output_type": "stream",
     "text": [
      "100%|██████████| 32/32 [00:02<00:00, 13.82it/s]\n"
     ]
    },
    {
     "name": "stdout",
     "output_type": "stream",
     "text": [
      "Epoch 14: Training Loss = 0.15161741798510775\n"
     ]
    },
    {
     "name": "stderr",
     "output_type": "stream",
     "text": [
      "100%|██████████| 32/32 [00:02<00:00, 13.75it/s]\n"
     ]
    },
    {
     "name": "stdout",
     "output_type": "stream",
     "text": [
      "Epoch 15: Training Loss = 0.1355522975209169\n"
     ]
    },
    {
     "name": "stderr",
     "output_type": "stream",
     "text": [
      "100%|██████████| 262/262 [00:18<00:00, 13.82it/s]"
     ]
    },
    {
     "name": "stdout",
     "output_type": "stream",
     "text": [
      "Prediction Result on Test Data: {'f1': 0.7880910683012259}\n"
     ]
    },
    {
     "name": "stderr",
     "output_type": "stream",
     "text": [
      "\n"
     ]
    },
    {
     "data": {
      "text/plain": [
       "({}, {})"
      ]
     },
     "execution_count": 7,
     "metadata": {},
     "output_type": "execute_result"
    }
   ],
   "source": [
    "lora_engine.build_LORA_model()\n",
    "lora_engine.train_LORA_model()"
   ]
  },
  {
   "cell_type": "code",
   "execution_count": null,
   "metadata": {},
   "outputs": [],
   "source": [
    "{'f1': 0.8182701652089407} 1000\n",
    "{'f1': 0.7937062937062938} 500"
   ]
  }
 ],
 "metadata": {
  "kernelspec": {
   "display_name": "deepspeed",
   "language": "python",
   "name": "python3"
  },
  "language_info": {
   "codemirror_mode": {
    "name": "ipython",
    "version": 3
   },
   "file_extension": ".py",
   "mimetype": "text/x-python",
   "name": "python",
   "nbconvert_exporter": "python",
   "pygments_lexer": "ipython3",
   "version": "3.12.4"
  }
 },
 "nbformat": 4,
 "nbformat_minor": 2
}

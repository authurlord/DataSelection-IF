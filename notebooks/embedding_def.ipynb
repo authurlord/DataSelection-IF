{
 "cells": [
  {
   "cell_type": "code",
   "execution_count": 1,
   "metadata": {},
   "outputs": [],
   "source": [
    "import os\n",
    "import pandas as pd\n",
    "\n",
    "def is_folder_empty(folder_path):\n",
    "    \"\"\"\n",
    "    检查指定的文件夹是否为空文件夹。\n",
    "\n",
    "    参数:\n",
    "    folder_path (str): 要检查的文件夹的路径\n",
    "\n",
    "    返回:\n",
    "    bool: 如果文件夹为空，返回True；否则返回False。\n",
    "    \"\"\"\n",
    "    if not os.path.exists(folder_path):\n",
    "        raise ValueError(f\"指定的路径 {folder_path} 不存在，请检查输入的文件夹路径是否正确。\")\n",
    "    if not os.path.isdir(folder_path):\n",
    "        raise ValueError(f\"{folder_path} 不是一个文件夹，请确保输入的是文件夹路径。\")\n",
    "\n",
    "    # 获取文件夹下的所有文件和子文件夹列表\n",
    "    contents = os.listdir(folder_path)\n",
    "    return len(contents) == 0"
   ]
  },
  {
   "cell_type": "markdown",
   "metadata": {},
   "source": [
    "## test embed on Relation Extraction Task(RE)"
   ]
  },
  {
   "cell_type": "code",
   "execution_count": 14,
   "metadata": {},
   "outputs": [],
   "source": [
    "RE_train = pd.read_json('../train/RE/RE-train.json')"
   ]
  },
  {
   "cell_type": "code",
   "execution_count": 29,
   "metadata": {},
   "outputs": [],
   "source": [
    "def RE_Embed_Text(df): ## 返回3列分别是text_1,text_2,label\n",
    "    SimTab = df\n",
    "    context_list = []\n",
    "    target_list = []\n",
    "    label_list = []\n",
    "    for i in range(len(SimTab)):\n",
    "        text = SimTab.iloc[i,0]\n",
    "        label = list(eval(SimTab.iloc[i,2]).values())[0]\n",
    "        label_list.append(label) ## add label\n",
    "        context = text.split('\\n\\nTable1:')[1].split('\\n\\nRelation Option: \\n\\n')[0].replace('<table_title>','<table_title> ').replace('<header>',' <header> ').replace('|',' | ')\n",
    "        context_list.append(str(context)) ## add context\n",
    "        target = text.split('<header>')[1].split('\\n\\nRelation Option: \\n\\n')[0]\n",
    "        target_list.append(str(target.replace('|',' | ')))\n",
    "    return context_list,target_list,label_list"
   ]
  },
  {
   "cell_type": "code",
   "execution_count": 30,
   "metadata": {},
   "outputs": [],
   "source": [
    "c,t,l = RE_Embed_Text(RE_train)"
   ]
  }
 ],
 "metadata": {
  "kernelspec": {
   "display_name": "deepspeed",
   "language": "python",
   "name": "python3"
  },
  "language_info": {
   "codemirror_mode": {
    "name": "ipython",
    "version": 3
   },
   "file_extension": ".py",
   "mimetype": "text/x-python",
   "name": "python",
   "nbconvert_exporter": "python",
   "pygments_lexer": "ipython3",
   "version": "3.12.4"
  }
 },
 "nbformat": 4,
 "nbformat_minor": 2
}

{
 "cells": [
  {
   "cell_type": "code",
   "execution_count": null,
   "metadata": {},
   "outputs": [],
   "source": [
    "### 计算ppl"
   ]
  },
  {
   "cell_type": "code",
   "execution_count": null,
   "metadata": {
    "vscode": {
     "languageId": "shellscript"
    }
   },
   "outputs": [],
   "source": [
    "CUDA_VISIBLE_DEVICES=6 python cal_ppl.py \\\n",
    "--model_name_or_path /data/home/wangys/model/qwen-2.5-7B \\\n",
    "--tokenized_path ER/Amazon-Google-Full  \\\n",
    "--template qwen \\\n",
    "--save_name ppl/ppl_qwen2.5-7B-AG-Full.json \\\n",
    "--batch_size 4 \\ \n",
    "--stage sft"
   ]
  },
  {
   "cell_type": "code",
   "execution_count": null,
   "metadata": {
    "vscode": {
     "languageId": "shellscript"
    }
   },
   "outputs": [],
   "source": [
    "CUDA_VISIBLE_DEVICES=6 python cal_ppl.py --model_name_or_path /data/home/wangys/model/qwen-2.5-7B --tokenized_path ER/Amazon-Google-Full  --template qwen --save_name ppl/ppl_qwen2.5-7B-AG-Full.json --batch_size 4 --stage sft"
   ]
  },
  {
   "cell_type": "code",
   "execution_count": null,
   "metadata": {
    "vscode": {
     "languageId": "shellscript"
    }
   },
   "outputs": [],
   "source": [
    "CUDA_VISIBLE_DEVICES=5 python cal_ppl.py --model_name_or_path /data/home/wangys/model/qwen-2.5-7B --train_file_path /data/home/wangys/transfer-er/Pipeline/Abt-Buy/LLM_file/Abt-Buy-Train-Match-P1.json  --template qwen --save_name ppl/ppl_qwen2.5-7B-AG.json --batch_size 4 --stage sft"
   ]
  },
  {
   "cell_type": "markdown",
   "metadata": {},
   "source": [
    "_load_single_dataset() llamafactory/data/loader.py：修改load_dataset()的方法\n",
    "local_path = os.path.join(data_args.dataset_dir, dataset_attr.dataset_name) ## 加载本地文件，默认为json?\n",
    "加入一个File_Path"
   ]
  },
  {
   "cell_type": "code",
   "execution_count": null,
   "metadata": {
    "vscode": {
     "languageId": "shellscript"
    }
   },
   "outputs": [],
   "source": [
    "CUDA_VISIBLE_DEVICES=6 python cal_ppl.py --model_name_or_path /data/home/wangys/model/qwen-2.5-7B --train_file_path /data/home/wangys/transfer-er/Pipeline/Abt-Buy/LLM_file/Abt-Buy-Train-Match-P1-short.json  --template qwen --save_name ppl_qwen2.5-7B-AG-noIF.json --batch_size 4 --stage sft --cutoff_len 512 "
   ]
  },
  {
   "cell_type": "markdown",
   "metadata": {},
   "source": [
    "### Calculate IDF with small model"
   ]
  },
  {
   "cell_type": "code",
   "execution_count": null,
   "metadata": {
    "vscode": {
     "languageId": "shellscript"
    }
   },
   "outputs": [],
   "source": [
    "CUDA_VISIBLE_DEVICES=5 python cal_IF.py --model_name_or_path /data/home/wangys/model/Qwen2.5-0.5B-Instruct --train_file_path /data/home/wangys/transfer-er/Pipeline/Abt-Buy/LLM_file/Abt-Buy-Train-Match-P1-short.json  --template qwen --save_name ppl_qwen2.5-0.5B-AB-short --batch_size 4 --stage sft  --grad_name grad-qwen2.5-0.5B-AB-short"
   ]
  },
  {
   "cell_type": "code",
   "execution_count": null,
   "metadata": {
    "vscode": {
     "languageId": "shellscript"
    }
   },
   "outputs": [],
   "source": [
    "CUDA_VISIBLE_DEVICES=6 python cal_IF.py --model_name_or_path /data/home/wangys/model/Qwen2.5-0.5B-Instruct --train_file_path /data/home/wangys/transfer-er/Pipeline/Abt-Buy/LLM_file/Abt-Buy-Train-Match-P1.json  --template qwen --save_name ppl_qwen2.5-0.5B-AB --batch_size 4 --stage sft  --grad_name grad-qwen2.5-0.5B-AB"
   ]
  },
  {
   "cell_type": "code",
   "execution_count": null,
   "metadata": {
    "vscode": {
     "languageId": "shellscript"
    }
   },
   "outputs": [],
   "source": [
    "CUDA_VISIBLE_DEVICES=6 python cal_IF.py --model_name_or_path /data/home/wangys/model/Qwen2.5-0.5B-Instruct --train_file_path /data/home/wangys/transfer-er/Pipeline/Amazon-Google/LLM_file/Amazon-Google-Train-Match-P1-wo-RAG.json  --template qwen --save_name ppl_qwen2.5-0.5B-AG-short --batch_size 4 --stage sft  --grad_name grad-qwen2.5-0.5B-AG-short"
   ]
  },
  {
   "cell_type": "code",
   "execution_count": null,
   "metadata": {
    "vscode": {
     "languageId": "shellscript"
    }
   },
   "outputs": [],
   "source": [
    "## train"
   ]
  },
  {
   "cell_type": "code",
   "execution_count": null,
   "metadata": {
    "vscode": {
     "languageId": "shellscript"
    }
   },
   "outputs": [],
   "source": [
    "CUDA_VISIBLE_DEVICES=4,5,6 llamafactory-cli train script/qwen_lora_Abt-Buy-Match-P1.yaml"
   ]
  },
  {
   "cell_type": "markdown",
   "metadata": {},
   "source": [
    "### VLLM inference for performance"
   ]
  },
  {
   "cell_type": "code",
   "execution_count": null,
   "metadata": {
    "vscode": {
     "languageId": "shellscript"
    }
   },
   "outputs": [],
   "source": [
    "CUDA_VISIBLE_DEVICES=5 python vllm_inference_mistral_api.py --model_path /data/home/wangys/model/Qwen2.5-0.5B-Instruct --directory lora/qwen-0.5B/AG-init-short --gpu_num 1 --file /data/home/wangys/transfer-er/Pipeline/Amazon-Google/LLM_file/Amazon-Google-Test-Match-wo-RAG.json --json"
   ]
  },
  {
   "cell_type": "markdown",
   "metadata": {},
   "source": [
    "## train"
   ]
  }
 ],
 "metadata": {
  "kernelspec": {
   "display_name": "deepspeed",
   "language": "python",
   "name": "python3"
  },
  "language_info": {
   "codemirror_mode": {
    "name": "ipython",
    "version": 3
   },
   "file_extension": ".py",
   "mimetype": "text/x-python",
   "name": "python",
   "nbconvert_exporter": "python",
   "pygments_lexer": "ipython3",
   "version": "3.12.4"
  }
 },
 "nbformat": 4,
 "nbformat_minor": 2
}

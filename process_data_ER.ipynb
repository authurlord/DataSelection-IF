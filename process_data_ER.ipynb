{
 "cells": [
  {
   "cell_type": "code",
   "execution_count": 1,
   "metadata": {},
   "outputs": [],
   "source": [
    "import pandas as pd\n",
    "import numpy as np"
   ]
  },
  {
   "cell_type": "code",
   "execution_count": 2,
   "metadata": {},
   "outputs": [],
   "source": [
    "train = pd.read_json('/data/home/wangys/transfer-er/Pipeline/Abt-Buy/LLM_file/Abt-Buy-Train-Match-P1.json')"
   ]
  },
  {
   "cell_type": "code",
   "execution_count": 21,
   "metadata": {},
   "outputs": [],
   "source": [
    "test = pd.read_json('/data/home/wangys/transfer-er/Pipeline/Abt-Buy/LLM_file/Abt-Buy-Test-Match.json')"
   ]
  },
  {
   "cell_type": "code",
   "execution_count": 8,
   "metadata": {},
   "outputs": [],
   "source": [
    "# print(train.iloc[3,0].split('at the final judgement.')[1].split('Take these examples as reference:')[0])\n",
    "def cut_input_length(row):\n",
    "    input = row['instruction']\n",
    "    output = input.split('at the final judgement.')[1].split('Take these examples as reference:')[0]\n",
    "    return output\n",
    "train['instruction'] = train.apply(cut_input_length,axis=1)"
   ]
  },
  {
   "cell_type": "code",
   "execution_count": 22,
   "metadata": {},
   "outputs": [],
   "source": [
    "test['instruction'] = test.apply(cut_input_length,axis=1)"
   ]
  },
  {
   "cell_type": "code",
   "execution_count": 10,
   "metadata": {},
   "outputs": [
    {
     "data": {
      "application/vnd.jupyter.widget-view+json": {
       "model_id": "a3dc9dd834dd4e869dba12fef86b2020",
       "version_major": 2,
       "version_minor": 0
      },
      "text/plain": [
       "  0%|          | 0/2457 [00:00<?, ?it/s]"
      ]
     },
     "metadata": {},
     "output_type": "display_data"
    },
    {
     "name": "stdout",
     "output_type": "stream",
     "text": [
      "Token Lengths: 717\n"
     ]
    }
   ],
   "source": [
    "from transformers import RobertaTokenizer\n",
    "import pandas as pd\n",
    "from tqdm.notebook import tqdm\n",
    "# prompt_opt = pd.read_json('/home/yanmy/LLM_ER/data/dblp-acm/feature_align/dblp-acm-train-dpo.json') ## replace with your training file\n",
    "\n",
    "tokenizer = RobertaTokenizer.from_pretrained('../roberta-base/') ## replace with any LM\n",
    "\n",
    "\n",
    "token_lengths = [len(tokenizer.encode(text, add_special_tokens=True)) for text in tqdm(train.iloc[:,0].to_list())]\n",
    "\n",
    "print(\"Token Lengths:\", max(token_lengths))"
   ]
  },
  {
   "cell_type": "code",
   "execution_count": 20,
   "metadata": {},
   "outputs": [],
   "source": [
    "import json\n",
    "json.dump(train.to_dict(orient='records'), open('/data/home/wangys/transfer-er/Pipeline/Abt-Buy/LLM_file/Abt-Buy-Train-Match-P1-short.json', 'w', encoding='utf-8'), ensure_ascii=False, indent=4)"
   ]
  },
  {
   "cell_type": "code",
   "execution_count": null,
   "metadata": {},
   "outputs": [],
   "source": [
    "import json\n",
    "json.dump(test.to_dict(orient='records'), open('/data/home/wangys/transfer-er/Pipeline/Abt-Buy/LLM_file/Abt-Buy-Test-short.json', 'w', encoding='utf-8'), ensure_ascii=False, indent=4)"
   ]
  },
  {
   "cell_type": "markdown",
   "metadata": {},
   "source": [
    "### CTA from here"
   ]
  },
  {
   "cell_type": "code",
   "execution_count": 2,
   "metadata": {},
   "outputs": [],
   "source": [
    "SimTab = pd.read_json('/data/home/wangys/MELD/dataset/CTA/SimTab_Train_few.json')"
   ]
  },
  {
   "cell_type": "code",
   "execution_count": 6,
   "metadata": {},
   "outputs": [],
   "source": [
    "WebTable = pd.read_json('/data/home/wangys/MELD/dataset/CTA/webtable_train_few.json')"
   ]
  },
  {
   "cell_type": "code",
   "execution_count": 9,
   "metadata": {},
   "outputs": [
    {
     "data": {
      "text/plain": [
       "output\n",
       "{\"type\": \"state\"}             227\n",
       "{\"type\": \"rank\"}              218\n",
       "{\"type\": \"country\"}           207\n",
       "{\"type\": \"city\"}              182\n",
       "{\"type\": \"result\"}            177\n",
       "                             ... \n",
       "{\"type\": \"affiliate\"}           2\n",
       "{\"type\": \"industry\"}            2\n",
       "{\"type\": \"classification\"}      2\n",
       "{\"type\": \"education\"}           1\n",
       "{\"type\": \"currency\"}            1\n",
       "Name: count, Length: 77, dtype: int64"
      ]
     },
     "execution_count": 9,
     "metadata": {},
     "output_type": "execute_result"
    }
   ],
   "source": [
    "# print(WebTable.iloc[0,0])\n",
    "WebTable['output'].value_counts()"
   ]
  },
  {
   "cell_type": "code",
   "execution_count": 10,
   "metadata": {},
   "outputs": [
    {
     "name": "stdout",
     "output_type": "stream",
     "text": [
      "You are an expert in relation extraction from wikipedia web table to knowledge graph. Given table title and column pair for Table 1, please choose the most proper type from the provided options. Return in json format.\n",
      "\n",
      "Column: col_1\n",
      "\n",
      "Options:[\"species\", \"type\", \"capacity\"]\n",
      "\n",
      "Output Format Example:\n",
      "\n",
      "{\"type\": \"\"}\n",
      "\n",
      "Table 1:\n",
      "\n",
      "{'category': 'Greenhouse Gases', 'name': 'Carbon Monoxide (CO)', 'col_1': 'Flask', 'year': 'Multiple'}\n",
      "\n",
      "Reference tables:\n",
      "\n",
      "{'Table': \"{'category': 'Aerosols', 'name': 'Aerosols', 'col_1': 'Insitu', 'year': '1994'}\\n{'category': 'Aerosols', 'name': 'Aerosols', 'col_1': 'Insitu', 'year': '1995'}\\n{'category': 'Ozone', 'name': 'Ozone (O3)', 'col_1': 'Insitu', 'year': 'Multiple'}\\n{'category': 'Aerosols', 'name': 'Aerosols', 'col_1': 'Insitu', 'year': '1993'}\", 'Column': 'col_1', 'type': 'type'}\n",
      "\n",
      "{'Table': \"{'col_1': 'Yellow Perch', 'weight': '1'}\", 'Column': 'col_1', 'type': 'species'}\n",
      "\n",
      "{'Table': \"{'description': 'Inflatable Boat SD385', 'col_1': '5 persons'}\\n{'description': 'Inflatable Dinghy SD260', 'col_1': '3 persons'}\\n{'description': 'Inflatable Dinghy SD290', 'col_1': '4 persons'}\\n{'description': 'Inflatable Boat SD430', 'col_1': '7 persons'}\", 'Column': 'col_1', 'type': 'capacity'}\n",
      "\n",
      "{'Table': '{\\'col_1\\': \\'Feet (Leather)\\', \\'description\\': \"Agility and stamina bonuses Run Speed increased slightly Increases attack power The level 58 version of these boots is part of The Highlander\\'s Purpose or The Defiler\\'s Purpose set.\"}\\n{\\'col_1\\': \\'Back\\', \\'description\\': \\'Agility and stamina bonuses Increases Attack Power\\'}\\n{\\'col_1\\': \\'Trinket\\', \\'description\\': \\'Absorbs a fixed amount of physical damage for 15 seconds\\'}\\n{\\'col_1\\': \\'Feet (Mail/Plate)\\', \\'description\\': \"Strength, agility, stamina, and intellect bonuses Run Speed increased slightly The level 58 version of these boots is part of The Highlander\\'s Resolve set.\"}', 'Column': 'col_1', 'type': 'type'}\n",
      "\n",
      "{'Table': \"{'category': 'Non-Methane Hydrocarbons', 'name': 'i-pentane (i-C5H12)', 'col_1': 'Flask', 'year': 'Multiple'}\\n{'category': 'Non-Methane Hydrocarbons', 'name': 'n-butane (n-C4H10)', 'col_1': 'Flask', 'year': 'Multiple'}\\n{'category': 'Non-Methane Hydrocarbons', 'name': 'propane (C3H8)', 'col_1': 'Flask', 'year': 'Multiple'}\\n{'category': 'Non-Methane Hydrocarbons', 'name': 'ethane (C2H6)', 'col_1': 'Flask', 'year': 'Multiple'}\", 'Column': 'col_1', 'type': 'type'}\n",
      "\n",
      "\n"
     ]
    }
   ],
   "source": [
    "print(WebTable.iloc[42,0])"
   ]
  }
 ],
 "metadata": {
  "kernelspec": {
   "display_name": "deepspeed",
   "language": "python",
   "name": "python3"
  },
  "language_info": {
   "codemirror_mode": {
    "name": "ipython",
    "version": 3
   },
   "file_extension": ".py",
   "mimetype": "text/x-python",
   "name": "python",
   "nbconvert_exporter": "python",
   "pygments_lexer": "ipython3",
   "version": "3.12.4"
  }
 },
 "nbformat": 4,
 "nbformat_minor": 2
}

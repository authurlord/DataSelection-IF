{
 "cells": [
  {
   "cell_type": "code",
   "execution_count": null,
   "metadata": {},
   "outputs": [],
   "source": [
    "### 计算ppl"
   ]
  },
  {
   "cell_type": "code",
   "execution_count": null,
   "metadata": {
    "vscode": {
     "languageId": "shellscript"
    }
   },
   "outputs": [],
   "source": [
    "CUDA_VISIBLE_DEVICES=6 python cal_ppl.py \\\n",
    "--model_name_or_path /data/home/wangys/model/qwen-2.5-7B \\\n",
    "--tokenized_path ER/Amazon-Google-Full  \\\n",
    "--template qwen \\\n",
    "--save_name ppl/ppl_qwen2.5-7B-AG-Full.json \\\n",
    "--batch_size 4 \\ \n",
    "--stage sft"
   ]
  },
  {
   "cell_type": "code",
   "execution_count": null,
   "metadata": {
    "vscode": {
     "languageId": "shellscript"
    }
   },
   "outputs": [],
   "source": [
    "CUDA_VISIBLE_DEVICES=6 python cal_ppl.py --model_name_or_path /data/home/wangys/model/qwen-2.5-7B --tokenized_path ER/Amazon-Google-Full  --template qwen --save_name ppl/ppl_qwen2.5-7B-AG-Full.json --batch_size 4 --stage sft"
   ]
  },
  {
   "cell_type": "code",
   "execution_count": null,
   "metadata": {
    "vscode": {
     "languageId": "shellscript"
    }
   },
   "outputs": [],
   "source": [
    "CUDA_VISIBLE_DEVICES=5 python cal_ppl.py --model_name_or_path /data/home/wangys/model/qwen-2.5-7B --train_file_path /data/home/wangys/transfer-er/Pipeline/Abt-Buy/LLM_file/Abt-Buy-Train-Match-P1.json  --template qwen --save_name ppl/ppl_qwen2.5-7B-AG.json --batch_size 4 --stage sft"
   ]
  },
  {
   "cell_type": "code",
   "execution_count": null,
   "metadata": {
    "vscode": {
     "languageId": "shellscript"
    }
   },
   "outputs": [],
   "source": [
    "CUDA_VISIBLE_DEVICES=5 python cal_ppl.py --model_name_or_path /data/home/wangys/model/Qwen2.5-0.5B-Instruct --train_file_path /data/home/wangys/MELD/dataset/CTA/SimTab_Train_few.json  --template qwen --save_name ppl/CTA/ppl_qwen0.5-7B-SimTab.json --batch_size 4 --stage sft"
   ]
  },
  {
   "cell_type": "code",
   "execution_count": null,
   "metadata": {
    "vscode": {
     "languageId": "shellscript"
    }
   },
   "outputs": [],
   "source": [
    "python vllm_inference_mistral_api.py --model_path /data/home/wangys/model/Mistral-7B-Instruct-v0.2 --directory lora/mistral-7B/CTA/WebTable/select/ --gpu_num 8 --file /data/home/wangys/MELD/dataset/CTA/SimTab_test_few.json --json"
   ]
  },
  {
   "cell_type": "markdown",
   "metadata": {},
   "source": [
    "_load_single_dataset() llamafactory/data/loader.py：修改load_dataset()的方法\n",
    "local_path = os.path.join(data_args.dataset_dir, dataset_attr.dataset_name) ## 加载本地文件，默认为json?\n",
    "加入一个File_Path"
   ]
  },
  {
   "cell_type": "code",
   "execution_count": null,
   "metadata": {
    "vscode": {
     "languageId": "shellscript"
    }
   },
   "outputs": [],
   "source": [
    "CUDA_VISIBLE_DEVICES=6 python cal_ppl.py --model_name_or_path /data/home/wangys/model/qwen-2.5-7B --train_file_path /data/home/wangys/transfer-er/Pipeline/Abt-Buy/LLM_file/Abt-Buy-Train-Match-P1-short.json  --template qwen --save_name ppl_qwen2.5-7B-AG-noIF.json --batch_size 4 --stage sft --cutoff_len 512 "
   ]
  },
  {
   "cell_type": "markdown",
   "metadata": {},
   "source": [
    "### Calculate IDF with small model"
   ]
  },
  {
   "cell_type": "code",
   "execution_count": null,
   "metadata": {
    "vscode": {
     "languageId": "shellscript"
    }
   },
   "outputs": [],
   "source": [
    "CUDA_VISIBLE_DEVICES=5 python cal_IF.py --model_name_or_path /data/home/wangys/model/Qwen2.5-0.5B-Instruct --train_file_path /data/home/wangys/transfer-er/Pipeline/Abt-Buy/LLM_file/Abt-Buy-Train-Match-P1-short.json  --template qwen --save_name ppl_qwen2.5-0.5B-AB-short --batch_size 4 --stage sft  --grad_name grad-qwen2.5-0.5B-AB-short"
   ]
  },
  {
   "cell_type": "code",
   "execution_count": null,
   "metadata": {
    "vscode": {
     "languageId": "shellscript"
    }
   },
   "outputs": [],
   "source": [
    "CUDA_VISIBLE_DEVICES=6 python cal_IF.py --model_name_or_path /data/home/wangys/model/Qwen2.5-0.5B-Instruct --train_file_path /data/home/wangys/transfer-er/Pipeline/Abt-Buy/LLM_file/Abt-Buy-Train-Match-P1.json  --template qwen --save_name ppl_qwen2.5-0.5B-AB --batch_size 4 --stage sft  --grad_name grad-qwen2.5-0.5B-AB"
   ]
  },
  {
   "cell_type": "code",
   "execution_count": null,
   "metadata": {
    "vscode": {
     "languageId": "shellscript"
    }
   },
   "outputs": [],
   "source": [
    "CUDA_VISIBLE_DEVICES=6 python cal_IF.py --model_name_or_path /data/home/wangys/model/Qwen2.5-0.5B-Instruct --train_file_path /data/home/wangys/transfer-er/Pipeline/Amazon-Google/LLM_file/Amazon-Google-Train-Match-P1-wo-RAG.json  --template qwen --save_name ppl_qwen2.5-0.5B-AG-short --batch_size 4 --stage sft  --grad_name grad-qwen2.5-0.5B-AG-short"
   ]
  },
  {
   "cell_type": "code",
   "execution_count": null,
   "metadata": {
    "vscode": {
     "languageId": "shellscript"
    }
   },
   "outputs": [],
   "source": [
    "CUDA_VISIBLE_DEVICES=6 python cal_IF.py --model_name_or_path /data/home/wangys/model/Qwen2.5-0.5B-Instruct --train_file_path /data/home/wangys/transfer-er/Pipeline/Amazon-Google/LLM_file/Amazon-Google-Train-Match-P1-wo-RAG.json  --template qwen --save_name ppl_qwen2.5-0.5B-AG-short --batch_size 4 --stage sft  --grad_name grad-qwen2.5-0.5B-AG-short"
   ]
  },
  {
   "cell_type": "code",
   "execution_count": null,
   "metadata": {
    "vscode": {
     "languageId": "shellscript"
    }
   },
   "outputs": [],
   "source": [
    "## train"
   ]
  },
  {
   "cell_type": "code",
   "execution_count": null,
   "metadata": {
    "vscode": {
     "languageId": "shellscript"
    }
   },
   "outputs": [],
   "source": [
    "CUDA_VISIBLE_DEVICES=4,5,6 llamafactory-cli train script/qwen_lora_Abt-Buy-Match-P1.yaml"
   ]
  },
  {
   "cell_type": "code",
   "execution_count": null,
   "metadata": {
    "vscode": {
     "languageId": "shellscript"
    }
   },
   "outputs": [],
   "source": [
    "CUDA_VISIBLE_DEVICES=4,5,6 llamafactory-cli train script/mistral_lora_Abt-Buy-Match-P2.yaml"
   ]
  },
  {
   "cell_type": "markdown",
   "metadata": {},
   "source": [
    "### VLLM inference for performance"
   ]
  },
  {
   "cell_type": "code",
   "execution_count": null,
   "metadata": {
    "vscode": {
     "languageId": "shellscript"
    }
   },
   "outputs": [],
   "source": [
    "CUDA_VISIBLE_DEVICES=5 python vllm_inference_mistral_api.py --model_path /data/home/wangys/model/Qwen2.5-0.5B-Instruct --directory lora/qwen-0.5B/AG-init-short --gpu_num 1 --file /data/home/wangys/transfer-er/Pipeline/Amazon-Google/LLM_file/Amazon-Google-Test-Match-wo-RAG.json --json"
   ]
  },
  {
   "cell_type": "code",
   "execution_count": null,
   "metadata": {
    "vscode": {
     "languageId": "shellscript"
    }
   },
   "outputs": [],
   "source": [
    "CUDA_VISIBLE_DEVICES=4,5 python vllm_inference_mistral_api.py --model_path /data/home/wangys/model/Mistral-7B-Instruct-v0.2 --directory lora/mistral-7B/CTA/SimTab/select --gpu_num 2 --file /data/home/wangys/MELD/dataset/CTA/SimTab_test_few.json --json"
   ]
  },
  {
   "cell_type": "code",
   "execution_count": null,
   "metadata": {
    "vscode": {
     "languageId": "shellscript"
    }
   },
   "outputs": [],
   "source": [
    "CUDA_VISIBLE_DEVICES=5,6 python vllm_inference_mistral_api.py --model_path /data/home/wangys/model/Mistral-7B-Instruct-v0.2 --directory lora/mistral-7B/AG-p2-short --gpu_num 2 --file /data/home/wangys/transfer-er/Pipeline/Amazon-Google/LLM_file/Amazon-Google-Test-Match-wo-RAG.json --json"
   ]
  },
  {
   "cell_type": "code",
   "execution_count": null,
   "metadata": {
    "vscode": {
     "languageId": "shellscript"
    }
   },
   "outputs": [],
   "source": [
    "CUDA_VISIBLE_DEVICES=5,6 python vllm_inference_mistral_api.py --model_path /data/home/wangys/model/Qwen2.5-0.5B-Instruct --directory lora/qwen-0.5B/CTA/SimTab-P1 --gpu_num 2 --file /data/home/wangys/MELD/dataset/CTA/SimTab_test_few.json --json "
   ]
  },
  {
   "cell_type": "code",
   "execution_count": null,
   "metadata": {
    "vscode": {
     "languageId": "shellscript"
    }
   },
   "outputs": [],
   "source": [
    "CUDA_VISIBLE_DEVICES=5,6 python vllm_inference_mistral_api.py --model_path /data/home/wangys/model/Qwen2.5-0.5B-Instruct --directory lora/qwen-0.5B/CTA/SimTab-P1 --gpu_num 2 --file /data/home/wangys/MELD/dataset/CTA/SimTab_test_few.json --json "
   ]
  },
  {
   "cell_type": "markdown",
   "metadata": {},
   "source": [
    "cargo run --release --features --example perplexity -- --model-id /data/home/wangys/model/Mistral-7B-Instruct-v0.2 --file wiki.test_mini.raw --isq q4k"
   ]
  },
  {
   "cell_type": "markdown",
   "metadata": {},
   "source": [
    "## train"
   ]
  },
  {
   "cell_type": "code",
   "execution_count": null,
   "metadata": {
    "vscode": {
     "languageId": "shellscript"
    }
   },
   "outputs": [],
   "source": [
    "CUDA_VISIBLE_DEVICES=6 python cal_IF_self_divide.py --model_name_or_path /data/home/wangys/model/Qwen2.5-0.5B-Instruct --train_file_path /data/home/wangys/transfer-er/Pipeline/Amazon-Google/LLM_file/Amazon-Google-Train-Match-P1-wo-RAG.json  --template qwen --save_name ppl_qwen2.5-0.5B-AG-short-p2 --batch_size 4 --stage sft  --grad_name grad-qwen2.5-0.5B-AG-short-p2 --adapter_name_or_path lora/qwen-0.5B/AG-init-short"
   ]
  },
  {
   "cell_type": "code",
   "execution_count": null,
   "metadata": {
    "vscode": {
     "languageId": "shellscript"
    }
   },
   "outputs": [],
   "source": [
    "CUDA_VISIBLE_DEVICES=6 python cal_IF_self_divide.py --model_name_or_path /data/home/wangys/model/Qwen2.5-0.5B-Instruct --train_file_path /data/home/wangys/transfer-er/Pipeline/Amazon-Google/LLM_file/Amazon-Google-Train-Match-P1-wo-RAG.json  --template qwen --save_name ppl_qwen2.5-0.5B-AG-short-p2 --batch_size 4 --stage sft  --grad_name grad-qwen2.5-0.5B-AG-short-p2 --adapter_name_or_path lora/qwen-0.5B/AG-init-short --eval_file_path train/AG-train-init.json"
   ]
  },
  {
   "cell_type": "code",
   "execution_count": null,
   "metadata": {
    "vscode": {
     "languageId": "shellscript"
    }
   },
   "outputs": [],
   "source": [
    "CUDA_VISIBLE_DEVICES=6 python cal_ppl.py --model_name_or_path /data/home/wangys/model/Qwen2.5-0.5B-Instruct --train_file_path /data/home/wangys/transfer-er/Pipeline/Amazon-Google/LLM_file/Amazon-Google-Train-Match-P1-wo-RAG.json  --template qwen --save_name ppl_qwen2.5-0.5B-AG-short-p2 --batch_size 4 --stage sft  --grad_name grad-qwen2.5-0.5B-AG-short-p2 --adapter_name_or_path lora/qwen-0.5B/AG-init-short"
   ]
  },
  {
   "cell_type": "markdown",
   "metadata": {},
   "source": [
    "## IF Calculation"
   ]
  },
  {
   "cell_type": "code",
   "execution_count": null,
   "metadata": {
    "vscode": {
     "languageId": "shellscript"
    }
   },
   "outputs": [],
   "source": [
    "python IF_Cal.py --tr_grad grad/grad-qwen2.5-0.5B-AG-short-p2.pkl --tr_index grad/grad-qwen2.5-0.5B-AG-short-p2_index.pkl --val_grad grad/grad-qwen2.5-0.5B-AG-short-p2_eval.pkl --device cuda:6 "
   ]
  },
  {
   "cell_type": "code",
   "execution_count": null,
   "metadata": {
    "vscode": {
     "languageId": "shellscript"
    }
   },
   "outputs": [],
   "source": [
    "CUDA_VISIBLE_DEVICES=5,6 python vllm_inference_mistral_api.py --model_path /data/home/wangys/model/Mistral-7B-Instruct-v0.2 --directory /data/home/wangys/MELD/lora_weight/expert/semi_text_w-MoE-Add --gpu_num 2 --file /data/home/wangys/MELD/dataset/ER/semi-text-w-test-MoE.json --json"
   ]
  },
  {
   "cell_type": "markdown",
   "metadata": {},
   "source": [
    "## Calculate Influence Function on multi-process"
   ]
  },
  {
   "cell_type": "code",
   "execution_count": null,
   "metadata": {
    "vscode": {
     "languageId": "shellscript"
    }
   },
   "outputs": [],
   "source": [
    "python IF_Cal_mp.py  --device cuda:4 --task CTA --dataset SimTab --save_all_layers"
   ]
  }
 ],
 "metadata": {
  "kernelspec": {
   "display_name": "deepspeed",
   "language": "python",
   "name": "python3"
  },
  "language_info": {
   "codemirror_mode": {
    "name": "ipython",
    "version": 3
   },
   "file_extension": ".py",
   "mimetype": "text/x-python",
   "name": "python",
   "nbconvert_exporter": "python",
   "pygments_lexer": "ipython3",
   "version": "3.12.4"
  }
 },
 "nbformat": 4,
 "nbformat_minor": 2
}

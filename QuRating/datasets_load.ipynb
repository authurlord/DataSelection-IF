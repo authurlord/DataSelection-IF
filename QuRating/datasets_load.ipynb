{
 "cells": [
  {
   "cell_type": "code",
   "execution_count": 1,
   "metadata": {},
   "outputs": [],
   "source": [
    "from datasets import load_dataset,load_from_disk\n",
    "\n",
    "ds = load_from_disk(\"/data/home/wangys/DataSelection-IF/QuRating/QuRating-Data/QuRating-GPT3.5-Judgments/train/\")"
   ]
  },
  {
   "cell_type": "code",
   "execution_count": null,
   "metadata": {},
   "outputs": [],
   "source": [
    "ds"
   ]
  },
  {
   "cell_type": "code",
   "execution_count": 3,
   "metadata": {},
   "outputs": [
    {
     "data": {
      "application/vnd.jupyter.widget-view+json": {
       "model_id": "c1652de60eed4a4aa5340b17ee57cb3d",
       "version_major": 2,
       "version_minor": 0
      },
      "text/plain": [
       "Saving the dataset (0/2 shards):   0%|          | 0/237500 [00:00<?, ? examples/s]"
      ]
     },
     "metadata": {},
     "output_type": "display_data"
    },
    {
     "data": {
      "application/vnd.jupyter.widget-view+json": {
       "model_id": "1b2803639be44adf9b0baea7632a23df",
       "version_major": 2,
       "version_minor": 0
      },
      "text/plain": [
       "Saving the dataset (0/1 shards):   0%|          | 0/12500 [00:00<?, ? examples/s]"
      ]
     },
     "metadata": {},
     "output_type": "display_data"
    }
   ],
   "source": [
    "split_ds = ds.train_test_split(test_size=0.05, seed=42)\n",
    "split_ds.save_to_disk('QuRating-Data/split')"
   ]
  },
  {
   "cell_type": "code",
   "execution_count": null,
   "metadata": {
    "vscode": {
     "languageId": "shellscript"
    }
   },
   "outputs": [],
   "source": [
    "WANDB_DISABLED=True CUDA_VISIBLE_DEVICES=6 torchrun     --nnodes=1     --nproc-per-node=1     -m training.train_language_model     --do_train     --config_name /data/home/wangys/model/QuRating-1.3B     --config_overrides \"\"     --tokenizer_name /data/home/wangys/model/QuRating-1.3B     --run_name QuRating-model     --output_dir checkpoints     --log_level info     --logging_steps 1     --disable_tqdm false     --save_steps 1000     --cache_dir .cache     --overwrite_output_dir     --dataloader_num_workers 8     --num_train_epochs 1     --per_device_train_batch_size 4     --gradient_accumulation_steps 128     --learning_rate 1e-5     --lr_scheduler_type cosine     --min_lr_ratio 0.1     --max_grad_norm 1.0     --adam_beta1 0.9     --adam_beta2 0.95     --weight_decay 0.1     --warmup_ratio 0.05     --bf16     --bf16_full_eval     --fsdp auto_wrap     --ddp_find_unused_parameters false     --tokenized_train_dataset /data/home/wangys/DataSelection-IF/QuRating/QuRating-Data/QuRating-GPT3.5-Judgments"
   ]
  }
 ],
 "metadata": {
  "kernelspec": {
   "display_name": "deepspeed",
   "language": "python",
   "name": "python3"
  },
  "language_info": {
   "codemirror_mode": {
    "name": "ipython",
    "version": 3
   },
   "file_extension": ".py",
   "mimetype": "text/x-python",
   "name": "python",
   "nbconvert_exporter": "python",
   "pygments_lexer": "ipython3",
   "version": "3.10.0"
  }
 },
 "nbformat": 4,
 "nbformat_minor": 2
}

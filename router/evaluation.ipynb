{
 "cells": [
  {
   "cell_type": "code",
   "execution_count": 1,
   "metadata": {},
   "outputs": [],
   "source": [
    "import numpy as np\n",
    "import pandas as pd\n",
    "from tqdm.notebook import tqdm\n",
    "import ast\n",
    "import sys\n",
    "sys.path.append('../src')\n",
    "# from dataloader import create_dataloaders\n",
    "from evaluation import evaluation\n",
    "evaluator = evaluation()"
   ]
  },
  {
   "cell_type": "code",
   "execution_count": 2,
   "metadata": {},
   "outputs": [],
   "source": [
    "result = pd.read_csv('../train/router/test_guided_MoE.csv',index_col=0)"
   ]
  },
  {
   "cell_type": "code",
   "execution_count": 2,
   "metadata": {},
   "outputs": [],
   "source": [
    "SimTab_test = pd.read_csv('../inference_Transfer_ER/--SimTab_test_few.csv',index_col=0)"
   ]
  },
  {
   "cell_type": "code",
   "execution_count": 2,
   "metadata": {},
   "outputs": [],
   "source": [
    "SimTab_test = pd.read_csv('../inference_Transfer_ER/--WebTable_Test_few.csv',index_col=0)"
   ]
  },
  {
   "cell_type": "code",
   "execution_count": 2,
   "metadata": {},
   "outputs": [],
   "source": [
    "SimTab_test = pd.read_csv('../inference_Transfer_ER/--RE-test.csv',index_col=0)"
   ]
  },
  {
   "cell_type": "code",
   "execution_count": 2,
   "metadata": {},
   "outputs": [],
   "source": [
    "SimTab_test = pd.read_csv('../inference_Transfer_ER/select--rayyan-test.csv',index_col=0)"
   ]
  },
  {
   "cell_type": "code",
   "execution_count": 2,
   "metadata": {},
   "outputs": [],
   "source": [
    "SimTab_test = pd.read_csv('../inference_Transfer_ER/--beer-test-20.csv',index_col=0)"
   ]
  },
  {
   "cell_type": "code",
   "execution_count": 2,
   "metadata": {},
   "outputs": [],
   "source": [
    "hospital_result = pd.read_csv('../inference_Transfer_ER/select--hospital-test.csv',index_col=0) ## \n",
    "# count = 0"
   ]
  },
  {
   "cell_type": "code",
   "execution_count": 13,
   "metadata": {},
   "outputs": [],
   "source": [
    "# walmart_test = pd.read_csv('../inference_Transfer_ER/select--walmart-test.csv',index_col=0)\n",
    "# walmart_test = pd.read_csv('../inference_Transfer_ER/select--walmart-test.csv',index_col=0)\n",
    "# walmart_test = pd.read_csv('/data/home/wangys/LLaMA-Factory-main/inference/Mistral|restaurant_train-MoE-Add/mistral-7b-restaurant_test_output_wide.csv',index_col=0)\n",
    "ave_train = pd.read_csv('../inference_Transfer_ER/select--oa_mine-test.csv',index_col=0)"
   ]
  },
  {
   "cell_type": "code",
   "execution_count": 10,
   "metadata": {},
   "outputs": [],
   "source": [
    "task = 'ER'\n",
    "dataset = 'wdc'\n",
    "select_df = result[(result['task']==task) & (result['dataset']==dataset)]"
   ]
  },
  {
   "cell_type": "code",
   "execution_count": 12,
   "metadata": {},
   "outputs": [
    {
     "name": "stdout",
     "output_type": "stream",
     "text": [
      "Precision:0.2723965438835834\n",
      "\n",
      "Recall:1.0\n",
      "\n",
      "F1:0.4281629735525375\n"
     ]
    }
   ],
   "source": [
    "\n",
    "evaluator.process(task,dataset,select_df)"
   ]
  }
 ],
 "metadata": {
  "kernelspec": {
   "display_name": "deepspeed",
   "language": "python",
   "name": "python3"
  },
  "language_info": {
   "codemirror_mode": {
    "name": "ipython",
    "version": 3
   },
   "file_extension": ".py",
   "mimetype": "text/x-python",
   "name": "python",
   "nbconvert_exporter": "python",
   "pygments_lexer": "ipython3",
   "version": "3.12.4"
  }
 },
 "nbformat": 4,
 "nbformat_minor": 2
}

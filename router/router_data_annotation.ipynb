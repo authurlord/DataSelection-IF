{
 "cells": [
  {
   "cell_type": "code",
   "execution_count": 11,
   "metadata": {},
   "outputs": [],
   "source": [
    "import numpy as np\n",
    "import pandas as pd\n",
    "import os\n",
    "from tqdm.notebook import tqdm"
   ]
  },
  {
   "cell_type": "code",
   "execution_count": 21,
   "metadata": {},
   "outputs": [],
   "source": [
    "file_path_list = {}\n",
    "file_path_list['AVE'] = {}\n",
    "file_path_list['CTA'] = {}\n",
    "file_path_list['DC'] = {}\n",
    "file_path_list['DI'] = {}\n",
    "file_path_list['ER'] = {}\n",
    "file_path_list['RE'] = {}\n",
    "file_path_list['SM'] = {}"
   ]
  },
  {
   "cell_type": "code",
   "execution_count": 27,
   "metadata": {},
   "outputs": [],
   "source": [
    "file_path_list['AVE']['oa_mine'] = '/data/home/wangys/MELD/dataset/AVE/oa_mine_train_small.json'\n",
    "file_path_list['CTA']['SimTab'] = '/data/home/wangys/MELD/dataset/CTA/SimTab_Train_few.json'\n",
    "# file_path_list['CTA']['WebTable'] = '/data/home/wangys/MELD/dataset/CTA/webtable_train_few.json' ## selected-file\n",
    "file_path_list['CTA']['WebTable'] = '/data/home/wangys/DataSelection-IF/train/CTA/WebTable/WebTable-train.json'\n",
    "\n",
    "file_path_list['DC']['hospital'] = '/data/home/wangys/MELD/dataset/DC/hospital-train-MoE.json'\n",
    "file_path_list['DC']['rayyan'] = '/data/home/wangys/MELD/dataset/DC/rayyan-train-MoE.json'\n",
    "file_path_list['DC']['beer'] = '/data/home/wangys/MELD/dataset/DC/beer-train-MoE.json'\n",
    "# file_path_list['RE']['RE'] = '/data/home/wangys/MELD/dataset/RE/RE-train.json' ## selected-file\n",
    "file_path_list['RE']['RE'] = '/data/home/wangys/DataSelection-IF/train/RE/RE-train.json'"
   ]
  },
  {
   "cell_type": "code",
   "execution_count": 23,
   "metadata": {},
   "outputs": [],
   "source": [
    "file_path_list['DI']['amazon'] = '/data/home/wangys/MELD/dataset/DI/amazon_train_output_wide.json'\n",
    "file_path_list['DI']['walmart'] = '/data/home/wangys/MELD/dataset/DI/walmart_train_output_wide.json'\n",
    "file_path_list['DI']['restaurant'] = '/data/home/wangys/MELD/dataset/DI/restaurant_train_output_wide.json'"
   ]
  },
  {
   "cell_type": "code",
   "execution_count": 24,
   "metadata": {},
   "outputs": [],
   "source": [
    "file_path_list['ER']['semi-text-w'] = '/data/home/wangys/MELD/dataset/ER/semi-text-w-train-MoE.json'\n",
    "file_path_list['ER']['semi-text-c'] = '/data/home/wangys/MELD/dataset/ER/semi-text-c-train-MoE.json'\n",
    "file_path_list['ER']['amazon-google'] = '/data/home/wangys/MELD/dataset/ER/amazon-google-train.json'\n",
    "file_path_list['ER']['walmart-amazon'] = '/data/home/wangys/MELD/dataset/ER/walmart_amazon_train_output.json'\n",
    "file_path_list['ER']['wdc'] = '/data/home/wangys/MELD/dataset/ER/wdc_all_train_output.json'\n",
    "file_path_list['ER']['abt-buy'] = '/data/home/wangys/MELD/dataset/ER/ant_buy_train_output.json'\n",
    "file_path_list['SM']['CMS'] = '/data/home/wangys/MELD/dataset/SM/CMS_train_few_output.json'\n",
    "file_path_list['SM']['synthea'] = '/data/home/wangys/MELD/dataset/SM/synthea_train_few_output.json'"
   ]
  },
  {
   "cell_type": "code",
   "execution_count": null,
   "metadata": {},
   "outputs": [],
   "source": [
    "df_all = pd.DataFrame()\n",
    "for task in tqdm(file_path_list):\n",
    "    for dataset in file_path_list[task].keys():\n",
    "        raw_file = pd.read_json(file_path_list[task][dataset])\n",
    "        # raw_file\n",
    "        ppl_array = np.zeros(len(raw_file))\n",
    "        for process_num in range(1,9,1): ## maximum of k process\n",
    "            if os.path.exists('../ppl/{}/{}/ppl-init-{}.csv'.format(task,dataset,process_num)): ## i-th gradient \n",
    "                ppl_df = pd.read_csv('../ppl/{}/{}/ppl-init-{}.csv'.format(task,dataset,process_num),index_col=0)\n",
    "                for index,row in ppl_df.iterrows():\n",
    "                    ppl_array[index] = row[0]\n",
    "        if np.sum(ppl_array)>10: ## 存在Ppl结果\n",
    "            top_k = np.argsort(ppl_array)[::-1][:200]\n",
    "            df_select = raw_file.iloc[top_k].reset_index(drop=True)\n",
    "        else:\n",
    "            print('ppl do not exist for {}/{}'.format(task,dataset))\n",
    "            df_select = raw_file.sample(n=200,random_state=42).reset_index(drop=True)\n",
    "        df_select = df_select.iloc[:,:3]\n",
    "        df_select.columns = ['instruction','input','output']\n",
    "        df_select['task'] = task\n",
    "        df_select['dataset'] = dataset\n",
    "        df_all = pd.concat([df_all,df_select])"
   ]
  },
  {
   "cell_type": "code",
   "execution_count": 42,
   "metadata": {},
   "outputs": [],
   "source": [
    "df_all.to_csv('../train/router/train.csv')"
   ]
  },
  {
   "cell_type": "markdown",
   "metadata": {},
   "source": [
    "## Expert List for Query"
   ]
  },
  {
   "cell_type": "code",
   "execution_count": 43,
   "metadata": {},
   "outputs": [],
   "source": [
    "expert_path_list = {}\n",
    "expert_path_list['AVE'] = {}\n",
    "expert_path_list['CTA'] = {}\n",
    "expert_path_list['DC'] = {}\n",
    "expert_path_list['DI'] = {}\n",
    "expert_path_list['ER'] = {}\n",
    "expert_path_list['RE'] = {}\n",
    "expert_path_list['SM'] = {}"
   ]
  },
  {
   "cell_type": "code",
   "execution_count": 44,
   "metadata": {},
   "outputs": [],
   "source": [
    "expert_path_list['AVE']['oa_mine'] = '/data/home/wangys/LLaMA-Factory-main/lora_weight/oa_mine/oa_mine_train_small'\n",
    "expert_path_list['CTA']['SimTab'] = '/data/home/wangys/MELD/lora_weight/expert/CTA_SimTab_train_init'\n",
    "expert_path_list['CTA']['WebTable'] = '/data/home/wangys/MELD/lora_weight/expert/CTA_WebTable_train_init'\n",
    "\n",
    "expert_path_list['DC']['hospital'] = '/data/home/wangys/MELD/lora_weight/expert/hospital_train-MoE-Add'\n",
    "expert_path_list['DC']['rayyan'] = '/data/home/wangys/MELD/lora_weight/expert/rayyan_train-MoE-Add'\n",
    "expert_path_list['DC']['beer'] = '/data/home/wangys/MELD/lora_weight/expert/beer_train-MoE-Add'\n",
    "expert_path_list['RE']['RE'] = '/data/home/wangys/MELD/lora_weight/expert/RE-MoE-Add'"
   ]
  },
  {
   "cell_type": "code",
   "execution_count": 45,
   "metadata": {},
   "outputs": [],
   "source": [
    "expert_path_list['DI']['amazon'] = '/data/home/wangys/MELD/lora_weight/expert/amazon_train-MoE-Add'\n",
    "expert_path_list['DI']['walmart'] = '/data/home/wangys/MELD/lora_weight/expert/walmart_train-MoE-Add'\n",
    "expert_path_list['DI']['restaurant'] = '/data/home/wangys/MELD/lora_weight/expert/restaurant_train-MoE-Add'"
   ]
  },
  {
   "cell_type": "code",
   "execution_count": 47,
   "metadata": {},
   "outputs": [],
   "source": [
    "expert_path_list['ER']['semi-text-w'] = '/data/home/wangys/MELD/lora_weight/expert/semi_text_w-MoE-Add'\n",
    "expert_path_list['ER']['semi-text-c'] = '/data/home/wangys/MELD/lora_weight/expert/semi_text_c-MoE-Add'\n",
    "expert_path_list['ER']['amazon-google'] = '/data/home/wangys/MELD/lora_weight/expert/amazon_google-MoE-Add'\n",
    "expert_path_list['ER']['walmart-amazon'] = '/data/home/wangys/MELD/lora_weight/expert/walmart_amazon-MoE-Add'\n",
    "expert_path_list['ER']['wdc'] = '/data/home/wangys/MELD/lora_weight/expert/wdc_all-MoE-Add'\n",
    "expert_path_list['ER']['abt-buy'] = '/data/home/wangys/MELD/lora_weight/expert/ant_buy-MoE-Add'\n",
    "expert_path_list['SM']['CMS'] = '/data/home/wangys/MELD/lora_weight/expert/CMS_train-MoE-Add'\n",
    "expert_path_list['SM']['synthea'] = '/data/home/wangys/MELD/lora_weight/expert/synthea_train-MoE-Add'"
   ]
  }
 ],
 "metadata": {
  "kernelspec": {
   "display_name": "deepspeed",
   "language": "python",
   "name": "python3"
  },
  "language_info": {
   "codemirror_mode": {
    "name": "ipython",
    "version": 3
   },
   "file_extension": ".py",
   "mimetype": "text/x-python",
   "name": "python",
   "nbconvert_exporter": "python",
   "pygments_lexer": "ipython3",
   "version": "3.12.4"
  }
 },
 "nbformat": 4,
 "nbformat_minor": 2
}

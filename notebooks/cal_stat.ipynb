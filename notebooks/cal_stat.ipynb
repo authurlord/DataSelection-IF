{
 "cells": [
  {
   "cell_type": "code",
   "execution_count": 2,
   "metadata": {},
   "outputs": [],
   "source": [
    "import pandas as pd\n",
    "import numpy as np"
   ]
  },
  {
   "cell_type": "markdown",
   "metadata": {},
   "source": [
    "## SimTab"
   ]
  },
  {
   "cell_type": "code",
   "execution_count": 3,
   "metadata": {},
   "outputs": [
    {
     "data": {
      "text/plain": [
       "(6369, 995)"
      ]
     },
     "execution_count": 3,
     "metadata": {},
     "output_type": "execute_result"
    }
   ],
   "source": [
    "original_train = pd.read_json('/data/home/wangys/MELD/dataset/CTA/SimTab_Train_few.json')\n",
    "selection_train = pd.read_json('/data/home/wangys/DataSelection-IF/train/CTA/SimTab/train-select.json')\n",
    "len(original_train),len(selection_train)"
   ]
  },
  {
   "cell_type": "code",
   "execution_count": 7,
   "metadata": {},
   "outputs": [
    {
     "data": {
      "text/plain": [
       "(14856, 3915)"
      ]
     },
     "execution_count": 7,
     "metadata": {},
     "output_type": "execute_result"
    }
   ],
   "source": [
    "original_train = pd.read_json('/data/home/wangys/DataSelection-IF/train/CTA/WebTable/WebTable-train.json')\n",
    "selection_train = pd.read_json('/data/home/wangys/DataSelection-IF/train/CTA/WebTable/train-select.json')\n",
    "len(original_train),len(selection_train)"
   ]
  },
  {
   "cell_type": "code",
   "execution_count": 8,
   "metadata": {},
   "outputs": [
    {
     "data": {
      "text/plain": [
       "(6657, 1944)"
      ]
     },
     "execution_count": 8,
     "metadata": {},
     "output_type": "execute_result"
    }
   ],
   "source": [
    "original_train = pd.read_json('/data/home/wangys/DataSelection-IF/train/RE/RE-train.json')\n",
    "selection_train = pd.read_json('/data/home/wangys/DataSelection-IF/train/RE/RE/train-select.json')\n",
    "len(original_train),len(selection_train)"
   ]
  },
  {
   "cell_type": "code",
   "execution_count": 22,
   "metadata": {},
   "outputs": [
    {
     "data": {
      "text/plain": [
       "(1443, 488)"
      ]
     },
     "execution_count": 22,
     "metadata": {},
     "output_type": "execute_result"
    }
   ],
   "source": [
    "task = 'AVE'\n",
    "dataset_name = 'oa_mine'\n",
    "original_train = pd.read_json('/data/home/wangys/DataSelection-IF/train/{}/{}/{}-train.json'.format(task,dataset_name,dataset_name))\n",
    "selection_train = pd.read_json('/data/home/wangys/DataSelection-IF/train/{}/{}/train-select.json'.format(task,dataset_name))\n",
    "len(original_train),len(selection_train)"
   ]
  }
 ],
 "metadata": {
  "kernelspec": {
   "display_name": "deepspeed",
   "language": "python",
   "name": "python3"
  },
  "language_info": {
   "codemirror_mode": {
    "name": "ipython",
    "version": 3
   },
   "file_extension": ".py",
   "mimetype": "text/x-python",
   "name": "python",
   "nbconvert_exporter": "python",
   "pygments_lexer": "ipython3",
   "version": "3.12.4"
  }
 },
 "nbformat": 4,
 "nbformat_minor": 2
}

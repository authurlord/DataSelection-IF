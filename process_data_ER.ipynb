{
 "cells": [
  {
   "cell_type": "code",
   "execution_count": 1,
   "metadata": {},
   "outputs": [],
   "source": [
    "import pandas as pd\n",
    "import numpy as np"
   ]
  },
  {
   "cell_type": "code",
   "execution_count": 2,
   "metadata": {},
   "outputs": [],
   "source": [
    "train = pd.read_json('/data/home/wangys/transfer-er/Pipeline/Abt-Buy/LLM_file/Abt-Buy-Train-Match-P1.json')"
   ]
  },
  {
   "cell_type": "code",
   "execution_count": 21,
   "metadata": {},
   "outputs": [],
   "source": [
    "test = pd.read_json('/data/home/wangys/transfer-er/Pipeline/Abt-Buy/LLM_file/Abt-Buy-Test-Match.json')"
   ]
  },
  {
   "cell_type": "code",
   "execution_count": 8,
   "metadata": {},
   "outputs": [],
   "source": [
    "# print(train.iloc[3,0].split('at the final judgement.')[1].split('Take these examples as reference:')[0])\n",
    "def cut_input_length(row):\n",
    "    input = row['instruction']\n",
    "    output = input.split('at the final judgement.')[1].split('Take these examples as reference:')[0]\n",
    "    return output\n",
    "train['instruction'] = train.apply(cut_input_length,axis=1)"
   ]
  },
  {
   "cell_type": "code",
   "execution_count": 22,
   "metadata": {},
   "outputs": [],
   "source": [
    "test['instruction'] = test.apply(cut_input_length,axis=1)"
   ]
  },
  {
   "cell_type": "code",
   "execution_count": 10,
   "metadata": {},
   "outputs": [
    {
     "data": {
      "application/vnd.jupyter.widget-view+json": {
       "model_id": "a3dc9dd834dd4e869dba12fef86b2020",
       "version_major": 2,
       "version_minor": 0
      },
      "text/plain": [
       "  0%|          | 0/2457 [00:00<?, ?it/s]"
      ]
     },
     "metadata": {},
     "output_type": "display_data"
    },
    {
     "name": "stdout",
     "output_type": "stream",
     "text": [
      "Token Lengths: 717\n"
     ]
    }
   ],
   "source": [
    "from transformers import RobertaTokenizer\n",
    "import pandas as pd\n",
    "from tqdm.notebook import tqdm\n",
    "# prompt_opt = pd.read_json('/home/yanmy/LLM_ER/data/dblp-acm/feature_align/dblp-acm-train-dpo.json') ## replace with your training file\n",
    "\n",
    "tokenizer = RobertaTokenizer.from_pretrained('../roberta-base/') ## replace with any LM\n",
    "\n",
    "\n",
    "token_lengths = [len(tokenizer.encode(text, add_special_tokens=True)) for text in tqdm(train.iloc[:,0].to_list())]\n",
    "\n",
    "print(\"Token Lengths:\", max(token_lengths))"
   ]
  },
  {
   "cell_type": "code",
   "execution_count": 20,
   "metadata": {},
   "outputs": [],
   "source": [
    "import json\n",
    "json.dump(train.to_dict(orient='records'), open('/data/home/wangys/transfer-er/Pipeline/Abt-Buy/LLM_file/Abt-Buy-Train-Match-P1-short.json', 'w', encoding='utf-8'), ensure_ascii=False, indent=4)"
   ]
  },
  {
   "cell_type": "code",
   "execution_count": null,
   "metadata": {},
   "outputs": [],
   "source": [
    "import json\n",
    "json.dump(test.to_dict(orient='records'), open('/data/home/wangys/transfer-er/Pipeline/Abt-Buy/LLM_file/Abt-Buy-Test-short.json', 'w', encoding='utf-8'), ensure_ascii=False, indent=4)"
   ]
  },
  {
   "cell_type": "markdown",
   "metadata": {},
   "source": [
    "### CTA from here"
   ]
  },
  {
   "cell_type": "code",
   "execution_count": 2,
   "metadata": {},
   "outputs": [],
   "source": [
    "SimTab = pd.read_json('/data/home/wangys/MELD/dataset/CTA/SimTab_Train_few.json')"
   ]
  },
  {
   "cell_type": "code",
   "execution_count": 6,
   "metadata": {},
   "outputs": [],
   "source": [
    "WebTable = pd.read_json('/data/home/wangys/MELD/dataset/CTA/webtable_train_few.json')"
   ]
  },
  {
   "cell_type": "code",
   "execution_count": 14,
   "metadata": {},
   "outputs": [],
   "source": [
    "text = SimTab.iloc[42,0]\n",
    "text = text.split('Table 1:\\n\\n')[1].split('\\n\\nReference tables:')[0]\n",
    "# text\n",
    "# eval(text)"
   ]
  },
  {
   "cell_type": "code",
   "execution_count": 49,
   "metadata": {},
   "outputs": [],
   "source": [
    "import json_repair\n",
    "context_list = []\n",
    "target_list = []\n",
    "label_list = []\n",
    "for i in range(len(SimTab)):\n",
    "    text = SimTab.iloc[i,0]\n",
    "    label = list(eval(SimTab.iloc[i,2]).values())[0]\n",
    "    label_list.append(label) ## add label\n",
    "    context = text.split('Table 1:\\n\\n')[1].split('\\n\\nReference tables:')[0].split('\\n')\n",
    "    context_list.append(context) ## add context\n",
    "    \n",
    "    target = text.split('\\n\\nColumn: ')[1].split('\\n\\nOptions:')[0]\n",
    "    related_context = []\n",
    "    for candidate in context:\n",
    "        try:\n",
    "            dict_output = eval(candidate)\n",
    "            related_context.append(dict_output[target])\n",
    "        except:\n",
    "            print('fail')\n",
    "            print(dict_output.keys(),target)\n",
    "    target_list.append(str({target:related_context}))\n",
    "    # label = text.split('Options:\\n\\n')[1].split('\\n\\nOutput Format Example:')[0]\n",
    "    \n",
    "    # dict_output = json_repair.repair_json(text)"
   ]
  },
  {
   "cell_type": "markdown",
   "metadata": {},
   "source": [
    "## 修改Embedding函数，embedding为context/target/label的concat"
   ]
  }
 ],
 "metadata": {
  "kernelspec": {
   "display_name": "deepspeed",
   "language": "python",
   "name": "python3"
  },
  "language_info": {
   "codemirror_mode": {
    "name": "ipython",
    "version": 3
   },
   "file_extension": ".py",
   "mimetype": "text/x-python",
   "name": "python",
   "nbconvert_exporter": "python",
   "pygments_lexer": "ipython3",
   "version": "3.12.4"
  }
 },
 "nbformat": 4,
 "nbformat_minor": 2
}
